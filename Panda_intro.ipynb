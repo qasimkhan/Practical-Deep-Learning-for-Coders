{
 "cells": [
  {
   "cell_type": "markdown",
   "id": "6c3f9d2c-875a-4050-b25e-4f7fc0662289",
   "metadata": {},
   "source": [
    "[10 mins to Panda - Tutorial](https://pandas.pydata.org/docs/user_guide/10min.html#minutes-to-pandas)"
   ]
  },
  {
   "cell_type": "code",
   "execution_count": 1,
   "id": "254af852-4441-4f99-a6cf-a9f72c565ea1",
   "metadata": {},
   "outputs": [],
   "source": [
    "import numpy as np\n",
    "\n",
    "import pandas as pd"
   ]
  },
  {
   "cell_type": "markdown",
   "id": "ca420b48-bbd1-4da8-be42-ed8d47934362",
   "metadata": {},
   "source": [
    "Pandas provides two types of classes for handling data:\n",
    "\n",
    "```Series:``` a one-dimensional labeled array holding data of any type\n",
    "such as integers, strings, Python objects etc.\n",
    "\n",
    "```DataFrame:``` a two-dimensional data structure that holds data like a two-dimension array or a table with rows and columns."
   ]
  },
  {
   "cell_type": "markdown",
   "id": "3fc8ee6f-f182-4876-b20e-9eb25cfd8593",
   "metadata": {},
   "source": [
    "Creating a ```Series``` by passing a list of values, letting pandas create a default ```RangeIndex```."
   ]
  },
  {
   "cell_type": "code",
   "execution_count": 3,
   "id": "074cf10e-dd77-41cc-af41-de6418379675",
   "metadata": {},
   "outputs": [
    {
     "data": {
      "text/plain": [
       "0    1.0\n",
       "1    3.0\n",
       "2    5.0\n",
       "3    NaN\n",
       "4    6.0\n",
       "5    8.0\n",
       "dtype: float64"
      ]
     },
     "execution_count": 3,
     "metadata": {},
     "output_type": "execute_result"
    }
   ],
   "source": [
    "s = pd.Series([1, 3, 5, np.nan, 6, 8])\n",
    "s"
   ]
  },
  {
   "cell_type": "markdown",
   "id": "ceaaad8c-f17c-4bff-b7c3-3595f8a7558b",
   "metadata": {},
   "source": [
    "Creating a ```DataFrame``` by passing a NumPy array with a datetime index using ```date_range()``` and labeled columns:"
   ]
  },
  {
   "cell_type": "code",
   "execution_count": 4,
   "id": "83ff9723-f329-4e7b-be33-0931298a8d99",
   "metadata": {},
   "outputs": [
    {
     "data": {
      "text/plain": [
       "DatetimeIndex(['2025-01-01', '2025-01-02', '2025-01-03', '2025-01-04',\n",
       "               '2025-01-05', '2025-01-06'],\n",
       "              dtype='datetime64[ns]', freq='D')"
      ]
     },
     "execution_count": 4,
     "metadata": {},
     "output_type": "execute_result"
    }
   ],
   "source": [
    "dates = pd.date_range(\"20250101\", periods=6)\n",
    "dates"
   ]
  },
  {
   "cell_type": "code",
   "execution_count": 5,
   "id": "14432738-1918-46a1-a4b5-b2f913205547",
   "metadata": {},
   "outputs": [
    {
     "data": {
      "text/html": [
       "<div>\n",
       "<style scoped>\n",
       "    .dataframe tbody tr th:only-of-type {\n",
       "        vertical-align: middle;\n",
       "    }\n",
       "\n",
       "    .dataframe tbody tr th {\n",
       "        vertical-align: top;\n",
       "    }\n",
       "\n",
       "    .dataframe thead th {\n",
       "        text-align: right;\n",
       "    }\n",
       "</style>\n",
       "<table border=\"1\" class=\"dataframe\">\n",
       "  <thead>\n",
       "    <tr style=\"text-align: right;\">\n",
       "      <th></th>\n",
       "      <th>A</th>\n",
       "      <th>B</th>\n",
       "      <th>C</th>\n",
       "      <th>D</th>\n",
       "    </tr>\n",
       "  </thead>\n",
       "  <tbody>\n",
       "    <tr>\n",
       "      <th>2025-01-01</th>\n",
       "      <td>1.057288</td>\n",
       "      <td>1.347022</td>\n",
       "      <td>-1.098558</td>\n",
       "      <td>-2.044356</td>\n",
       "    </tr>\n",
       "    <tr>\n",
       "      <th>2025-01-02</th>\n",
       "      <td>1.354330</td>\n",
       "      <td>1.239620</td>\n",
       "      <td>0.873275</td>\n",
       "      <td>2.142095</td>\n",
       "    </tr>\n",
       "    <tr>\n",
       "      <th>2025-01-03</th>\n",
       "      <td>1.468160</td>\n",
       "      <td>0.184803</td>\n",
       "      <td>1.037846</td>\n",
       "      <td>-0.059944</td>\n",
       "    </tr>\n",
       "    <tr>\n",
       "      <th>2025-01-04</th>\n",
       "      <td>0.953387</td>\n",
       "      <td>0.224895</td>\n",
       "      <td>0.229933</td>\n",
       "      <td>1.638036</td>\n",
       "    </tr>\n",
       "    <tr>\n",
       "      <th>2025-01-05</th>\n",
       "      <td>0.546557</td>\n",
       "      <td>-0.252911</td>\n",
       "      <td>0.214980</td>\n",
       "      <td>1.566067</td>\n",
       "    </tr>\n",
       "    <tr>\n",
       "      <th>2025-01-06</th>\n",
       "      <td>0.910378</td>\n",
       "      <td>0.072719</td>\n",
       "      <td>1.091743</td>\n",
       "      <td>1.528250</td>\n",
       "    </tr>\n",
       "  </tbody>\n",
       "</table>\n",
       "</div>"
      ],
      "text/plain": [
       "                   A         B         C         D\n",
       "2025-01-01  1.057288  1.347022 -1.098558 -2.044356\n",
       "2025-01-02  1.354330  1.239620  0.873275  2.142095\n",
       "2025-01-03  1.468160  0.184803  1.037846 -0.059944\n",
       "2025-01-04  0.953387  0.224895  0.229933  1.638036\n",
       "2025-01-05  0.546557 -0.252911  0.214980  1.566067\n",
       "2025-01-06  0.910378  0.072719  1.091743  1.528250"
      ]
     },
     "execution_count": 5,
     "metadata": {},
     "output_type": "execute_result"
    }
   ],
   "source": [
    "df = pd.DataFrame(np.random.randn(6, 4), index=dates, columns=list(\"ABCD\"))\n",
    "df"
   ]
  },
  {
   "cell_type": "markdown",
   "id": "d5086985-e9ae-4775-8eb5-232fc28dd68f",
   "metadata": {},
   "source": [
    "Creating a ```DataFrame``` by passing a dictionary of objects where the keys are the column labels and the values are the column values."
   ]
  },
  {
   "cell_type": "code",
   "execution_count": 17,
   "id": "c1d1a663-c703-44fb-8a87-911384cfa7e2",
   "metadata": {},
   "outputs": [
    {
     "data": {
      "text/plain": [
       "(     A          B    C  D      E    F\n",
       " 0  1.0 2025-01-02  1.0  3   test  foo\n",
       " 1  1.0 2025-01-02  1.0  3  train  foo\n",
       " 2  1.0 2025-01-02  1.0  3   test  foo\n",
       " 3  1.0 2025-01-02  1.0  3  train  foo,\n",
       " A          float64\n",
       " B    datetime64[s]\n",
       " C          float32\n",
       " D            int32\n",
       " E         category\n",
       " F           object\n",
       " dtype: object)"
      ]
     },
     "execution_count": 17,
     "metadata": {},
     "output_type": "execute_result"
    }
   ],
   "source": [
    "df2 = pd.DataFrame(\n",
    "    {\n",
    "        \"A\": 1.0,\n",
    "        \"B\": pd.Timestamp(\"20250102\"),\n",
    "        \"C\": pd.Series(1, index=list(range(4)), dtype=\"float32\"),\n",
    "        \"D\": np.array([3] * 4, dtype=\"int32\"),\n",
    "        \"E\": pd.Categorical([\"test\", \"train\", \"test\", \"train\"]),\n",
    "        \"F\": \"foo\",\n",
    "    }\n",
    ")\n",
    "df2, df2.dtypes"
   ]
  },
  {
   "cell_type": "markdown",
   "id": "98b87dc6-ed3c-4dbe-8c04-42cd897eb356",
   "metadata": {},
   "source": [
    "__Viewing data__\n",
    "\n",
    "Use ```DataFrame.head()``` and ```DataFrame.tail()``` to view the top and bottom rows of the frame respectively:"
   ]
  },
  {
   "cell_type": "code",
   "execution_count": 23,
   "id": "9faa6775-ec0a-4018-8818-003d84b57e35",
   "metadata": {},
   "outputs": [
    {
     "data": {
      "text/plain": [
       "(                   A         B         C         D\n",
       " 2025-01-01  1.057288  1.347022 -1.098558 -2.044356,\n",
       "                    A         B         C        D\n",
       " 2025-01-06  0.910378  0.072719  1.091743  1.52825,\n",
       " DatetimeIndex(['2025-01-01', '2025-01-02', '2025-01-03', '2025-01-04',\n",
       "                '2025-01-05', '2025-01-06'],\n",
       "               dtype='datetime64[ns]', freq='D'),\n",
       " Index(['A', 'B', 'C', 'D'], dtype='object'))"
      ]
     },
     "execution_count": 23,
     "metadata": {},
     "output_type": "execute_result"
    }
   ],
   "source": [
    "df.head(1), df.tail(1), df.index, df.columns"
   ]
  },
  {
   "cell_type": "markdown",
   "id": "2ca2cc8b-72c6-4533-86dd-bae2bfa792cc",
   "metadata": {},
   "source": [
    "Return a ```NumPy``` representation of the underlying data with ```DataFrame.to_numpy()``` without the index or column labels:"
   ]
  },
  {
   "cell_type": "code",
   "execution_count": 24,
   "id": "946fcd8e-9c8a-46bc-a310-1e85d0f0561b",
   "metadata": {},
   "outputs": [
    {
     "data": {
      "text/plain": [
       "array([[ 1.05728833,  1.34702213, -1.09855755, -2.04435614],\n",
       "       [ 1.35433033,  1.23962022,  0.87327513,  2.1420949 ],\n",
       "       [ 1.46815953,  0.1848028 ,  1.03784554, -0.05994445],\n",
       "       [ 0.95338732,  0.22489483,  0.22993286,  1.6380356 ],\n",
       "       [ 0.54655726, -0.25291108,  0.21497978,  1.56606653],\n",
       "       [ 0.91037803,  0.07271887,  1.09174301,  1.52825009]])"
      ]
     },
     "execution_count": 24,
     "metadata": {},
     "output_type": "execute_result"
    }
   ],
   "source": [
    "df.to_numpy()"
   ]
  },
  {
   "cell_type": "markdown",
   "id": "18f2ba14-ac2a-40e8-a5c8-d05c681a8396",
   "metadata": {},
   "source": [
    "```describe()``` shows a quick statistic summary of your data:"
   ]
  },
  {
   "cell_type": "code",
   "execution_count": 26,
   "id": "3a4ce6fd-16a5-4fc4-af57-b2560db24d9b",
   "metadata": {},
   "outputs": [
    {
     "data": {
      "text/html": [
       "<div>\n",
       "<style scoped>\n",
       "    .dataframe tbody tr th:only-of-type {\n",
       "        vertical-align: middle;\n",
       "    }\n",
       "\n",
       "    .dataframe tbody tr th {\n",
       "        vertical-align: top;\n",
       "    }\n",
       "\n",
       "    .dataframe thead th {\n",
       "        text-align: right;\n",
       "    }\n",
       "</style>\n",
       "<table border=\"1\" class=\"dataframe\">\n",
       "  <thead>\n",
       "    <tr style=\"text-align: right;\">\n",
       "      <th></th>\n",
       "      <th>A</th>\n",
       "      <th>B</th>\n",
       "      <th>C</th>\n",
       "      <th>D</th>\n",
       "    </tr>\n",
       "  </thead>\n",
       "  <tbody>\n",
       "    <tr>\n",
       "      <th>count</th>\n",
       "      <td>6.000000</td>\n",
       "      <td>6.000000</td>\n",
       "      <td>6.000000</td>\n",
       "      <td>6.000000</td>\n",
       "    </tr>\n",
       "    <tr>\n",
       "      <th>mean</th>\n",
       "      <td>1.048350</td>\n",
       "      <td>0.469358</td>\n",
       "      <td>0.391536</td>\n",
       "      <td>0.795024</td>\n",
       "    </tr>\n",
       "    <tr>\n",
       "      <th>std</th>\n",
       "      <td>0.331600</td>\n",
       "      <td>0.660807</td>\n",
       "      <td>0.826770</td>\n",
       "      <td>1.578002</td>\n",
       "    </tr>\n",
       "    <tr>\n",
       "      <th>min</th>\n",
       "      <td>0.546557</td>\n",
       "      <td>-0.252911</td>\n",
       "      <td>-1.098558</td>\n",
       "      <td>-2.044356</td>\n",
       "    </tr>\n",
       "    <tr>\n",
       "      <th>25%</th>\n",
       "      <td>0.921130</td>\n",
       "      <td>0.100740</td>\n",
       "      <td>0.218718</td>\n",
       "      <td>0.337104</td>\n",
       "    </tr>\n",
       "    <tr>\n",
       "      <th>50%</th>\n",
       "      <td>1.005338</td>\n",
       "      <td>0.204849</td>\n",
       "      <td>0.551604</td>\n",
       "      <td>1.547158</td>\n",
       "    </tr>\n",
       "    <tr>\n",
       "      <th>75%</th>\n",
       "      <td>1.280070</td>\n",
       "      <td>0.985939</td>\n",
       "      <td>0.996703</td>\n",
       "      <td>1.620043</td>\n",
       "    </tr>\n",
       "    <tr>\n",
       "      <th>max</th>\n",
       "      <td>1.468160</td>\n",
       "      <td>1.347022</td>\n",
       "      <td>1.091743</td>\n",
       "      <td>2.142095</td>\n",
       "    </tr>\n",
       "  </tbody>\n",
       "</table>\n",
       "</div>"
      ],
      "text/plain": [
       "              A         B         C         D\n",
       "count  6.000000  6.000000  6.000000  6.000000\n",
       "mean   1.048350  0.469358  0.391536  0.795024\n",
       "std    0.331600  0.660807  0.826770  1.578002\n",
       "min    0.546557 -0.252911 -1.098558 -2.044356\n",
       "25%    0.921130  0.100740  0.218718  0.337104\n",
       "50%    1.005338  0.204849  0.551604  1.547158\n",
       "75%    1.280070  0.985939  0.996703  1.620043\n",
       "max    1.468160  1.347022  1.091743  2.142095"
      ]
     },
     "execution_count": 26,
     "metadata": {},
     "output_type": "execute_result"
    }
   ],
   "source": [
    "df.describe()"
   ]
  },
  {
   "cell_type": "code",
   "execution_count": 27,
   "id": "ccaf933f-2202-4ef6-a587-58054a80bc29",
   "metadata": {},
   "outputs": [
    {
     "data": {
      "text/html": [
       "<div>\n",
       "<style scoped>\n",
       "    .dataframe tbody tr th:only-of-type {\n",
       "        vertical-align: middle;\n",
       "    }\n",
       "\n",
       "    .dataframe tbody tr th {\n",
       "        vertical-align: top;\n",
       "    }\n",
       "\n",
       "    .dataframe thead th {\n",
       "        text-align: right;\n",
       "    }\n",
       "</style>\n",
       "<table border=\"1\" class=\"dataframe\">\n",
       "  <thead>\n",
       "    <tr style=\"text-align: right;\">\n",
       "      <th></th>\n",
       "      <th>2025-01-01</th>\n",
       "      <th>2025-01-02</th>\n",
       "      <th>2025-01-03</th>\n",
       "      <th>2025-01-04</th>\n",
       "      <th>2025-01-05</th>\n",
       "      <th>2025-01-06</th>\n",
       "    </tr>\n",
       "  </thead>\n",
       "  <tbody>\n",
       "    <tr>\n",
       "      <th>A</th>\n",
       "      <td>1.057288</td>\n",
       "      <td>1.354330</td>\n",
       "      <td>1.468160</td>\n",
       "      <td>0.953387</td>\n",
       "      <td>0.546557</td>\n",
       "      <td>0.910378</td>\n",
       "    </tr>\n",
       "    <tr>\n",
       "      <th>B</th>\n",
       "      <td>1.347022</td>\n",
       "      <td>1.239620</td>\n",
       "      <td>0.184803</td>\n",
       "      <td>0.224895</td>\n",
       "      <td>-0.252911</td>\n",
       "      <td>0.072719</td>\n",
       "    </tr>\n",
       "    <tr>\n",
       "      <th>C</th>\n",
       "      <td>-1.098558</td>\n",
       "      <td>0.873275</td>\n",
       "      <td>1.037846</td>\n",
       "      <td>0.229933</td>\n",
       "      <td>0.214980</td>\n",
       "      <td>1.091743</td>\n",
       "    </tr>\n",
       "    <tr>\n",
       "      <th>D</th>\n",
       "      <td>-2.044356</td>\n",
       "      <td>2.142095</td>\n",
       "      <td>-0.059944</td>\n",
       "      <td>1.638036</td>\n",
       "      <td>1.566067</td>\n",
       "      <td>1.528250</td>\n",
       "    </tr>\n",
       "  </tbody>\n",
       "</table>\n",
       "</div>"
      ],
      "text/plain": [
       "   2025-01-01  2025-01-02  2025-01-03  2025-01-04  2025-01-05  2025-01-06\n",
       "A    1.057288    1.354330    1.468160    0.953387    0.546557    0.910378\n",
       "B    1.347022    1.239620    0.184803    0.224895   -0.252911    0.072719\n",
       "C   -1.098558    0.873275    1.037846    0.229933    0.214980    1.091743\n",
       "D   -2.044356    2.142095   -0.059944    1.638036    1.566067    1.528250"
      ]
     },
     "execution_count": 27,
     "metadata": {},
     "output_type": "execute_result"
    }
   ],
   "source": [
    "#Transposing your data\n",
    "df.T"
   ]
  },
  {
   "cell_type": "code",
   "execution_count": 29,
   "id": "72462a92-c9d5-4e1b-9c47-39a790e77b6a",
   "metadata": {},
   "outputs": [
    {
     "data": {
      "text/html": [
       "<div>\n",
       "<style scoped>\n",
       "    .dataframe tbody tr th:only-of-type {\n",
       "        vertical-align: middle;\n",
       "    }\n",
       "\n",
       "    .dataframe tbody tr th {\n",
       "        vertical-align: top;\n",
       "    }\n",
       "\n",
       "    .dataframe thead th {\n",
       "        text-align: right;\n",
       "    }\n",
       "</style>\n",
       "<table border=\"1\" class=\"dataframe\">\n",
       "  <thead>\n",
       "    <tr style=\"text-align: right;\">\n",
       "      <th></th>\n",
       "      <th>D</th>\n",
       "      <th>C</th>\n",
       "      <th>B</th>\n",
       "      <th>A</th>\n",
       "    </tr>\n",
       "  </thead>\n",
       "  <tbody>\n",
       "    <tr>\n",
       "      <th>2025-01-01</th>\n",
       "      <td>-2.044356</td>\n",
       "      <td>-1.098558</td>\n",
       "      <td>1.347022</td>\n",
       "      <td>1.057288</td>\n",
       "    </tr>\n",
       "    <tr>\n",
       "      <th>2025-01-02</th>\n",
       "      <td>2.142095</td>\n",
       "      <td>0.873275</td>\n",
       "      <td>1.239620</td>\n",
       "      <td>1.354330</td>\n",
       "    </tr>\n",
       "    <tr>\n",
       "      <th>2025-01-03</th>\n",
       "      <td>-0.059944</td>\n",
       "      <td>1.037846</td>\n",
       "      <td>0.184803</td>\n",
       "      <td>1.468160</td>\n",
       "    </tr>\n",
       "    <tr>\n",
       "      <th>2025-01-04</th>\n",
       "      <td>1.638036</td>\n",
       "      <td>0.229933</td>\n",
       "      <td>0.224895</td>\n",
       "      <td>0.953387</td>\n",
       "    </tr>\n",
       "    <tr>\n",
       "      <th>2025-01-05</th>\n",
       "      <td>1.566067</td>\n",
       "      <td>0.214980</td>\n",
       "      <td>-0.252911</td>\n",
       "      <td>0.546557</td>\n",
       "    </tr>\n",
       "    <tr>\n",
       "      <th>2025-01-06</th>\n",
       "      <td>1.528250</td>\n",
       "      <td>1.091743</td>\n",
       "      <td>0.072719</td>\n",
       "      <td>0.910378</td>\n",
       "    </tr>\n",
       "  </tbody>\n",
       "</table>\n",
       "</div>"
      ],
      "text/plain": [
       "                   D         C         B         A\n",
       "2025-01-01 -2.044356 -1.098558  1.347022  1.057288\n",
       "2025-01-02  2.142095  0.873275  1.239620  1.354330\n",
       "2025-01-03 -0.059944  1.037846  0.184803  1.468160\n",
       "2025-01-04  1.638036  0.229933  0.224895  0.953387\n",
       "2025-01-05  1.566067  0.214980 -0.252911  0.546557\n",
       "2025-01-06  1.528250  1.091743  0.072719  0.910378"
      ]
     },
     "execution_count": 29,
     "metadata": {},
     "output_type": "execute_result"
    }
   ],
   "source": [
    "#DataFrame.sort_index() sorts by an axis:\n",
    "df.sort_index(axis=1, ascending=False)"
   ]
  },
  {
   "cell_type": "code",
   "execution_count": 30,
   "id": "97898087-a2b0-4b8a-ac17-c40cf0b9d6d7",
   "metadata": {},
   "outputs": [
    {
     "data": {
      "text/html": [
       "<div>\n",
       "<style scoped>\n",
       "    .dataframe tbody tr th:only-of-type {\n",
       "        vertical-align: middle;\n",
       "    }\n",
       "\n",
       "    .dataframe tbody tr th {\n",
       "        vertical-align: top;\n",
       "    }\n",
       "\n",
       "    .dataframe thead th {\n",
       "        text-align: right;\n",
       "    }\n",
       "</style>\n",
       "<table border=\"1\" class=\"dataframe\">\n",
       "  <thead>\n",
       "    <tr style=\"text-align: right;\">\n",
       "      <th></th>\n",
       "      <th>A</th>\n",
       "      <th>B</th>\n",
       "      <th>C</th>\n",
       "      <th>D</th>\n",
       "    </tr>\n",
       "  </thead>\n",
       "  <tbody>\n",
       "    <tr>\n",
       "      <th>2025-01-05</th>\n",
       "      <td>0.546557</td>\n",
       "      <td>-0.252911</td>\n",
       "      <td>0.214980</td>\n",
       "      <td>1.566067</td>\n",
       "    </tr>\n",
       "    <tr>\n",
       "      <th>2025-01-06</th>\n",
       "      <td>0.910378</td>\n",
       "      <td>0.072719</td>\n",
       "      <td>1.091743</td>\n",
       "      <td>1.528250</td>\n",
       "    </tr>\n",
       "    <tr>\n",
       "      <th>2025-01-03</th>\n",
       "      <td>1.468160</td>\n",
       "      <td>0.184803</td>\n",
       "      <td>1.037846</td>\n",
       "      <td>-0.059944</td>\n",
       "    </tr>\n",
       "    <tr>\n",
       "      <th>2025-01-04</th>\n",
       "      <td>0.953387</td>\n",
       "      <td>0.224895</td>\n",
       "      <td>0.229933</td>\n",
       "      <td>1.638036</td>\n",
       "    </tr>\n",
       "    <tr>\n",
       "      <th>2025-01-02</th>\n",
       "      <td>1.354330</td>\n",
       "      <td>1.239620</td>\n",
       "      <td>0.873275</td>\n",
       "      <td>2.142095</td>\n",
       "    </tr>\n",
       "    <tr>\n",
       "      <th>2025-01-01</th>\n",
       "      <td>1.057288</td>\n",
       "      <td>1.347022</td>\n",
       "      <td>-1.098558</td>\n",
       "      <td>-2.044356</td>\n",
       "    </tr>\n",
       "  </tbody>\n",
       "</table>\n",
       "</div>"
      ],
      "text/plain": [
       "                   A         B         C         D\n",
       "2025-01-05  0.546557 -0.252911  0.214980  1.566067\n",
       "2025-01-06  0.910378  0.072719  1.091743  1.528250\n",
       "2025-01-03  1.468160  0.184803  1.037846 -0.059944\n",
       "2025-01-04  0.953387  0.224895  0.229933  1.638036\n",
       "2025-01-02  1.354330  1.239620  0.873275  2.142095\n",
       "2025-01-01  1.057288  1.347022 -1.098558 -2.044356"
      ]
     },
     "execution_count": 30,
     "metadata": {},
     "output_type": "execute_result"
    }
   ],
   "source": [
    "#DataFrame.sort_values() sorts by values:\n",
    "df.sort_values(by=\"B\")"
   ]
  },
  {
   "cell_type": "markdown",
   "id": "6b5c64a9-59fb-4e06-9865-6caf620931a8",
   "metadata": {},
   "source": [
    "__Getitem ([])__\n",
    "\n",
    "For a ```DataFrame```, passing a single label selects a columns and yields a ```Series``` equivalent to ```df.A```:"
   ]
  },
  {
   "cell_type": "code",
   "execution_count": 36,
   "id": "9c0d57f0-dd96-469a-ada6-95e964310a07",
   "metadata": {},
   "outputs": [
    {
     "data": {
      "text/plain": [
       "(2025-01-01    1.347022\n",
       " 2025-01-02    1.239620\n",
       " 2025-01-03    0.184803\n",
       " 2025-01-04    0.224895\n",
       " 2025-01-05   -0.252911\n",
       " 2025-01-06    0.072719\n",
       " Freq: D, Name: B, dtype: float64,\n",
       "                    A         B         C         D\n",
       " 2025-01-01  1.057288  1.347022 -1.098558 -2.044356\n",
       " 2025-01-02  1.354330  1.239620  0.873275  2.142095\n",
       " 2025-01-03  1.468160  0.184803  1.037846 -0.059944,\n",
       "                    A         B         C         D\n",
       " 2025-01-05  0.546557 -0.252911  0.214980  1.566067\n",
       " 2025-01-06  0.910378  0.072719  1.091743  1.528250)"
      ]
     },
     "execution_count": 36,
     "metadata": {},
     "output_type": "execute_result"
    }
   ],
   "source": [
    "df[\"B\"], df[0:3], df[\"2025-01-05\":\"2025-01-06\"]"
   ]
  },
  {
   "cell_type": "code",
   "execution_count": 38,
   "id": "ed935a83-c3a7-415e-a708-b1235b54ae71",
   "metadata": {},
   "outputs": [
    {
     "data": {
      "text/plain": [
       "A    1.057288\n",
       "B    1.347022\n",
       "C   -1.098558\n",
       "D   -2.044356\n",
       "Name: 2025-01-01 00:00:00, dtype: float64"
      ]
     },
     "execution_count": 38,
     "metadata": {},
     "output_type": "execute_result"
    }
   ],
   "source": [
    "# Selecting a row matching a label:\n",
    "\n",
    "df.loc[dates[0]]"
   ]
  },
  {
   "cell_type": "code",
   "execution_count": 39,
   "id": "b2333b28-2140-413c-a703-92c028ce5342",
   "metadata": {},
   "outputs": [
    {
     "data": {
      "text/html": [
       "<div>\n",
       "<style scoped>\n",
       "    .dataframe tbody tr th:only-of-type {\n",
       "        vertical-align: middle;\n",
       "    }\n",
       "\n",
       "    .dataframe tbody tr th {\n",
       "        vertical-align: top;\n",
       "    }\n",
       "\n",
       "    .dataframe thead th {\n",
       "        text-align: right;\n",
       "    }\n",
       "</style>\n",
       "<table border=\"1\" class=\"dataframe\">\n",
       "  <thead>\n",
       "    <tr style=\"text-align: right;\">\n",
       "      <th></th>\n",
       "      <th>A</th>\n",
       "      <th>B</th>\n",
       "    </tr>\n",
       "  </thead>\n",
       "  <tbody>\n",
       "    <tr>\n",
       "      <th>2025-01-01</th>\n",
       "      <td>1.057288</td>\n",
       "      <td>1.347022</td>\n",
       "    </tr>\n",
       "    <tr>\n",
       "      <th>2025-01-02</th>\n",
       "      <td>1.354330</td>\n",
       "      <td>1.239620</td>\n",
       "    </tr>\n",
       "    <tr>\n",
       "      <th>2025-01-03</th>\n",
       "      <td>1.468160</td>\n",
       "      <td>0.184803</td>\n",
       "    </tr>\n",
       "    <tr>\n",
       "      <th>2025-01-04</th>\n",
       "      <td>0.953387</td>\n",
       "      <td>0.224895</td>\n",
       "    </tr>\n",
       "    <tr>\n",
       "      <th>2025-01-05</th>\n",
       "      <td>0.546557</td>\n",
       "      <td>-0.252911</td>\n",
       "    </tr>\n",
       "    <tr>\n",
       "      <th>2025-01-06</th>\n",
       "      <td>0.910378</td>\n",
       "      <td>0.072719</td>\n",
       "    </tr>\n",
       "  </tbody>\n",
       "</table>\n",
       "</div>"
      ],
      "text/plain": [
       "                   A         B\n",
       "2025-01-01  1.057288  1.347022\n",
       "2025-01-02  1.354330  1.239620\n",
       "2025-01-03  1.468160  0.184803\n",
       "2025-01-04  0.953387  0.224895\n",
       "2025-01-05  0.546557 -0.252911\n",
       "2025-01-06  0.910378  0.072719"
      ]
     },
     "execution_count": 39,
     "metadata": {},
     "output_type": "execute_result"
    }
   ],
   "source": [
    "# Selecting all rows (:) with a select column labels:\n",
    "\n",
    "df.loc[:, [\"A\", \"B\"]]"
   ]
  },
  {
   "cell_type": "code",
   "execution_count": 42,
   "id": "8c7104f8-7ab7-4d29-ade0-2a173c326ab7",
   "metadata": {},
   "outputs": [
    {
     "data": {
      "text/html": [
       "<div>\n",
       "<style scoped>\n",
       "    .dataframe tbody tr th:only-of-type {\n",
       "        vertical-align: middle;\n",
       "    }\n",
       "\n",
       "    .dataframe tbody tr th {\n",
       "        vertical-align: top;\n",
       "    }\n",
       "\n",
       "    .dataframe thead th {\n",
       "        text-align: right;\n",
       "    }\n",
       "</style>\n",
       "<table border=\"1\" class=\"dataframe\">\n",
       "  <thead>\n",
       "    <tr style=\"text-align: right;\">\n",
       "      <th></th>\n",
       "      <th>A</th>\n",
       "      <th>B</th>\n",
       "    </tr>\n",
       "  </thead>\n",
       "  <tbody>\n",
       "    <tr>\n",
       "      <th>2025-01-02</th>\n",
       "      <td>1.354330</td>\n",
       "      <td>1.239620</td>\n",
       "    </tr>\n",
       "    <tr>\n",
       "      <th>2025-01-03</th>\n",
       "      <td>1.468160</td>\n",
       "      <td>0.184803</td>\n",
       "    </tr>\n",
       "    <tr>\n",
       "      <th>2025-01-04</th>\n",
       "      <td>0.953387</td>\n",
       "      <td>0.224895</td>\n",
       "    </tr>\n",
       "  </tbody>\n",
       "</table>\n",
       "</div>"
      ],
      "text/plain": [
       "                   A         B\n",
       "2025-01-02  1.354330  1.239620\n",
       "2025-01-03  1.468160  0.184803\n",
       "2025-01-04  0.953387  0.224895"
      ]
     },
     "execution_count": 42,
     "metadata": {},
     "output_type": "execute_result"
    }
   ],
   "source": [
    "#For label slicing, both endpoints are included:\n",
    "\n",
    "df.loc[\"20250102\":\"20250104\", [\"A\", \"B\"]]"
   ]
  },
  {
   "cell_type": "code",
   "execution_count": 43,
   "id": "15a65625-35a4-42ff-b914-2bad318e6804",
   "metadata": {},
   "outputs": [
    {
     "data": {
      "text/plain": [
       "np.float64(1.0572883252817198)"
      ]
     },
     "execution_count": 43,
     "metadata": {},
     "output_type": "execute_result"
    }
   ],
   "source": [
    "#Selecting a single row and column label returns a scalar:\n",
    "\n",
    "df.loc[dates[0], \"A\"]"
   ]
  },
  {
   "cell_type": "code",
   "execution_count": 44,
   "id": "ad013c97-8985-4ba8-ab7c-4d4ceb4bfe7b",
   "metadata": {},
   "outputs": [
    {
     "data": {
      "text/plain": [
       "np.float64(1.0572883252817198)"
      ]
     },
     "execution_count": 44,
     "metadata": {},
     "output_type": "execute_result"
    }
   ],
   "source": [
    "#For getting fast access to a scalar (equivalent to the prior method):\n",
    "\n",
    "df.at[dates[0], \"A\"]"
   ]
  },
  {
   "cell_type": "markdown",
   "id": "f165fa80-90ed-46c3-8c03-99577fd73ee8",
   "metadata": {},
   "source": [
    "__Selection by position__\n",
    "\n",
    "Select via the position of the passed integers:"
   ]
  },
  {
   "cell_type": "code",
   "execution_count": 45,
   "id": "494f21e1-5319-4696-b326-c6ef24b4746c",
   "metadata": {},
   "outputs": [
    {
     "data": {
      "text/plain": [
       "A    0.953387\n",
       "B    0.224895\n",
       "C    0.229933\n",
       "D    1.638036\n",
       "Name: 2025-01-04 00:00:00, dtype: float64"
      ]
     },
     "execution_count": 45,
     "metadata": {},
     "output_type": "execute_result"
    }
   ],
   "source": [
    "df.iloc[3]"
   ]
  },
  {
   "cell_type": "code",
   "execution_count": 46,
   "id": "14828928-7b32-4a72-9860-763ad582c623",
   "metadata": {},
   "outputs": [
    {
     "data": {
      "text/html": [
       "<div>\n",
       "<style scoped>\n",
       "    .dataframe tbody tr th:only-of-type {\n",
       "        vertical-align: middle;\n",
       "    }\n",
       "\n",
       "    .dataframe tbody tr th {\n",
       "        vertical-align: top;\n",
       "    }\n",
       "\n",
       "    .dataframe thead th {\n",
       "        text-align: right;\n",
       "    }\n",
       "</style>\n",
       "<table border=\"1\" class=\"dataframe\">\n",
       "  <thead>\n",
       "    <tr style=\"text-align: right;\">\n",
       "      <th></th>\n",
       "      <th>A</th>\n",
       "      <th>B</th>\n",
       "    </tr>\n",
       "  </thead>\n",
       "  <tbody>\n",
       "    <tr>\n",
       "      <th>2025-01-04</th>\n",
       "      <td>0.953387</td>\n",
       "      <td>0.224895</td>\n",
       "    </tr>\n",
       "    <tr>\n",
       "      <th>2025-01-05</th>\n",
       "      <td>0.546557</td>\n",
       "      <td>-0.252911</td>\n",
       "    </tr>\n",
       "  </tbody>\n",
       "</table>\n",
       "</div>"
      ],
      "text/plain": [
       "                   A         B\n",
       "2025-01-04  0.953387  0.224895\n",
       "2025-01-05  0.546557 -0.252911"
      ]
     },
     "execution_count": 46,
     "metadata": {},
     "output_type": "execute_result"
    }
   ],
   "source": [
    "#Integer slices acts similar to NumPy/Python:\n",
    "\n",
    "df.iloc[3:5, 0:2]"
   ]
  },
  {
   "cell_type": "code",
   "execution_count": 48,
   "id": "ac83367e-fc8d-4e5e-bedf-afbed2de63e1",
   "metadata": {},
   "outputs": [
    {
     "data": {
      "text/html": [
       "<div>\n",
       "<style scoped>\n",
       "    .dataframe tbody tr th:only-of-type {\n",
       "        vertical-align: middle;\n",
       "    }\n",
       "\n",
       "    .dataframe tbody tr th {\n",
       "        vertical-align: top;\n",
       "    }\n",
       "\n",
       "    .dataframe thead th {\n",
       "        text-align: right;\n",
       "    }\n",
       "</style>\n",
       "<table border=\"1\" class=\"dataframe\">\n",
       "  <thead>\n",
       "    <tr style=\"text-align: right;\">\n",
       "      <th></th>\n",
       "      <th>A</th>\n",
       "      <th>C</th>\n",
       "    </tr>\n",
       "  </thead>\n",
       "  <tbody>\n",
       "    <tr>\n",
       "      <th>2025-01-02</th>\n",
       "      <td>1.354330</td>\n",
       "      <td>0.873275</td>\n",
       "    </tr>\n",
       "    <tr>\n",
       "      <th>2025-01-03</th>\n",
       "      <td>1.468160</td>\n",
       "      <td>1.037846</td>\n",
       "    </tr>\n",
       "    <tr>\n",
       "      <th>2025-01-05</th>\n",
       "      <td>0.546557</td>\n",
       "      <td>0.214980</td>\n",
       "    </tr>\n",
       "  </tbody>\n",
       "</table>\n",
       "</div>"
      ],
      "text/plain": [
       "                   A         C\n",
       "2025-01-02  1.354330  0.873275\n",
       "2025-01-03  1.468160  1.037846\n",
       "2025-01-05  0.546557  0.214980"
      ]
     },
     "execution_count": 48,
     "metadata": {},
     "output_type": "execute_result"
    }
   ],
   "source": [
    "#Lists of integer position locations:\n",
    "\n",
    "df.iloc[[1, 2, 4], [0, 2]]"
   ]
  },
  {
   "cell_type": "code",
   "execution_count": 49,
   "id": "544d1097-8b59-4a3e-b5c2-72e50c55c94c",
   "metadata": {},
   "outputs": [
    {
     "data": {
      "text/html": [
       "<div>\n",
       "<style scoped>\n",
       "    .dataframe tbody tr th:only-of-type {\n",
       "        vertical-align: middle;\n",
       "    }\n",
       "\n",
       "    .dataframe tbody tr th {\n",
       "        vertical-align: top;\n",
       "    }\n",
       "\n",
       "    .dataframe thead th {\n",
       "        text-align: right;\n",
       "    }\n",
       "</style>\n",
       "<table border=\"1\" class=\"dataframe\">\n",
       "  <thead>\n",
       "    <tr style=\"text-align: right;\">\n",
       "      <th></th>\n",
       "      <th>A</th>\n",
       "      <th>B</th>\n",
       "      <th>C</th>\n",
       "      <th>D</th>\n",
       "    </tr>\n",
       "  </thead>\n",
       "  <tbody>\n",
       "    <tr>\n",
       "      <th>2025-01-02</th>\n",
       "      <td>1.35433</td>\n",
       "      <td>1.239620</td>\n",
       "      <td>0.873275</td>\n",
       "      <td>2.142095</td>\n",
       "    </tr>\n",
       "    <tr>\n",
       "      <th>2025-01-03</th>\n",
       "      <td>1.46816</td>\n",
       "      <td>0.184803</td>\n",
       "      <td>1.037846</td>\n",
       "      <td>-0.059944</td>\n",
       "    </tr>\n",
       "  </tbody>\n",
       "</table>\n",
       "</div>"
      ],
      "text/plain": [
       "                  A         B         C         D\n",
       "2025-01-02  1.35433  1.239620  0.873275  2.142095\n",
       "2025-01-03  1.46816  0.184803  1.037846 -0.059944"
      ]
     },
     "execution_count": 49,
     "metadata": {},
     "output_type": "execute_result"
    }
   ],
   "source": [
    "# For slicing rows explicitly:\n",
    "\n",
    "df.iloc[1:3, :]"
   ]
  },
  {
   "cell_type": "code",
   "execution_count": 50,
   "id": "0fba2e4e-774d-4b25-82cf-9ddbb9d59498",
   "metadata": {},
   "outputs": [
    {
     "data": {
      "text/plain": [
       "np.float64(1.2396202166423163)"
      ]
     },
     "execution_count": 50,
     "metadata": {},
     "output_type": "execute_result"
    }
   ],
   "source": [
    "# For getting a value explicitly:\n",
    "\n",
    "df.iloc[1, 1]"
   ]
  },
  {
   "cell_type": "code",
   "execution_count": 51,
   "id": "0d8a7593-d421-4604-bae4-cd5dfafe4c7c",
   "metadata": {},
   "outputs": [
    {
     "data": {
      "text/plain": [
       "np.float64(1.2396202166423163)"
      ]
     },
     "execution_count": 51,
     "metadata": {},
     "output_type": "execute_result"
    }
   ],
   "source": [
    "# For getting fast access to a scalar (equivalent to the prior method):\n",
    "\n",
    "df.iat[1, 1]"
   ]
  },
  {
   "cell_type": "markdown",
   "id": "f4f92570-3ab2-4439-abc2-4a5a2586fce7",
   "metadata": {},
   "source": [
    "__Boolean indexing__\n",
    "\n",
    "Select rows where ```df.A``` is greater than ```0```"
   ]
  },
  {
   "cell_type": "code",
   "execution_count": 52,
   "id": "20e75bd1-ce75-4df2-82e8-01f8f55c1fe2",
   "metadata": {},
   "outputs": [
    {
     "data": {
      "text/html": [
       "<div>\n",
       "<style scoped>\n",
       "    .dataframe tbody tr th:only-of-type {\n",
       "        vertical-align: middle;\n",
       "    }\n",
       "\n",
       "    .dataframe tbody tr th {\n",
       "        vertical-align: top;\n",
       "    }\n",
       "\n",
       "    .dataframe thead th {\n",
       "        text-align: right;\n",
       "    }\n",
       "</style>\n",
       "<table border=\"1\" class=\"dataframe\">\n",
       "  <thead>\n",
       "    <tr style=\"text-align: right;\">\n",
       "      <th></th>\n",
       "      <th>A</th>\n",
       "      <th>B</th>\n",
       "      <th>C</th>\n",
       "      <th>D</th>\n",
       "    </tr>\n",
       "  </thead>\n",
       "  <tbody>\n",
       "    <tr>\n",
       "      <th>2025-01-01</th>\n",
       "      <td>1.057288</td>\n",
       "      <td>1.347022</td>\n",
       "      <td>-1.098558</td>\n",
       "      <td>-2.044356</td>\n",
       "    </tr>\n",
       "    <tr>\n",
       "      <th>2025-01-02</th>\n",
       "      <td>1.354330</td>\n",
       "      <td>1.239620</td>\n",
       "      <td>0.873275</td>\n",
       "      <td>2.142095</td>\n",
       "    </tr>\n",
       "    <tr>\n",
       "      <th>2025-01-03</th>\n",
       "      <td>1.468160</td>\n",
       "      <td>0.184803</td>\n",
       "      <td>1.037846</td>\n",
       "      <td>-0.059944</td>\n",
       "    </tr>\n",
       "    <tr>\n",
       "      <th>2025-01-04</th>\n",
       "      <td>0.953387</td>\n",
       "      <td>0.224895</td>\n",
       "      <td>0.229933</td>\n",
       "      <td>1.638036</td>\n",
       "    </tr>\n",
       "    <tr>\n",
       "      <th>2025-01-05</th>\n",
       "      <td>0.546557</td>\n",
       "      <td>-0.252911</td>\n",
       "      <td>0.214980</td>\n",
       "      <td>1.566067</td>\n",
       "    </tr>\n",
       "    <tr>\n",
       "      <th>2025-01-06</th>\n",
       "      <td>0.910378</td>\n",
       "      <td>0.072719</td>\n",
       "      <td>1.091743</td>\n",
       "      <td>1.528250</td>\n",
       "    </tr>\n",
       "  </tbody>\n",
       "</table>\n",
       "</div>"
      ],
      "text/plain": [
       "                   A         B         C         D\n",
       "2025-01-01  1.057288  1.347022 -1.098558 -2.044356\n",
       "2025-01-02  1.354330  1.239620  0.873275  2.142095\n",
       "2025-01-03  1.468160  0.184803  1.037846 -0.059944\n",
       "2025-01-04  0.953387  0.224895  0.229933  1.638036\n",
       "2025-01-05  0.546557 -0.252911  0.214980  1.566067\n",
       "2025-01-06  0.910378  0.072719  1.091743  1.528250"
      ]
     },
     "execution_count": 52,
     "metadata": {},
     "output_type": "execute_result"
    }
   ],
   "source": [
    "df[df[\"A\"] > 0]"
   ]
  },
  {
   "cell_type": "code",
   "execution_count": 53,
   "id": "bf6e7158-e8cc-4410-b7ac-6afa5a096272",
   "metadata": {},
   "outputs": [
    {
     "data": {
      "text/html": [
       "<div>\n",
       "<style scoped>\n",
       "    .dataframe tbody tr th:only-of-type {\n",
       "        vertical-align: middle;\n",
       "    }\n",
       "\n",
       "    .dataframe tbody tr th {\n",
       "        vertical-align: top;\n",
       "    }\n",
       "\n",
       "    .dataframe thead th {\n",
       "        text-align: right;\n",
       "    }\n",
       "</style>\n",
       "<table border=\"1\" class=\"dataframe\">\n",
       "  <thead>\n",
       "    <tr style=\"text-align: right;\">\n",
       "      <th></th>\n",
       "      <th>A</th>\n",
       "      <th>B</th>\n",
       "      <th>C</th>\n",
       "      <th>D</th>\n",
       "    </tr>\n",
       "  </thead>\n",
       "  <tbody>\n",
       "    <tr>\n",
       "      <th>2025-01-01</th>\n",
       "      <td>1.057288</td>\n",
       "      <td>1.347022</td>\n",
       "      <td>NaN</td>\n",
       "      <td>NaN</td>\n",
       "    </tr>\n",
       "    <tr>\n",
       "      <th>2025-01-02</th>\n",
       "      <td>1.354330</td>\n",
       "      <td>1.239620</td>\n",
       "      <td>0.873275</td>\n",
       "      <td>2.142095</td>\n",
       "    </tr>\n",
       "    <tr>\n",
       "      <th>2025-01-03</th>\n",
       "      <td>1.468160</td>\n",
       "      <td>0.184803</td>\n",
       "      <td>1.037846</td>\n",
       "      <td>NaN</td>\n",
       "    </tr>\n",
       "    <tr>\n",
       "      <th>2025-01-04</th>\n",
       "      <td>0.953387</td>\n",
       "      <td>0.224895</td>\n",
       "      <td>0.229933</td>\n",
       "      <td>1.638036</td>\n",
       "    </tr>\n",
       "    <tr>\n",
       "      <th>2025-01-05</th>\n",
       "      <td>0.546557</td>\n",
       "      <td>NaN</td>\n",
       "      <td>0.214980</td>\n",
       "      <td>1.566067</td>\n",
       "    </tr>\n",
       "    <tr>\n",
       "      <th>2025-01-06</th>\n",
       "      <td>0.910378</td>\n",
       "      <td>0.072719</td>\n",
       "      <td>1.091743</td>\n",
       "      <td>1.528250</td>\n",
       "    </tr>\n",
       "  </tbody>\n",
       "</table>\n",
       "</div>"
      ],
      "text/plain": [
       "                   A         B         C         D\n",
       "2025-01-01  1.057288  1.347022       NaN       NaN\n",
       "2025-01-02  1.354330  1.239620  0.873275  2.142095\n",
       "2025-01-03  1.468160  0.184803  1.037846       NaN\n",
       "2025-01-04  0.953387  0.224895  0.229933  1.638036\n",
       "2025-01-05  0.546557       NaN  0.214980  1.566067\n",
       "2025-01-06  0.910378  0.072719  1.091743  1.528250"
      ]
     },
     "execution_count": 53,
     "metadata": {},
     "output_type": "execute_result"
    }
   ],
   "source": [
    "#Selecting values from a DataFrame where a boolean condition is met:\n",
    "\n",
    "df[df > 0]"
   ]
  },
  {
   "cell_type": "code",
   "execution_count": 54,
   "id": "ccc241fc-6355-46aa-a880-2d628acd85ef",
   "metadata": {},
   "outputs": [
    {
     "data": {
      "text/html": [
       "<div>\n",
       "<style scoped>\n",
       "    .dataframe tbody tr th:only-of-type {\n",
       "        vertical-align: middle;\n",
       "    }\n",
       "\n",
       "    .dataframe tbody tr th {\n",
       "        vertical-align: top;\n",
       "    }\n",
       "\n",
       "    .dataframe thead th {\n",
       "        text-align: right;\n",
       "    }\n",
       "</style>\n",
       "<table border=\"1\" class=\"dataframe\">\n",
       "  <thead>\n",
       "    <tr style=\"text-align: right;\">\n",
       "      <th></th>\n",
       "      <th>A</th>\n",
       "      <th>B</th>\n",
       "      <th>C</th>\n",
       "      <th>D</th>\n",
       "      <th>E</th>\n",
       "    </tr>\n",
       "  </thead>\n",
       "  <tbody>\n",
       "    <tr>\n",
       "      <th>2025-01-01</th>\n",
       "      <td>1.057288</td>\n",
       "      <td>1.347022</td>\n",
       "      <td>-1.098558</td>\n",
       "      <td>-2.044356</td>\n",
       "      <td>one</td>\n",
       "    </tr>\n",
       "    <tr>\n",
       "      <th>2025-01-02</th>\n",
       "      <td>1.354330</td>\n",
       "      <td>1.239620</td>\n",
       "      <td>0.873275</td>\n",
       "      <td>2.142095</td>\n",
       "      <td>one</td>\n",
       "    </tr>\n",
       "    <tr>\n",
       "      <th>2025-01-03</th>\n",
       "      <td>1.468160</td>\n",
       "      <td>0.184803</td>\n",
       "      <td>1.037846</td>\n",
       "      <td>-0.059944</td>\n",
       "      <td>two</td>\n",
       "    </tr>\n",
       "    <tr>\n",
       "      <th>2025-01-04</th>\n",
       "      <td>0.953387</td>\n",
       "      <td>0.224895</td>\n",
       "      <td>0.229933</td>\n",
       "      <td>1.638036</td>\n",
       "      <td>three</td>\n",
       "    </tr>\n",
       "    <tr>\n",
       "      <th>2025-01-05</th>\n",
       "      <td>0.546557</td>\n",
       "      <td>-0.252911</td>\n",
       "      <td>0.214980</td>\n",
       "      <td>1.566067</td>\n",
       "      <td>four</td>\n",
       "    </tr>\n",
       "    <tr>\n",
       "      <th>2025-01-06</th>\n",
       "      <td>0.910378</td>\n",
       "      <td>0.072719</td>\n",
       "      <td>1.091743</td>\n",
       "      <td>1.528250</td>\n",
       "      <td>three</td>\n",
       "    </tr>\n",
       "  </tbody>\n",
       "</table>\n",
       "</div>"
      ],
      "text/plain": [
       "                   A         B         C         D      E\n",
       "2025-01-01  1.057288  1.347022 -1.098558 -2.044356    one\n",
       "2025-01-02  1.354330  1.239620  0.873275  2.142095    one\n",
       "2025-01-03  1.468160  0.184803  1.037846 -0.059944    two\n",
       "2025-01-04  0.953387  0.224895  0.229933  1.638036  three\n",
       "2025-01-05  0.546557 -0.252911  0.214980  1.566067   four\n",
       "2025-01-06  0.910378  0.072719  1.091743  1.528250  three"
      ]
     },
     "execution_count": 54,
     "metadata": {},
     "output_type": "execute_result"
    }
   ],
   "source": [
    "# Using isin() method for filtering\n",
    "\n",
    "df2 = df.copy()\n",
    "df2[\"E\"] = [\"one\", \"one\", \"two\", \"three\", \"four\", \"three\"]\n",
    "\n",
    "df2"
   ]
  },
  {
   "cell_type": "code",
   "execution_count": 55,
   "id": "d4ce5760-d484-439f-af36-f2f7e54e46c3",
   "metadata": {},
   "outputs": [
    {
     "data": {
      "text/html": [
       "<div>\n",
       "<style scoped>\n",
       "    .dataframe tbody tr th:only-of-type {\n",
       "        vertical-align: middle;\n",
       "    }\n",
       "\n",
       "    .dataframe tbody tr th {\n",
       "        vertical-align: top;\n",
       "    }\n",
       "\n",
       "    .dataframe thead th {\n",
       "        text-align: right;\n",
       "    }\n",
       "</style>\n",
       "<table border=\"1\" class=\"dataframe\">\n",
       "  <thead>\n",
       "    <tr style=\"text-align: right;\">\n",
       "      <th></th>\n",
       "      <th>A</th>\n",
       "      <th>B</th>\n",
       "      <th>C</th>\n",
       "      <th>D</th>\n",
       "      <th>E</th>\n",
       "    </tr>\n",
       "  </thead>\n",
       "  <tbody>\n",
       "    <tr>\n",
       "      <th>2025-01-01</th>\n",
       "      <td>1.057288</td>\n",
       "      <td>1.347022</td>\n",
       "      <td>-1.098558</td>\n",
       "      <td>-2.044356</td>\n",
       "      <td>one</td>\n",
       "    </tr>\n",
       "    <tr>\n",
       "      <th>2025-01-02</th>\n",
       "      <td>1.354330</td>\n",
       "      <td>1.239620</td>\n",
       "      <td>0.873275</td>\n",
       "      <td>2.142095</td>\n",
       "      <td>one</td>\n",
       "    </tr>\n",
       "    <tr>\n",
       "      <th>2025-01-03</th>\n",
       "      <td>1.468160</td>\n",
       "      <td>0.184803</td>\n",
       "      <td>1.037846</td>\n",
       "      <td>-0.059944</td>\n",
       "      <td>two</td>\n",
       "    </tr>\n",
       "    <tr>\n",
       "      <th>2025-01-04</th>\n",
       "      <td>0.953387</td>\n",
       "      <td>0.224895</td>\n",
       "      <td>0.229933</td>\n",
       "      <td>1.638036</td>\n",
       "      <td>three</td>\n",
       "    </tr>\n",
       "    <tr>\n",
       "      <th>2025-01-05</th>\n",
       "      <td>0.546557</td>\n",
       "      <td>-0.252911</td>\n",
       "      <td>0.214980</td>\n",
       "      <td>1.566067</td>\n",
       "      <td>four</td>\n",
       "    </tr>\n",
       "    <tr>\n",
       "      <th>2025-01-06</th>\n",
       "      <td>0.910378</td>\n",
       "      <td>0.072719</td>\n",
       "      <td>1.091743</td>\n",
       "      <td>1.528250</td>\n",
       "      <td>three</td>\n",
       "    </tr>\n",
       "  </tbody>\n",
       "</table>\n",
       "</div>"
      ],
      "text/plain": [
       "                   A         B         C         D      E\n",
       "2025-01-01  1.057288  1.347022 -1.098558 -2.044356    one\n",
       "2025-01-02  1.354330  1.239620  0.873275  2.142095    one\n",
       "2025-01-03  1.468160  0.184803  1.037846 -0.059944    two\n",
       "2025-01-04  0.953387  0.224895  0.229933  1.638036  three\n",
       "2025-01-05  0.546557 -0.252911  0.214980  1.566067   four\n",
       "2025-01-06  0.910378  0.072719  1.091743  1.528250  three"
      ]
     },
     "execution_count": 55,
     "metadata": {},
     "output_type": "execute_result"
    }
   ],
   "source": [
    "df2[df2[\"E\"].isin([\"two\", \"four\"])]\n",
    "\n",
    "df2"
   ]
  },
  {
   "cell_type": "markdown",
   "id": "1a198d77-5d95-46f7-b398-1f3f918d4f1f",
   "metadata": {},
   "source": [
    "__Setting__\n",
    "\n",
    "Setting a new column automatically aligns the data by the indexes:"
   ]
  },
  {
   "cell_type": "code",
   "execution_count": 57,
   "id": "2844d594-f498-4540-9fe6-0be51dde3a39",
   "metadata": {},
   "outputs": [
    {
     "data": {
      "text/plain": [
       "2025-01-02    1\n",
       "2025-01-03    2\n",
       "2025-01-04    3\n",
       "2025-01-05    4\n",
       "2025-01-06    5\n",
       "2025-01-07    6\n",
       "Freq: D, dtype: int64"
      ]
     },
     "execution_count": 57,
     "metadata": {},
     "output_type": "execute_result"
    }
   ],
   "source": [
    "s1 = pd.Series([1, 2, 3, 4, 5, 6], index=pd.date_range(\"20250102\", periods=6))\n",
    "s1"
   ]
  },
  {
   "cell_type": "code",
   "execution_count": 74,
   "id": "d4cdcc70-b11d-4170-a694-c16319da9717",
   "metadata": {},
   "outputs": [
    {
     "data": {
      "text/html": [
       "<div>\n",
       "<style scoped>\n",
       "    .dataframe tbody tr th:only-of-type {\n",
       "        vertical-align: middle;\n",
       "    }\n",
       "\n",
       "    .dataframe tbody tr th {\n",
       "        vertical-align: top;\n",
       "    }\n",
       "\n",
       "    .dataframe thead th {\n",
       "        text-align: right;\n",
       "    }\n",
       "</style>\n",
       "<table border=\"1\" class=\"dataframe\">\n",
       "  <thead>\n",
       "    <tr style=\"text-align: right;\">\n",
       "      <th></th>\n",
       "      <th>A</th>\n",
       "      <th>B</th>\n",
       "      <th>C</th>\n",
       "      <th>D</th>\n",
       "      <th>F</th>\n",
       "    </tr>\n",
       "  </thead>\n",
       "  <tbody>\n",
       "    <tr>\n",
       "      <th>2025-01-01</th>\n",
       "      <td>0.000000</td>\n",
       "      <td>0.000000</td>\n",
       "      <td>-1.098558</td>\n",
       "      <td>5.0</td>\n",
       "      <td>NaN</td>\n",
       "    </tr>\n",
       "    <tr>\n",
       "      <th>2025-01-02</th>\n",
       "      <td>1.354330</td>\n",
       "      <td>1.239620</td>\n",
       "      <td>0.873275</td>\n",
       "      <td>5.0</td>\n",
       "      <td>1.0</td>\n",
       "    </tr>\n",
       "    <tr>\n",
       "      <th>2025-01-03</th>\n",
       "      <td>1.468160</td>\n",
       "      <td>0.184803</td>\n",
       "      <td>1.037846</td>\n",
       "      <td>5.0</td>\n",
       "      <td>2.0</td>\n",
       "    </tr>\n",
       "    <tr>\n",
       "      <th>2025-01-04</th>\n",
       "      <td>0.953387</td>\n",
       "      <td>0.224895</td>\n",
       "      <td>0.229933</td>\n",
       "      <td>5.0</td>\n",
       "      <td>3.0</td>\n",
       "    </tr>\n",
       "    <tr>\n",
       "      <th>2025-01-05</th>\n",
       "      <td>0.546557</td>\n",
       "      <td>-0.252911</td>\n",
       "      <td>0.214980</td>\n",
       "      <td>5.0</td>\n",
       "      <td>4.0</td>\n",
       "    </tr>\n",
       "    <tr>\n",
       "      <th>2025-01-06</th>\n",
       "      <td>0.910378</td>\n",
       "      <td>0.072719</td>\n",
       "      <td>1.091743</td>\n",
       "      <td>5.0</td>\n",
       "      <td>5.0</td>\n",
       "    </tr>\n",
       "  </tbody>\n",
       "</table>\n",
       "</div>"
      ],
      "text/plain": [
       "                   A         B         C    D    F\n",
       "2025-01-01  0.000000  0.000000 -1.098558  5.0  NaN\n",
       "2025-01-02  1.354330  1.239620  0.873275  5.0  1.0\n",
       "2025-01-03  1.468160  0.184803  1.037846  5.0  2.0\n",
       "2025-01-04  0.953387  0.224895  0.229933  5.0  3.0\n",
       "2025-01-05  0.546557 -0.252911  0.214980  5.0  4.0\n",
       "2025-01-06  0.910378  0.072719  1.091743  5.0  5.0"
      ]
     },
     "execution_count": 74,
     "metadata": {},
     "output_type": "execute_result"
    }
   ],
   "source": [
    "df[\"F\"] = s1\n",
    "df"
   ]
  },
  {
   "cell_type": "code",
   "execution_count": 75,
   "id": "9cbf3cbb-ed54-4ab6-ba96-13fde6e8ca8b",
   "metadata": {},
   "outputs": [
    {
     "data": {
      "text/html": [
       "<div>\n",
       "<style scoped>\n",
       "    .dataframe tbody tr th:only-of-type {\n",
       "        vertical-align: middle;\n",
       "    }\n",
       "\n",
       "    .dataframe tbody tr th {\n",
       "        vertical-align: top;\n",
       "    }\n",
       "\n",
       "    .dataframe thead th {\n",
       "        text-align: right;\n",
       "    }\n",
       "</style>\n",
       "<table border=\"1\" class=\"dataframe\">\n",
       "  <thead>\n",
       "    <tr style=\"text-align: right;\">\n",
       "      <th></th>\n",
       "      <th>A</th>\n",
       "      <th>B</th>\n",
       "      <th>C</th>\n",
       "      <th>D</th>\n",
       "      <th>F</th>\n",
       "    </tr>\n",
       "  </thead>\n",
       "  <tbody>\n",
       "    <tr>\n",
       "      <th>2025-01-01</th>\n",
       "      <td>0.000000</td>\n",
       "      <td>0.000000</td>\n",
       "      <td>-1.098558</td>\n",
       "      <td>5.0</td>\n",
       "      <td>NaN</td>\n",
       "    </tr>\n",
       "    <tr>\n",
       "      <th>2025-01-02</th>\n",
       "      <td>1.354330</td>\n",
       "      <td>1.239620</td>\n",
       "      <td>0.873275</td>\n",
       "      <td>5.0</td>\n",
       "      <td>1.0</td>\n",
       "    </tr>\n",
       "    <tr>\n",
       "      <th>2025-01-03</th>\n",
       "      <td>1.468160</td>\n",
       "      <td>0.184803</td>\n",
       "      <td>1.037846</td>\n",
       "      <td>5.0</td>\n",
       "      <td>2.0</td>\n",
       "    </tr>\n",
       "    <tr>\n",
       "      <th>2025-01-04</th>\n",
       "      <td>0.953387</td>\n",
       "      <td>0.224895</td>\n",
       "      <td>0.229933</td>\n",
       "      <td>5.0</td>\n",
       "      <td>3.0</td>\n",
       "    </tr>\n",
       "    <tr>\n",
       "      <th>2025-01-05</th>\n",
       "      <td>0.546557</td>\n",
       "      <td>-0.252911</td>\n",
       "      <td>0.214980</td>\n",
       "      <td>5.0</td>\n",
       "      <td>4.0</td>\n",
       "    </tr>\n",
       "    <tr>\n",
       "      <th>2025-01-06</th>\n",
       "      <td>0.910378</td>\n",
       "      <td>0.072719</td>\n",
       "      <td>1.091743</td>\n",
       "      <td>5.0</td>\n",
       "      <td>5.0</td>\n",
       "    </tr>\n",
       "  </tbody>\n",
       "</table>\n",
       "</div>"
      ],
      "text/plain": [
       "                   A         B         C    D    F\n",
       "2025-01-01  0.000000  0.000000 -1.098558  5.0  NaN\n",
       "2025-01-02  1.354330  1.239620  0.873275  5.0  1.0\n",
       "2025-01-03  1.468160  0.184803  1.037846  5.0  2.0\n",
       "2025-01-04  0.953387  0.224895  0.229933  5.0  3.0\n",
       "2025-01-05  0.546557 -0.252911  0.214980  5.0  4.0\n",
       "2025-01-06  0.910378  0.072719  1.091743  5.0  5.0"
      ]
     },
     "execution_count": 75,
     "metadata": {},
     "output_type": "execute_result"
    }
   ],
   "source": [
    "# Setting values by label:\n",
    "\n",
    "df.at[dates[0], \"A\"] = 0\n",
    "df"
   ]
  },
  {
   "cell_type": "code",
   "execution_count": 76,
   "id": "47f55e07-9571-4647-b75b-95b2f47417e7",
   "metadata": {},
   "outputs": [
    {
     "data": {
      "text/html": [
       "<div>\n",
       "<style scoped>\n",
       "    .dataframe tbody tr th:only-of-type {\n",
       "        vertical-align: middle;\n",
       "    }\n",
       "\n",
       "    .dataframe tbody tr th {\n",
       "        vertical-align: top;\n",
       "    }\n",
       "\n",
       "    .dataframe thead th {\n",
       "        text-align: right;\n",
       "    }\n",
       "</style>\n",
       "<table border=\"1\" class=\"dataframe\">\n",
       "  <thead>\n",
       "    <tr style=\"text-align: right;\">\n",
       "      <th></th>\n",
       "      <th>A</th>\n",
       "      <th>B</th>\n",
       "      <th>C</th>\n",
       "      <th>D</th>\n",
       "      <th>F</th>\n",
       "    </tr>\n",
       "  </thead>\n",
       "  <tbody>\n",
       "    <tr>\n",
       "      <th>2025-01-01</th>\n",
       "      <td>0.000000</td>\n",
       "      <td>0.000000</td>\n",
       "      <td>-1.098558</td>\n",
       "      <td>5.0</td>\n",
       "      <td>NaN</td>\n",
       "    </tr>\n",
       "    <tr>\n",
       "      <th>2025-01-02</th>\n",
       "      <td>1.354330</td>\n",
       "      <td>1.239620</td>\n",
       "      <td>0.873275</td>\n",
       "      <td>5.0</td>\n",
       "      <td>1.0</td>\n",
       "    </tr>\n",
       "    <tr>\n",
       "      <th>2025-01-03</th>\n",
       "      <td>1.468160</td>\n",
       "      <td>0.184803</td>\n",
       "      <td>1.037846</td>\n",
       "      <td>5.0</td>\n",
       "      <td>2.0</td>\n",
       "    </tr>\n",
       "    <tr>\n",
       "      <th>2025-01-04</th>\n",
       "      <td>0.953387</td>\n",
       "      <td>0.224895</td>\n",
       "      <td>0.229933</td>\n",
       "      <td>5.0</td>\n",
       "      <td>3.0</td>\n",
       "    </tr>\n",
       "    <tr>\n",
       "      <th>2025-01-05</th>\n",
       "      <td>0.546557</td>\n",
       "      <td>-0.252911</td>\n",
       "      <td>0.214980</td>\n",
       "      <td>5.0</td>\n",
       "      <td>4.0</td>\n",
       "    </tr>\n",
       "    <tr>\n",
       "      <th>2025-01-06</th>\n",
       "      <td>0.910378</td>\n",
       "      <td>0.072719</td>\n",
       "      <td>1.091743</td>\n",
       "      <td>5.0</td>\n",
       "      <td>5.0</td>\n",
       "    </tr>\n",
       "  </tbody>\n",
       "</table>\n",
       "</div>"
      ],
      "text/plain": [
       "                   A         B         C    D    F\n",
       "2025-01-01  0.000000  0.000000 -1.098558  5.0  NaN\n",
       "2025-01-02  1.354330  1.239620  0.873275  5.0  1.0\n",
       "2025-01-03  1.468160  0.184803  1.037846  5.0  2.0\n",
       "2025-01-04  0.953387  0.224895  0.229933  5.0  3.0\n",
       "2025-01-05  0.546557 -0.252911  0.214980  5.0  4.0\n",
       "2025-01-06  0.910378  0.072719  1.091743  5.0  5.0"
      ]
     },
     "execution_count": 76,
     "metadata": {},
     "output_type": "execute_result"
    }
   ],
   "source": [
    "#Setting values by position:\n",
    "\n",
    "df.iat[0, 1] = 0\n",
    "df"
   ]
  },
  {
   "cell_type": "code",
   "execution_count": 77,
   "id": "551977a2-5c7b-40e6-a814-256a104dcc37",
   "metadata": {},
   "outputs": [
    {
     "data": {
      "text/html": [
       "<div>\n",
       "<style scoped>\n",
       "    .dataframe tbody tr th:only-of-type {\n",
       "        vertical-align: middle;\n",
       "    }\n",
       "\n",
       "    .dataframe tbody tr th {\n",
       "        vertical-align: top;\n",
       "    }\n",
       "\n",
       "    .dataframe thead th {\n",
       "        text-align: right;\n",
       "    }\n",
       "</style>\n",
       "<table border=\"1\" class=\"dataframe\">\n",
       "  <thead>\n",
       "    <tr style=\"text-align: right;\">\n",
       "      <th></th>\n",
       "      <th>A</th>\n",
       "      <th>B</th>\n",
       "      <th>C</th>\n",
       "      <th>D</th>\n",
       "      <th>F</th>\n",
       "    </tr>\n",
       "  </thead>\n",
       "  <tbody>\n",
       "    <tr>\n",
       "      <th>2025-01-01</th>\n",
       "      <td>0.000000</td>\n",
       "      <td>0.000000</td>\n",
       "      <td>-1.098558</td>\n",
       "      <td>5.0</td>\n",
       "      <td>NaN</td>\n",
       "    </tr>\n",
       "    <tr>\n",
       "      <th>2025-01-02</th>\n",
       "      <td>1.354330</td>\n",
       "      <td>1.239620</td>\n",
       "      <td>0.873275</td>\n",
       "      <td>5.0</td>\n",
       "      <td>1.0</td>\n",
       "    </tr>\n",
       "    <tr>\n",
       "      <th>2025-01-03</th>\n",
       "      <td>1.468160</td>\n",
       "      <td>0.184803</td>\n",
       "      <td>1.037846</td>\n",
       "      <td>5.0</td>\n",
       "      <td>2.0</td>\n",
       "    </tr>\n",
       "    <tr>\n",
       "      <th>2025-01-04</th>\n",
       "      <td>0.953387</td>\n",
       "      <td>0.224895</td>\n",
       "      <td>0.229933</td>\n",
       "      <td>5.0</td>\n",
       "      <td>3.0</td>\n",
       "    </tr>\n",
       "    <tr>\n",
       "      <th>2025-01-05</th>\n",
       "      <td>0.546557</td>\n",
       "      <td>-0.252911</td>\n",
       "      <td>0.214980</td>\n",
       "      <td>5.0</td>\n",
       "      <td>4.0</td>\n",
       "    </tr>\n",
       "    <tr>\n",
       "      <th>2025-01-06</th>\n",
       "      <td>0.910378</td>\n",
       "      <td>0.072719</td>\n",
       "      <td>1.091743</td>\n",
       "      <td>5.0</td>\n",
       "      <td>5.0</td>\n",
       "    </tr>\n",
       "  </tbody>\n",
       "</table>\n",
       "</div>"
      ],
      "text/plain": [
       "                   A         B         C    D    F\n",
       "2025-01-01  0.000000  0.000000 -1.098558  5.0  NaN\n",
       "2025-01-02  1.354330  1.239620  0.873275  5.0  1.0\n",
       "2025-01-03  1.468160  0.184803  1.037846  5.0  2.0\n",
       "2025-01-04  0.953387  0.224895  0.229933  5.0  3.0\n",
       "2025-01-05  0.546557 -0.252911  0.214980  5.0  4.0\n",
       "2025-01-06  0.910378  0.072719  1.091743  5.0  5.0"
      ]
     },
     "execution_count": 77,
     "metadata": {},
     "output_type": "execute_result"
    }
   ],
   "source": [
    "# Setting by assigning with a NumPy array:\n",
    "\n",
    "df.loc[:, \"D\"] = np.array([5] * len(df))\n",
    "df"
   ]
  },
  {
   "cell_type": "code",
   "execution_count": 78,
   "id": "d5ca355c-6210-4e21-bf16-801b473c295a",
   "metadata": {},
   "outputs": [
    {
     "data": {
      "text/html": [
       "<div>\n",
       "<style scoped>\n",
       "    .dataframe tbody tr th:only-of-type {\n",
       "        vertical-align: middle;\n",
       "    }\n",
       "\n",
       "    .dataframe tbody tr th {\n",
       "        vertical-align: top;\n",
       "    }\n",
       "\n",
       "    .dataframe thead th {\n",
       "        text-align: right;\n",
       "    }\n",
       "</style>\n",
       "<table border=\"1\" class=\"dataframe\">\n",
       "  <thead>\n",
       "    <tr style=\"text-align: right;\">\n",
       "      <th></th>\n",
       "      <th>A</th>\n",
       "      <th>B</th>\n",
       "      <th>C</th>\n",
       "      <th>D</th>\n",
       "      <th>F</th>\n",
       "    </tr>\n",
       "  </thead>\n",
       "  <tbody>\n",
       "    <tr>\n",
       "      <th>2025-01-01</th>\n",
       "      <td>0.000000</td>\n",
       "      <td>0.000000</td>\n",
       "      <td>-1.098558</td>\n",
       "      <td>-5.0</td>\n",
       "      <td>NaN</td>\n",
       "    </tr>\n",
       "    <tr>\n",
       "      <th>2025-01-02</th>\n",
       "      <td>-1.354330</td>\n",
       "      <td>-1.239620</td>\n",
       "      <td>-0.873275</td>\n",
       "      <td>-5.0</td>\n",
       "      <td>-1.0</td>\n",
       "    </tr>\n",
       "    <tr>\n",
       "      <th>2025-01-03</th>\n",
       "      <td>-1.468160</td>\n",
       "      <td>-0.184803</td>\n",
       "      <td>-1.037846</td>\n",
       "      <td>-5.0</td>\n",
       "      <td>-2.0</td>\n",
       "    </tr>\n",
       "    <tr>\n",
       "      <th>2025-01-04</th>\n",
       "      <td>-0.953387</td>\n",
       "      <td>-0.224895</td>\n",
       "      <td>-0.229933</td>\n",
       "      <td>-5.0</td>\n",
       "      <td>-3.0</td>\n",
       "    </tr>\n",
       "    <tr>\n",
       "      <th>2025-01-05</th>\n",
       "      <td>-0.546557</td>\n",
       "      <td>-0.252911</td>\n",
       "      <td>-0.214980</td>\n",
       "      <td>-5.0</td>\n",
       "      <td>-4.0</td>\n",
       "    </tr>\n",
       "    <tr>\n",
       "      <th>2025-01-06</th>\n",
       "      <td>-0.910378</td>\n",
       "      <td>-0.072719</td>\n",
       "      <td>-1.091743</td>\n",
       "      <td>-5.0</td>\n",
       "      <td>-5.0</td>\n",
       "    </tr>\n",
       "  </tbody>\n",
       "</table>\n",
       "</div>"
      ],
      "text/plain": [
       "                   A         B         C    D    F\n",
       "2025-01-01  0.000000  0.000000 -1.098558 -5.0  NaN\n",
       "2025-01-02 -1.354330 -1.239620 -0.873275 -5.0 -1.0\n",
       "2025-01-03 -1.468160 -0.184803 -1.037846 -5.0 -2.0\n",
       "2025-01-04 -0.953387 -0.224895 -0.229933 -5.0 -3.0\n",
       "2025-01-05 -0.546557 -0.252911 -0.214980 -5.0 -4.0\n",
       "2025-01-06 -0.910378 -0.072719 -1.091743 -5.0 -5.0"
      ]
     },
     "execution_count": 78,
     "metadata": {},
     "output_type": "execute_result"
    }
   ],
   "source": [
    "#A where operation with setting:\n",
    "\n",
    "df2 = df.copy()\n",
    "df2[df2 > 0] = -df2\n",
    "\n",
    "df2"
   ]
  },
  {
   "cell_type": "markdown",
   "id": "9c08b709-6b0e-4ffe-9829-cda5e06c4d39",
   "metadata": {},
   "source": [
    "__Missing data__\n",
    "\n",
    "Reindexing allows you to change/add/delete the index on a specified axis. This returns a copy of the data:"
   ]
  },
  {
   "cell_type": "code",
   "execution_count": 84,
   "id": "1c9c601b-0fc5-4ba2-b713-0cb371569733",
   "metadata": {},
   "outputs": [
    {
     "data": {
      "text/html": [
       "<div>\n",
       "<style scoped>\n",
       "    .dataframe tbody tr th:only-of-type {\n",
       "        vertical-align: middle;\n",
       "    }\n",
       "\n",
       "    .dataframe tbody tr th {\n",
       "        vertical-align: top;\n",
       "    }\n",
       "\n",
       "    .dataframe thead th {\n",
       "        text-align: right;\n",
       "    }\n",
       "</style>\n",
       "<table border=\"1\" class=\"dataframe\">\n",
       "  <thead>\n",
       "    <tr style=\"text-align: right;\">\n",
       "      <th></th>\n",
       "      <th>A</th>\n",
       "      <th>B</th>\n",
       "      <th>C</th>\n",
       "      <th>D</th>\n",
       "      <th>F</th>\n",
       "      <th>E</th>\n",
       "    </tr>\n",
       "  </thead>\n",
       "  <tbody>\n",
       "    <tr>\n",
       "      <th>2025-01-01</th>\n",
       "      <td>0.000000</td>\n",
       "      <td>0.000000</td>\n",
       "      <td>-1.098558</td>\n",
       "      <td>5.0</td>\n",
       "      <td>NaN</td>\n",
       "      <td>1.0</td>\n",
       "    </tr>\n",
       "    <tr>\n",
       "      <th>2025-01-02</th>\n",
       "      <td>1.354330</td>\n",
       "      <td>1.239620</td>\n",
       "      <td>0.873275</td>\n",
       "      <td>5.0</td>\n",
       "      <td>1.0</td>\n",
       "      <td>1.0</td>\n",
       "    </tr>\n",
       "    <tr>\n",
       "      <th>2025-01-03</th>\n",
       "      <td>1.468160</td>\n",
       "      <td>0.184803</td>\n",
       "      <td>1.037846</td>\n",
       "      <td>5.0</td>\n",
       "      <td>2.0</td>\n",
       "      <td>NaN</td>\n",
       "    </tr>\n",
       "    <tr>\n",
       "      <th>2025-01-04</th>\n",
       "      <td>0.953387</td>\n",
       "      <td>0.224895</td>\n",
       "      <td>0.229933</td>\n",
       "      <td>5.0</td>\n",
       "      <td>3.0</td>\n",
       "      <td>NaN</td>\n",
       "    </tr>\n",
       "  </tbody>\n",
       "</table>\n",
       "</div>"
      ],
      "text/plain": [
       "                   A         B         C    D    F    E\n",
       "2025-01-01  0.000000  0.000000 -1.098558  5.0  NaN  1.0\n",
       "2025-01-02  1.354330  1.239620  0.873275  5.0  1.0  1.0\n",
       "2025-01-03  1.468160  0.184803  1.037846  5.0  2.0  NaN\n",
       "2025-01-04  0.953387  0.224895  0.229933  5.0  3.0  NaN"
      ]
     },
     "execution_count": 84,
     "metadata": {},
     "output_type": "execute_result"
    }
   ],
   "source": [
    "df1 = df.reindex(index=dates[0:4], columns=list(df.columns) + [\"E\"])\n",
    "df1.loc[dates[0] : dates[1], \"E\"] = 1\n",
    "df1"
   ]
  },
  {
   "cell_type": "markdown",
   "id": "3e2d85f0-a347-4007-abb3-37235d650b8b",
   "metadata": {},
   "source": [
    "```DataFrame.dropna()``` drops any rows that have missing data:"
   ]
  },
  {
   "cell_type": "code",
   "execution_count": 86,
   "id": "6a6bb53a-7fe6-4d67-af52-5dc5ec6488b6",
   "metadata": {},
   "outputs": [
    {
     "data": {
      "text/html": [
       "<div>\n",
       "<style scoped>\n",
       "    .dataframe tbody tr th:only-of-type {\n",
       "        vertical-align: middle;\n",
       "    }\n",
       "\n",
       "    .dataframe tbody tr th {\n",
       "        vertical-align: top;\n",
       "    }\n",
       "\n",
       "    .dataframe thead th {\n",
       "        text-align: right;\n",
       "    }\n",
       "</style>\n",
       "<table border=\"1\" class=\"dataframe\">\n",
       "  <thead>\n",
       "    <tr style=\"text-align: right;\">\n",
       "      <th></th>\n",
       "      <th>A</th>\n",
       "      <th>B</th>\n",
       "      <th>C</th>\n",
       "      <th>D</th>\n",
       "      <th>F</th>\n",
       "      <th>E</th>\n",
       "    </tr>\n",
       "  </thead>\n",
       "  <tbody>\n",
       "    <tr>\n",
       "      <th>2025-01-02</th>\n",
       "      <td>1.35433</td>\n",
       "      <td>1.23962</td>\n",
       "      <td>0.873275</td>\n",
       "      <td>5.0</td>\n",
       "      <td>1.0</td>\n",
       "      <td>1.0</td>\n",
       "    </tr>\n",
       "  </tbody>\n",
       "</table>\n",
       "</div>"
      ],
      "text/plain": [
       "                  A        B         C    D    F    E\n",
       "2025-01-02  1.35433  1.23962  0.873275  5.0  1.0  1.0"
      ]
     },
     "execution_count": 86,
     "metadata": {},
     "output_type": "execute_result"
    }
   ],
   "source": [
    "df1.dropna(how=\"any\")"
   ]
  },
  {
   "cell_type": "markdown",
   "id": "efc0f077-609a-46ff-b09f-0140d021e77f",
   "metadata": {},
   "source": [
    "```DataFrame.fillna()``` fills missing data:"
   ]
  },
  {
   "cell_type": "code",
   "execution_count": 89,
   "id": "0570ed2e-8090-4905-bba8-12715a04297b",
   "metadata": {},
   "outputs": [
    {
     "data": {
      "text/html": [
       "<div>\n",
       "<style scoped>\n",
       "    .dataframe tbody tr th:only-of-type {\n",
       "        vertical-align: middle;\n",
       "    }\n",
       "\n",
       "    .dataframe tbody tr th {\n",
       "        vertical-align: top;\n",
       "    }\n",
       "\n",
       "    .dataframe thead th {\n",
       "        text-align: right;\n",
       "    }\n",
       "</style>\n",
       "<table border=\"1\" class=\"dataframe\">\n",
       "  <thead>\n",
       "    <tr style=\"text-align: right;\">\n",
       "      <th></th>\n",
       "      <th>A</th>\n",
       "      <th>B</th>\n",
       "      <th>C</th>\n",
       "      <th>D</th>\n",
       "      <th>F</th>\n",
       "      <th>E</th>\n",
       "    </tr>\n",
       "  </thead>\n",
       "  <tbody>\n",
       "    <tr>\n",
       "      <th>2025-01-01</th>\n",
       "      <td>0.000000</td>\n",
       "      <td>0.000000</td>\n",
       "      <td>-1.098558</td>\n",
       "      <td>5.0</td>\n",
       "      <td>NaN</td>\n",
       "      <td>1.0</td>\n",
       "    </tr>\n",
       "    <tr>\n",
       "      <th>2025-01-02</th>\n",
       "      <td>1.354330</td>\n",
       "      <td>1.239620</td>\n",
       "      <td>0.873275</td>\n",
       "      <td>5.0</td>\n",
       "      <td>1.0</td>\n",
       "      <td>1.0</td>\n",
       "    </tr>\n",
       "    <tr>\n",
       "      <th>2025-01-03</th>\n",
       "      <td>1.468160</td>\n",
       "      <td>0.184803</td>\n",
       "      <td>1.037846</td>\n",
       "      <td>5.0</td>\n",
       "      <td>2.0</td>\n",
       "      <td>NaN</td>\n",
       "    </tr>\n",
       "    <tr>\n",
       "      <th>2025-01-04</th>\n",
       "      <td>0.953387</td>\n",
       "      <td>0.224895</td>\n",
       "      <td>0.229933</td>\n",
       "      <td>5.0</td>\n",
       "      <td>3.0</td>\n",
       "      <td>NaN</td>\n",
       "    </tr>\n",
       "  </tbody>\n",
       "</table>\n",
       "</div>"
      ],
      "text/plain": [
       "                   A         B         C    D    F    E\n",
       "2025-01-01  0.000000  0.000000 -1.098558  5.0  NaN  1.0\n",
       "2025-01-02  1.354330  1.239620  0.873275  5.0  1.0  1.0\n",
       "2025-01-03  1.468160  0.184803  1.037846  5.0  2.0  NaN\n",
       "2025-01-04  0.953387  0.224895  0.229933  5.0  3.0  NaN"
      ]
     },
     "execution_count": 89,
     "metadata": {},
     "output_type": "execute_result"
    }
   ],
   "source": [
    "df1.fillna(value=5)\n",
    "df1"
   ]
  },
  {
   "cell_type": "code",
   "execution_count": 90,
   "id": "99fb3a7d-921f-43ab-8c75-13236679bfcd",
   "metadata": {},
   "outputs": [
    {
     "data": {
      "text/html": [
       "<div>\n",
       "<style scoped>\n",
       "    .dataframe tbody tr th:only-of-type {\n",
       "        vertical-align: middle;\n",
       "    }\n",
       "\n",
       "    .dataframe tbody tr th {\n",
       "        vertical-align: top;\n",
       "    }\n",
       "\n",
       "    .dataframe thead th {\n",
       "        text-align: right;\n",
       "    }\n",
       "</style>\n",
       "<table border=\"1\" class=\"dataframe\">\n",
       "  <thead>\n",
       "    <tr style=\"text-align: right;\">\n",
       "      <th></th>\n",
       "      <th>A</th>\n",
       "      <th>B</th>\n",
       "      <th>C</th>\n",
       "      <th>D</th>\n",
       "      <th>F</th>\n",
       "      <th>E</th>\n",
       "    </tr>\n",
       "  </thead>\n",
       "  <tbody>\n",
       "    <tr>\n",
       "      <th>2025-01-01</th>\n",
       "      <td>False</td>\n",
       "      <td>False</td>\n",
       "      <td>False</td>\n",
       "      <td>False</td>\n",
       "      <td>True</td>\n",
       "      <td>False</td>\n",
       "    </tr>\n",
       "    <tr>\n",
       "      <th>2025-01-02</th>\n",
       "      <td>False</td>\n",
       "      <td>False</td>\n",
       "      <td>False</td>\n",
       "      <td>False</td>\n",
       "      <td>False</td>\n",
       "      <td>False</td>\n",
       "    </tr>\n",
       "    <tr>\n",
       "      <th>2025-01-03</th>\n",
       "      <td>False</td>\n",
       "      <td>False</td>\n",
       "      <td>False</td>\n",
       "      <td>False</td>\n",
       "      <td>False</td>\n",
       "      <td>True</td>\n",
       "    </tr>\n",
       "    <tr>\n",
       "      <th>2025-01-04</th>\n",
       "      <td>False</td>\n",
       "      <td>False</td>\n",
       "      <td>False</td>\n",
       "      <td>False</td>\n",
       "      <td>False</td>\n",
       "      <td>True</td>\n",
       "    </tr>\n",
       "  </tbody>\n",
       "</table>\n",
       "</div>"
      ],
      "text/plain": [
       "                A      B      C      D      F      E\n",
       "2025-01-01  False  False  False  False   True  False\n",
       "2025-01-02  False  False  False  False  False  False\n",
       "2025-01-03  False  False  False  False  False   True\n",
       "2025-01-04  False  False  False  False  False   True"
      ]
     },
     "execution_count": 90,
     "metadata": {},
     "output_type": "execute_result"
    }
   ],
   "source": [
    "# isna() gets the boolean mask where values are nan:\n",
    "\n",
    "pd.isna(df1)"
   ]
  },
  {
   "cell_type": "markdown",
   "id": "b96a0978-c12a-4bb0-a54c-6165b89a1fc9",
   "metadata": {},
   "source": [
    "__Stats__\n",
    "\n",
    "Operations in general exclude missing data.\n",
    "\n",
    "Calculate the mean value for each column:"
   ]
  },
  {
   "cell_type": "code",
   "execution_count": 92,
   "id": "e0807a9d-dde6-4617-820f-15d20d2831bf",
   "metadata": {},
   "outputs": [
    {
     "data": {
      "text/plain": [
       "A    0.872135\n",
       "B    0.244854\n",
       "C    0.391536\n",
       "D    5.000000\n",
       "F    3.000000\n",
       "dtype: float64"
      ]
     },
     "execution_count": 92,
     "metadata": {},
     "output_type": "execute_result"
    }
   ],
   "source": [
    "df.mean()"
   ]
  },
  {
   "cell_type": "code",
   "execution_count": 93,
   "id": "26817e87-b2eb-4689-9cd1-6ddb94502909",
   "metadata": {},
   "outputs": [
    {
     "data": {
      "text/plain": [
       "2025-01-01    0.975361\n",
       "2025-01-02    1.893445\n",
       "2025-01-03    1.938162\n",
       "2025-01-04    1.881643\n",
       "2025-01-05    1.901725\n",
       "2025-01-06    2.414968\n",
       "Freq: D, dtype: float64"
      ]
     },
     "execution_count": 93,
     "metadata": {},
     "output_type": "execute_result"
    }
   ],
   "source": [
    "# Calculate the mean value for each row:\n",
    "\n",
    "df.mean(axis=1)"
   ]
  },
  {
   "cell_type": "markdown",
   "id": "cfa1a542-6dd9-4fd2-8153-0f2bdac62d36",
   "metadata": {},
   "source": [
    "Operating with another ```Series``` or ```DataFrame``` with a different index or column will align the result with the union of the index or column labels. In addition, pandas automatically broadcasts along the specified dimension and will fill unaligned labels with np.nan."
   ]
  },
  {
   "cell_type": "code",
   "execution_count": 96,
   "id": "46b5b75a-7ca1-4ee1-9ce7-8c9505dc921d",
   "metadata": {},
   "outputs": [
    {
     "data": {
      "text/plain": [
       "2025-01-01    NaN\n",
       "2025-01-02    NaN\n",
       "2025-01-03    1.0\n",
       "2025-01-04    3.0\n",
       "2025-01-05    5.0\n",
       "2025-01-06    NaN\n",
       "Freq: D, dtype: float64"
      ]
     },
     "execution_count": 96,
     "metadata": {},
     "output_type": "execute_result"
    }
   ],
   "source": [
    "s = pd.Series([1, 3, 5, np.nan, 6, 8], index=dates).shift(2)\n",
    "s"
   ]
  },
  {
   "cell_type": "code",
   "execution_count": 97,
   "id": "47193be8-1c28-4902-93df-00091850c245",
   "metadata": {},
   "outputs": [
    {
     "data": {
      "text/html": [
       "<div>\n",
       "<style scoped>\n",
       "    .dataframe tbody tr th:only-of-type {\n",
       "        vertical-align: middle;\n",
       "    }\n",
       "\n",
       "    .dataframe tbody tr th {\n",
       "        vertical-align: top;\n",
       "    }\n",
       "\n",
       "    .dataframe thead th {\n",
       "        text-align: right;\n",
       "    }\n",
       "</style>\n",
       "<table border=\"1\" class=\"dataframe\">\n",
       "  <thead>\n",
       "    <tr style=\"text-align: right;\">\n",
       "      <th></th>\n",
       "      <th>A</th>\n",
       "      <th>B</th>\n",
       "      <th>C</th>\n",
       "      <th>D</th>\n",
       "      <th>F</th>\n",
       "    </tr>\n",
       "  </thead>\n",
       "  <tbody>\n",
       "    <tr>\n",
       "      <th>2025-01-01</th>\n",
       "      <td>NaN</td>\n",
       "      <td>NaN</td>\n",
       "      <td>NaN</td>\n",
       "      <td>NaN</td>\n",
       "      <td>NaN</td>\n",
       "    </tr>\n",
       "    <tr>\n",
       "      <th>2025-01-02</th>\n",
       "      <td>NaN</td>\n",
       "      <td>NaN</td>\n",
       "      <td>NaN</td>\n",
       "      <td>NaN</td>\n",
       "      <td>NaN</td>\n",
       "    </tr>\n",
       "    <tr>\n",
       "      <th>2025-01-03</th>\n",
       "      <td>0.468160</td>\n",
       "      <td>-0.815197</td>\n",
       "      <td>0.037846</td>\n",
       "      <td>4.0</td>\n",
       "      <td>1.0</td>\n",
       "    </tr>\n",
       "    <tr>\n",
       "      <th>2025-01-04</th>\n",
       "      <td>-2.046613</td>\n",
       "      <td>-2.775105</td>\n",
       "      <td>-2.770067</td>\n",
       "      <td>2.0</td>\n",
       "      <td>0.0</td>\n",
       "    </tr>\n",
       "    <tr>\n",
       "      <th>2025-01-05</th>\n",
       "      <td>-4.453443</td>\n",
       "      <td>-5.252911</td>\n",
       "      <td>-4.785020</td>\n",
       "      <td>0.0</td>\n",
       "      <td>-1.0</td>\n",
       "    </tr>\n",
       "    <tr>\n",
       "      <th>2025-01-06</th>\n",
       "      <td>NaN</td>\n",
       "      <td>NaN</td>\n",
       "      <td>NaN</td>\n",
       "      <td>NaN</td>\n",
       "      <td>NaN</td>\n",
       "    </tr>\n",
       "  </tbody>\n",
       "</table>\n",
       "</div>"
      ],
      "text/plain": [
       "                   A         B         C    D    F\n",
       "2025-01-01       NaN       NaN       NaN  NaN  NaN\n",
       "2025-01-02       NaN       NaN       NaN  NaN  NaN\n",
       "2025-01-03  0.468160 -0.815197  0.037846  4.0  1.0\n",
       "2025-01-04 -2.046613 -2.775105 -2.770067  2.0  0.0\n",
       "2025-01-05 -4.453443 -5.252911 -4.785020  0.0 -1.0\n",
       "2025-01-06       NaN       NaN       NaN  NaN  NaN"
      ]
     },
     "execution_count": 97,
     "metadata": {},
     "output_type": "execute_result"
    }
   ],
   "source": [
    "df.sub(s, axis=\"index\")"
   ]
  },
  {
   "cell_type": "markdown",
   "id": "2298ed97-e807-4254-b99e-02c1fbeae8bb",
   "metadata": {},
   "source": [
    "__User defined functions__\n",
    "\n",
    "```DataFrame.agg()``` and ```DataFrame.transform()``` applies a user defined function that reduces or broadcasts its result respectively."
   ]
  },
  {
   "cell_type": "code",
   "execution_count": 100,
   "id": "f5fc179d-471c-402e-9cd8-8c3681ab9e90",
   "metadata": {},
   "outputs": [
    {
     "data": {
      "text/html": [
       "<div>\n",
       "<style scoped>\n",
       "    .dataframe tbody tr th:only-of-type {\n",
       "        vertical-align: middle;\n",
       "    }\n",
       "\n",
       "    .dataframe tbody tr th {\n",
       "        vertical-align: top;\n",
       "    }\n",
       "\n",
       "    .dataframe thead th {\n",
       "        text-align: right;\n",
       "    }\n",
       "</style>\n",
       "<table border=\"1\" class=\"dataframe\">\n",
       "  <thead>\n",
       "    <tr style=\"text-align: right;\">\n",
       "      <th></th>\n",
       "      <th>A</th>\n",
       "      <th>B</th>\n",
       "      <th>C</th>\n",
       "      <th>D</th>\n",
       "      <th>F</th>\n",
       "    </tr>\n",
       "  </thead>\n",
       "  <tbody>\n",
       "    <tr>\n",
       "      <th>2025-01-01</th>\n",
       "      <td>0.000000</td>\n",
       "      <td>0.000000</td>\n",
       "      <td>-1.098558</td>\n",
       "      <td>5.0</td>\n",
       "      <td>NaN</td>\n",
       "    </tr>\n",
       "    <tr>\n",
       "      <th>2025-01-02</th>\n",
       "      <td>1.354330</td>\n",
       "      <td>1.239620</td>\n",
       "      <td>0.873275</td>\n",
       "      <td>5.0</td>\n",
       "      <td>1.0</td>\n",
       "    </tr>\n",
       "    <tr>\n",
       "      <th>2025-01-03</th>\n",
       "      <td>1.468160</td>\n",
       "      <td>0.184803</td>\n",
       "      <td>1.037846</td>\n",
       "      <td>5.0</td>\n",
       "      <td>2.0</td>\n",
       "    </tr>\n",
       "    <tr>\n",
       "      <th>2025-01-04</th>\n",
       "      <td>0.953387</td>\n",
       "      <td>0.224895</td>\n",
       "      <td>0.229933</td>\n",
       "      <td>5.0</td>\n",
       "      <td>3.0</td>\n",
       "    </tr>\n",
       "    <tr>\n",
       "      <th>2025-01-05</th>\n",
       "      <td>0.546557</td>\n",
       "      <td>-0.252911</td>\n",
       "      <td>0.214980</td>\n",
       "      <td>5.0</td>\n",
       "      <td>4.0</td>\n",
       "    </tr>\n",
       "    <tr>\n",
       "      <th>2025-01-06</th>\n",
       "      <td>0.910378</td>\n",
       "      <td>0.072719</td>\n",
       "      <td>1.091743</td>\n",
       "      <td>5.0</td>\n",
       "      <td>5.0</td>\n",
       "    </tr>\n",
       "  </tbody>\n",
       "</table>\n",
       "</div>"
      ],
      "text/plain": [
       "                   A         B         C    D    F\n",
       "2025-01-01  0.000000  0.000000 -1.098558  5.0  NaN\n",
       "2025-01-02  1.354330  1.239620  0.873275  5.0  1.0\n",
       "2025-01-03  1.468160  0.184803  1.037846  5.0  2.0\n",
       "2025-01-04  0.953387  0.224895  0.229933  5.0  3.0\n",
       "2025-01-05  0.546557 -0.252911  0.214980  5.0  4.0\n",
       "2025-01-06  0.910378  0.072719  1.091743  5.0  5.0"
      ]
     },
     "execution_count": 100,
     "metadata": {},
     "output_type": "execute_result"
    }
   ],
   "source": [
    "df.agg(lambda x: np.mean(x) * 5.6)\n",
    "df.transform(lambda x: x * 101.2)\n",
    "df"
   ]
  },
  {
   "cell_type": "markdown",
   "id": "b893ca81-4540-44f0-9c4a-f0cf18d872a9",
   "metadata": {},
   "source": [
    "__Value Counts__"
   ]
  },
  {
   "cell_type": "code",
   "execution_count": 102,
   "id": "a892c1fc-79f7-479b-bcc5-7db4ebb64f4f",
   "metadata": {},
   "outputs": [
    {
     "data": {
      "text/plain": [
       "0    2\n",
       "1    5\n",
       "2    6\n",
       "3    2\n",
       "4    1\n",
       "5    1\n",
       "6    4\n",
       "7    1\n",
       "8    0\n",
       "9    3\n",
       "dtype: int64"
      ]
     },
     "execution_count": 102,
     "metadata": {},
     "output_type": "execute_result"
    }
   ],
   "source": [
    "s = pd.Series(np.random.randint(0, 7, size=10))\n",
    "s"
   ]
  },
  {
   "cell_type": "code",
   "execution_count": 103,
   "id": "17c4fa7e-0b42-4d9b-ae31-bea1fa57b104",
   "metadata": {},
   "outputs": [
    {
     "data": {
      "text/plain": [
       "1    3\n",
       "2    2\n",
       "5    1\n",
       "6    1\n",
       "4    1\n",
       "0    1\n",
       "3    1\n",
       "Name: count, dtype: int64"
      ]
     },
     "execution_count": 103,
     "metadata": {},
     "output_type": "execute_result"
    }
   ],
   "source": [
    "s.value_counts()"
   ]
  },
  {
   "cell_type": "markdown",
   "id": "53b18f57-9ebb-4fde-85b3-8e2a5690aab3",
   "metadata": {},
   "source": [
    "__String Methods__\n",
    "\n",
    "```Series``` is equipped with a set of string processing methods in the ```str``` attribute that make it easy to operate on each element of the array, as in the code snippet below. "
   ]
  },
  {
   "cell_type": "code",
   "execution_count": 106,
   "id": "457f4aed-bad3-4798-9bd4-2edce446a6da",
   "metadata": {},
   "outputs": [
    {
     "data": {
      "text/plain": [
       "0       a\n",
       "1       b\n",
       "2       c\n",
       "3    aaba\n",
       "4    baca\n",
       "5     NaN\n",
       "6    caba\n",
       "7     dog\n",
       "8     cat\n",
       "dtype: object"
      ]
     },
     "execution_count": 106,
     "metadata": {},
     "output_type": "execute_result"
    }
   ],
   "source": [
    "s = pd.Series([\"A\", \"B\", \"C\", \"Aaba\", \"Baca\", np.nan, \"CABA\", \"dog\", \"cat\"])\n",
    "s.str.lower()"
   ]
  },
  {
   "cell_type": "markdown",
   "id": "22008cf5-e7b0-4e66-8ac6-cb2bcaec7f29",
   "metadata": {},
   "source": [
    "__Concat__"
   ]
  },
  {
   "cell_type": "code",
   "execution_count": 108,
   "id": "b12ddcbc-9ca5-4a16-9ad5-f187c38123a3",
   "metadata": {},
   "outputs": [
    {
     "data": {
      "text/html": [
       "<div>\n",
       "<style scoped>\n",
       "    .dataframe tbody tr th:only-of-type {\n",
       "        vertical-align: middle;\n",
       "    }\n",
       "\n",
       "    .dataframe tbody tr th {\n",
       "        vertical-align: top;\n",
       "    }\n",
       "\n",
       "    .dataframe thead th {\n",
       "        text-align: right;\n",
       "    }\n",
       "</style>\n",
       "<table border=\"1\" class=\"dataframe\">\n",
       "  <thead>\n",
       "    <tr style=\"text-align: right;\">\n",
       "      <th></th>\n",
       "      <th>0</th>\n",
       "      <th>1</th>\n",
       "      <th>2</th>\n",
       "      <th>3</th>\n",
       "    </tr>\n",
       "  </thead>\n",
       "  <tbody>\n",
       "    <tr>\n",
       "      <th>0</th>\n",
       "      <td>0.859412</td>\n",
       "      <td>-0.303309</td>\n",
       "      <td>-1.081109</td>\n",
       "      <td>0.749928</td>\n",
       "    </tr>\n",
       "    <tr>\n",
       "      <th>1</th>\n",
       "      <td>-1.296200</td>\n",
       "      <td>0.469228</td>\n",
       "      <td>0.944965</td>\n",
       "      <td>0.946880</td>\n",
       "    </tr>\n",
       "    <tr>\n",
       "      <th>2</th>\n",
       "      <td>-0.161882</td>\n",
       "      <td>1.093814</td>\n",
       "      <td>1.391713</td>\n",
       "      <td>-0.828481</td>\n",
       "    </tr>\n",
       "    <tr>\n",
       "      <th>3</th>\n",
       "      <td>1.035468</td>\n",
       "      <td>0.144621</td>\n",
       "      <td>-0.684445</td>\n",
       "      <td>0.417205</td>\n",
       "    </tr>\n",
       "    <tr>\n",
       "      <th>4</th>\n",
       "      <td>0.367079</td>\n",
       "      <td>-0.418874</td>\n",
       "      <td>-1.927840</td>\n",
       "      <td>0.051325</td>\n",
       "    </tr>\n",
       "    <tr>\n",
       "      <th>5</th>\n",
       "      <td>-0.621358</td>\n",
       "      <td>0.740551</td>\n",
       "      <td>-0.686130</td>\n",
       "      <td>-1.442465</td>\n",
       "    </tr>\n",
       "    <tr>\n",
       "      <th>6</th>\n",
       "      <td>2.163945</td>\n",
       "      <td>-0.285153</td>\n",
       "      <td>0.580348</td>\n",
       "      <td>0.710652</td>\n",
       "    </tr>\n",
       "    <tr>\n",
       "      <th>7</th>\n",
       "      <td>0.572205</td>\n",
       "      <td>0.405955</td>\n",
       "      <td>-1.297439</td>\n",
       "      <td>1.514511</td>\n",
       "    </tr>\n",
       "    <tr>\n",
       "      <th>8</th>\n",
       "      <td>-0.168829</td>\n",
       "      <td>-0.709642</td>\n",
       "      <td>1.201947</td>\n",
       "      <td>-0.833539</td>\n",
       "    </tr>\n",
       "    <tr>\n",
       "      <th>9</th>\n",
       "      <td>-0.078153</td>\n",
       "      <td>0.912929</td>\n",
       "      <td>-0.088837</td>\n",
       "      <td>0.826733</td>\n",
       "    </tr>\n",
       "  </tbody>\n",
       "</table>\n",
       "</div>"
      ],
      "text/plain": [
       "          0         1         2         3\n",
       "0  0.859412 -0.303309 -1.081109  0.749928\n",
       "1 -1.296200  0.469228  0.944965  0.946880\n",
       "2 -0.161882  1.093814  1.391713 -0.828481\n",
       "3  1.035468  0.144621 -0.684445  0.417205\n",
       "4  0.367079 -0.418874 -1.927840  0.051325\n",
       "5 -0.621358  0.740551 -0.686130 -1.442465\n",
       "6  2.163945 -0.285153  0.580348  0.710652\n",
       "7  0.572205  0.405955 -1.297439  1.514511\n",
       "8 -0.168829 -0.709642  1.201947 -0.833539\n",
       "9 -0.078153  0.912929 -0.088837  0.826733"
      ]
     },
     "execution_count": 108,
     "metadata": {},
     "output_type": "execute_result"
    }
   ],
   "source": [
    "#Concatenating pandas objects together row-wise with concat():\n",
    "\n",
    "df = pd.DataFrame(np.random.randn(10, 4))\n",
    "df"
   ]
  },
  {
   "cell_type": "code",
   "execution_count": 110,
   "id": "128b4ed2-20c5-4041-a280-878355c8707c",
   "metadata": {},
   "outputs": [
    {
     "data": {
      "text/plain": [
       "[          0         1         2         3\n",
       " 0  0.859412 -0.303309 -1.081109  0.749928\n",
       " 1 -1.296200  0.469228  0.944965  0.946880\n",
       " 2 -0.161882  1.093814  1.391713 -0.828481,\n",
       "           0         1         2         3\n",
       " 3  1.035468  0.144621 -0.684445  0.417205\n",
       " 4  0.367079 -0.418874 -1.927840  0.051325\n",
       " 5 -0.621358  0.740551 -0.686130 -1.442465\n",
       " 6  2.163945 -0.285153  0.580348  0.710652,\n",
       "           0         1         2         3\n",
       " 7  0.572205  0.405955 -1.297439  1.514511\n",
       " 8 -0.168829 -0.709642  1.201947 -0.833539\n",
       " 9 -0.078153  0.912929 -0.088837  0.826733]"
      ]
     },
     "execution_count": 110,
     "metadata": {},
     "output_type": "execute_result"
    }
   ],
   "source": [
    "pieces = [df[:3], df[3:7], df[7:]]\n",
    "pieces"
   ]
  },
  {
   "cell_type": "code",
   "execution_count": 111,
   "id": "f858bfb4-0dab-4dc4-89c8-a39e9176fb40",
   "metadata": {},
   "outputs": [
    {
     "data": {
      "text/html": [
       "<div>\n",
       "<style scoped>\n",
       "    .dataframe tbody tr th:only-of-type {\n",
       "        vertical-align: middle;\n",
       "    }\n",
       "\n",
       "    .dataframe tbody tr th {\n",
       "        vertical-align: top;\n",
       "    }\n",
       "\n",
       "    .dataframe thead th {\n",
       "        text-align: right;\n",
       "    }\n",
       "</style>\n",
       "<table border=\"1\" class=\"dataframe\">\n",
       "  <thead>\n",
       "    <tr style=\"text-align: right;\">\n",
       "      <th></th>\n",
       "      <th>0</th>\n",
       "      <th>1</th>\n",
       "      <th>2</th>\n",
       "      <th>3</th>\n",
       "    </tr>\n",
       "  </thead>\n",
       "  <tbody>\n",
       "    <tr>\n",
       "      <th>0</th>\n",
       "      <td>0.859412</td>\n",
       "      <td>-0.303309</td>\n",
       "      <td>-1.081109</td>\n",
       "      <td>0.749928</td>\n",
       "    </tr>\n",
       "    <tr>\n",
       "      <th>1</th>\n",
       "      <td>-1.296200</td>\n",
       "      <td>0.469228</td>\n",
       "      <td>0.944965</td>\n",
       "      <td>0.946880</td>\n",
       "    </tr>\n",
       "    <tr>\n",
       "      <th>2</th>\n",
       "      <td>-0.161882</td>\n",
       "      <td>1.093814</td>\n",
       "      <td>1.391713</td>\n",
       "      <td>-0.828481</td>\n",
       "    </tr>\n",
       "    <tr>\n",
       "      <th>3</th>\n",
       "      <td>1.035468</td>\n",
       "      <td>0.144621</td>\n",
       "      <td>-0.684445</td>\n",
       "      <td>0.417205</td>\n",
       "    </tr>\n",
       "    <tr>\n",
       "      <th>4</th>\n",
       "      <td>0.367079</td>\n",
       "      <td>-0.418874</td>\n",
       "      <td>-1.927840</td>\n",
       "      <td>0.051325</td>\n",
       "    </tr>\n",
       "    <tr>\n",
       "      <th>5</th>\n",
       "      <td>-0.621358</td>\n",
       "      <td>0.740551</td>\n",
       "      <td>-0.686130</td>\n",
       "      <td>-1.442465</td>\n",
       "    </tr>\n",
       "    <tr>\n",
       "      <th>6</th>\n",
       "      <td>2.163945</td>\n",
       "      <td>-0.285153</td>\n",
       "      <td>0.580348</td>\n",
       "      <td>0.710652</td>\n",
       "    </tr>\n",
       "    <tr>\n",
       "      <th>7</th>\n",
       "      <td>0.572205</td>\n",
       "      <td>0.405955</td>\n",
       "      <td>-1.297439</td>\n",
       "      <td>1.514511</td>\n",
       "    </tr>\n",
       "    <tr>\n",
       "      <th>8</th>\n",
       "      <td>-0.168829</td>\n",
       "      <td>-0.709642</td>\n",
       "      <td>1.201947</td>\n",
       "      <td>-0.833539</td>\n",
       "    </tr>\n",
       "    <tr>\n",
       "      <th>9</th>\n",
       "      <td>-0.078153</td>\n",
       "      <td>0.912929</td>\n",
       "      <td>-0.088837</td>\n",
       "      <td>0.826733</td>\n",
       "    </tr>\n",
       "  </tbody>\n",
       "</table>\n",
       "</div>"
      ],
      "text/plain": [
       "          0         1         2         3\n",
       "0  0.859412 -0.303309 -1.081109  0.749928\n",
       "1 -1.296200  0.469228  0.944965  0.946880\n",
       "2 -0.161882  1.093814  1.391713 -0.828481\n",
       "3  1.035468  0.144621 -0.684445  0.417205\n",
       "4  0.367079 -0.418874 -1.927840  0.051325\n",
       "5 -0.621358  0.740551 -0.686130 -1.442465\n",
       "6  2.163945 -0.285153  0.580348  0.710652\n",
       "7  0.572205  0.405955 -1.297439  1.514511\n",
       "8 -0.168829 -0.709642  1.201947 -0.833539\n",
       "9 -0.078153  0.912929 -0.088837  0.826733"
      ]
     },
     "execution_count": 111,
     "metadata": {},
     "output_type": "execute_result"
    }
   ],
   "source": [
    "pd.concat(pieces)"
   ]
  },
  {
   "cell_type": "markdown",
   "id": "d11f0acd-5157-4806-bcb1-23b404690574",
   "metadata": {},
   "source": [
    "__Join__\n",
    "\n",
    "```merge()``` enables SQL style join types along specific columns."
   ]
  },
  {
   "cell_type": "code",
   "execution_count": 112,
   "id": "82e9d662-7b7d-48c0-a223-2a4932f6dadf",
   "metadata": {},
   "outputs": [
    {
     "data": {
      "text/plain": [
       "(   key  lval\n",
       " 0  foo     1\n",
       " 1  foo     2,\n",
       "    key  rval\n",
       " 0  foo     4\n",
       " 1  foo     5)"
      ]
     },
     "execution_count": 112,
     "metadata": {},
     "output_type": "execute_result"
    }
   ],
   "source": [
    "left = pd.DataFrame({\"key\": [\"foo\", \"foo\"], \"lval\": [1, 2]})\n",
    "right = pd.DataFrame({\"key\": [\"foo\", \"foo\"], \"rval\": [4, 5]})\n",
    "left, right"
   ]
  },
  {
   "cell_type": "code",
   "execution_count": 115,
   "id": "3614ae03-6176-4e55-a813-795b7592e11a",
   "metadata": {},
   "outputs": [
    {
     "data": {
      "text/html": [
       "<div>\n",
       "<style scoped>\n",
       "    .dataframe tbody tr th:only-of-type {\n",
       "        vertical-align: middle;\n",
       "    }\n",
       "\n",
       "    .dataframe tbody tr th {\n",
       "        vertical-align: top;\n",
       "    }\n",
       "\n",
       "    .dataframe thead th {\n",
       "        text-align: right;\n",
       "    }\n",
       "</style>\n",
       "<table border=\"1\" class=\"dataframe\">\n",
       "  <thead>\n",
       "    <tr style=\"text-align: right;\">\n",
       "      <th></th>\n",
       "      <th>key</th>\n",
       "      <th>lval</th>\n",
       "      <th>rval</th>\n",
       "    </tr>\n",
       "  </thead>\n",
       "  <tbody>\n",
       "    <tr>\n",
       "      <th>0</th>\n",
       "      <td>foo</td>\n",
       "      <td>1</td>\n",
       "      <td>4</td>\n",
       "    </tr>\n",
       "    <tr>\n",
       "      <th>1</th>\n",
       "      <td>foo</td>\n",
       "      <td>1</td>\n",
       "      <td>5</td>\n",
       "    </tr>\n",
       "    <tr>\n",
       "      <th>2</th>\n",
       "      <td>foo</td>\n",
       "      <td>2</td>\n",
       "      <td>4</td>\n",
       "    </tr>\n",
       "    <tr>\n",
       "      <th>3</th>\n",
       "      <td>foo</td>\n",
       "      <td>2</td>\n",
       "      <td>5</td>\n",
       "    </tr>\n",
       "  </tbody>\n",
       "</table>\n",
       "</div>"
      ],
      "text/plain": [
       "   key  lval  rval\n",
       "0  foo     1     4\n",
       "1  foo     1     5\n",
       "2  foo     2     4\n",
       "3  foo     2     5"
      ]
     },
     "execution_count": 115,
     "metadata": {},
     "output_type": "execute_result"
    }
   ],
   "source": [
    "m = pd.merge(left, right, on=\"key\")\n",
    "m"
   ]
  },
  {
   "cell_type": "markdown",
   "id": "5f253952-c0e8-4d94-a841-f504d57731ea",
   "metadata": {},
   "source": [
    "__Grouping__\n",
    "\n",
    "By “group by” we are referring to a process involving one or more of the following steps:\n",
    "\n",
    "- Splitting the data into groups based on some criteria\n",
    "\n",
    "- Applying a function to each group independently\n",
    "\n",
    "- Combining the results into a data structure"
   ]
  },
  {
   "cell_type": "code",
   "execution_count": 119,
   "id": "d998f617-774c-4147-8b9d-46163ca7b7a3",
   "metadata": {},
   "outputs": [
    {
     "data": {
      "text/html": [
       "<div>\n",
       "<style scoped>\n",
       "    .dataframe tbody tr th:only-of-type {\n",
       "        vertical-align: middle;\n",
       "    }\n",
       "\n",
       "    .dataframe tbody tr th {\n",
       "        vertical-align: top;\n",
       "    }\n",
       "\n",
       "    .dataframe thead th {\n",
       "        text-align: right;\n",
       "    }\n",
       "</style>\n",
       "<table border=\"1\" class=\"dataframe\">\n",
       "  <thead>\n",
       "    <tr style=\"text-align: right;\">\n",
       "      <th></th>\n",
       "      <th>A</th>\n",
       "      <th>B</th>\n",
       "      <th>C</th>\n",
       "      <th>D</th>\n",
       "    </tr>\n",
       "  </thead>\n",
       "  <tbody>\n",
       "    <tr>\n",
       "      <th>0</th>\n",
       "      <td>foo</td>\n",
       "      <td>one</td>\n",
       "      <td>0.368402</td>\n",
       "      <td>1.986035</td>\n",
       "    </tr>\n",
       "    <tr>\n",
       "      <th>1</th>\n",
       "      <td>bar</td>\n",
       "      <td>one</td>\n",
       "      <td>0.311401</td>\n",
       "      <td>0.488882</td>\n",
       "    </tr>\n",
       "    <tr>\n",
       "      <th>2</th>\n",
       "      <td>foo</td>\n",
       "      <td>two</td>\n",
       "      <td>0.176324</td>\n",
       "      <td>0.088737</td>\n",
       "    </tr>\n",
       "    <tr>\n",
       "      <th>3</th>\n",
       "      <td>bar</td>\n",
       "      <td>three</td>\n",
       "      <td>-0.993837</td>\n",
       "      <td>0.127280</td>\n",
       "    </tr>\n",
       "    <tr>\n",
       "      <th>4</th>\n",
       "      <td>foo</td>\n",
       "      <td>two</td>\n",
       "      <td>-0.326209</td>\n",
       "      <td>-2.042995</td>\n",
       "    </tr>\n",
       "    <tr>\n",
       "      <th>5</th>\n",
       "      <td>bar</td>\n",
       "      <td>two</td>\n",
       "      <td>-0.903852</td>\n",
       "      <td>0.567511</td>\n",
       "    </tr>\n",
       "    <tr>\n",
       "      <th>6</th>\n",
       "      <td>foo</td>\n",
       "      <td>one</td>\n",
       "      <td>0.686981</td>\n",
       "      <td>0.146962</td>\n",
       "    </tr>\n",
       "    <tr>\n",
       "      <th>7</th>\n",
       "      <td>foo</td>\n",
       "      <td>three</td>\n",
       "      <td>-1.097457</td>\n",
       "      <td>0.094883</td>\n",
       "    </tr>\n",
       "  </tbody>\n",
       "</table>\n",
       "</div>"
      ],
      "text/plain": [
       "     A      B         C         D\n",
       "0  foo    one  0.368402  1.986035\n",
       "1  bar    one  0.311401  0.488882\n",
       "2  foo    two  0.176324  0.088737\n",
       "3  bar  three -0.993837  0.127280\n",
       "4  foo    two -0.326209 -2.042995\n",
       "5  bar    two -0.903852  0.567511\n",
       "6  foo    one  0.686981  0.146962\n",
       "7  foo  three -1.097457  0.094883"
      ]
     },
     "execution_count": 119,
     "metadata": {},
     "output_type": "execute_result"
    }
   ],
   "source": [
    "df = pd.DataFrame(\n",
    "    {\n",
    "        \"A\": [\"foo\", \"bar\", \"foo\", \"bar\", \"foo\", \"bar\", \"foo\", \"foo\"],\n",
    "        \"B\": [\"one\", \"one\", \"two\", \"three\", \"two\", \"two\", \"one\", \"three\"],\n",
    "        \"C\": np.random.randn(8),\n",
    "        \"D\": np.random.randn(8),\n",
    "    }\n",
    ")\n",
    "df"
   ]
  },
  {
   "cell_type": "code",
   "execution_count": 120,
   "id": "7cf21433-ec8a-485d-8983-a1fb597fd065",
   "metadata": {},
   "outputs": [
    {
     "data": {
      "text/html": [
       "<div>\n",
       "<style scoped>\n",
       "    .dataframe tbody tr th:only-of-type {\n",
       "        vertical-align: middle;\n",
       "    }\n",
       "\n",
       "    .dataframe tbody tr th {\n",
       "        vertical-align: top;\n",
       "    }\n",
       "\n",
       "    .dataframe thead th {\n",
       "        text-align: right;\n",
       "    }\n",
       "</style>\n",
       "<table border=\"1\" class=\"dataframe\">\n",
       "  <thead>\n",
       "    <tr style=\"text-align: right;\">\n",
       "      <th></th>\n",
       "      <th>C</th>\n",
       "      <th>D</th>\n",
       "    </tr>\n",
       "    <tr>\n",
       "      <th>A</th>\n",
       "      <th></th>\n",
       "      <th></th>\n",
       "    </tr>\n",
       "  </thead>\n",
       "  <tbody>\n",
       "    <tr>\n",
       "      <th>bar</th>\n",
       "      <td>-1.586288</td>\n",
       "      <td>1.183673</td>\n",
       "    </tr>\n",
       "    <tr>\n",
       "      <th>foo</th>\n",
       "      <td>-0.191959</td>\n",
       "      <td>0.273623</td>\n",
       "    </tr>\n",
       "  </tbody>\n",
       "</table>\n",
       "</div>"
      ],
      "text/plain": [
       "            C         D\n",
       "A                      \n",
       "bar -1.586288  1.183673\n",
       "foo -0.191959  0.273623"
      ]
     },
     "execution_count": 120,
     "metadata": {},
     "output_type": "execute_result"
    }
   ],
   "source": [
    "# Grouping by a column label, selecting column labels, and then applying the DataFrameGroupBy.sum() function to the resulting groups:\n",
    "\n",
    "df.groupby(\"A\")[[\"C\", \"D\"]].sum()"
   ]
  },
  {
   "cell_type": "code",
   "execution_count": 121,
   "id": "7b8281f0-d90f-4972-9860-37f779233d6f",
   "metadata": {},
   "outputs": [
    {
     "data": {
      "text/html": [
       "<div>\n",
       "<style scoped>\n",
       "    .dataframe tbody tr th:only-of-type {\n",
       "        vertical-align: middle;\n",
       "    }\n",
       "\n",
       "    .dataframe tbody tr th {\n",
       "        vertical-align: top;\n",
       "    }\n",
       "\n",
       "    .dataframe thead th {\n",
       "        text-align: right;\n",
       "    }\n",
       "</style>\n",
       "<table border=\"1\" class=\"dataframe\">\n",
       "  <thead>\n",
       "    <tr style=\"text-align: right;\">\n",
       "      <th></th>\n",
       "      <th></th>\n",
       "      <th>C</th>\n",
       "      <th>D</th>\n",
       "    </tr>\n",
       "    <tr>\n",
       "      <th>A</th>\n",
       "      <th>B</th>\n",
       "      <th></th>\n",
       "      <th></th>\n",
       "    </tr>\n",
       "  </thead>\n",
       "  <tbody>\n",
       "    <tr>\n",
       "      <th rowspan=\"3\" valign=\"top\">bar</th>\n",
       "      <th>one</th>\n",
       "      <td>0.311401</td>\n",
       "      <td>0.488882</td>\n",
       "    </tr>\n",
       "    <tr>\n",
       "      <th>three</th>\n",
       "      <td>-0.993837</td>\n",
       "      <td>0.127280</td>\n",
       "    </tr>\n",
       "    <tr>\n",
       "      <th>two</th>\n",
       "      <td>-0.903852</td>\n",
       "      <td>0.567511</td>\n",
       "    </tr>\n",
       "    <tr>\n",
       "      <th rowspan=\"3\" valign=\"top\">foo</th>\n",
       "      <th>one</th>\n",
       "      <td>1.055383</td>\n",
       "      <td>2.132997</td>\n",
       "    </tr>\n",
       "    <tr>\n",
       "      <th>three</th>\n",
       "      <td>-1.097457</td>\n",
       "      <td>0.094883</td>\n",
       "    </tr>\n",
       "    <tr>\n",
       "      <th>two</th>\n",
       "      <td>-0.149885</td>\n",
       "      <td>-1.954258</td>\n",
       "    </tr>\n",
       "  </tbody>\n",
       "</table>\n",
       "</div>"
      ],
      "text/plain": [
       "                  C         D\n",
       "A   B                        \n",
       "bar one    0.311401  0.488882\n",
       "    three -0.993837  0.127280\n",
       "    two   -0.903852  0.567511\n",
       "foo one    1.055383  2.132997\n",
       "    three -1.097457  0.094883\n",
       "    two   -0.149885 -1.954258"
      ]
     },
     "execution_count": 121,
     "metadata": {},
     "output_type": "execute_result"
    }
   ],
   "source": [
    "# Grouping by multiple columns label forms MultiIndex.\n",
    "\n",
    "df.groupby([\"A\", \"B\"]).sum()"
   ]
  },
  {
   "cell_type": "markdown",
   "id": "96cbaaec-5938-4b1e-a0bb-35fe31c97dcc",
   "metadata": {},
   "source": [
    "__Reshaping__\n",
    "\n",
    "___Stack___"
   ]
  },
  {
   "cell_type": "code",
   "execution_count": 128,
   "id": "6d11d2f9-7a2b-48ca-bb93-4538ea94b5cb",
   "metadata": {},
   "outputs": [
    {
     "data": {
      "text/html": [
       "<div>\n",
       "<style scoped>\n",
       "    .dataframe tbody tr th:only-of-type {\n",
       "        vertical-align: middle;\n",
       "    }\n",
       "\n",
       "    .dataframe tbody tr th {\n",
       "        vertical-align: top;\n",
       "    }\n",
       "\n",
       "    .dataframe thead th {\n",
       "        text-align: right;\n",
       "    }\n",
       "</style>\n",
       "<table border=\"1\" class=\"dataframe\">\n",
       "  <thead>\n",
       "    <tr style=\"text-align: right;\">\n",
       "      <th></th>\n",
       "      <th></th>\n",
       "      <th>A</th>\n",
       "      <th>B</th>\n",
       "    </tr>\n",
       "    <tr>\n",
       "      <th>first</th>\n",
       "      <th>second</th>\n",
       "      <th></th>\n",
       "      <th></th>\n",
       "    </tr>\n",
       "  </thead>\n",
       "  <tbody>\n",
       "    <tr>\n",
       "      <th rowspan=\"2\" valign=\"top\">bar</th>\n",
       "      <th>one</th>\n",
       "      <td>-0.345185</td>\n",
       "      <td>0.618897</td>\n",
       "    </tr>\n",
       "    <tr>\n",
       "      <th>two</th>\n",
       "      <td>-0.695735</td>\n",
       "      <td>-0.906219</td>\n",
       "    </tr>\n",
       "    <tr>\n",
       "      <th rowspan=\"2\" valign=\"top\">baz</th>\n",
       "      <th>one</th>\n",
       "      <td>0.699023</td>\n",
       "      <td>0.475571</td>\n",
       "    </tr>\n",
       "    <tr>\n",
       "      <th>two</th>\n",
       "      <td>1.236617</td>\n",
       "      <td>-1.558161</td>\n",
       "    </tr>\n",
       "  </tbody>\n",
       "</table>\n",
       "</div>"
      ],
      "text/plain": [
       "                     A         B\n",
       "first second                    \n",
       "bar   one    -0.345185  0.618897\n",
       "      two    -0.695735 -0.906219\n",
       "baz   one     0.699023  0.475571\n",
       "      two     1.236617 -1.558161"
      ]
     },
     "execution_count": 128,
     "metadata": {},
     "output_type": "execute_result"
    }
   ],
   "source": [
    "arrays = [\n",
    "   [\"bar\", \"bar\", \"baz\", \"baz\", \"foo\", \"foo\", \"qux\", \"qux\"],\n",
    "   [\"one\", \"two\", \"one\", \"two\", \"one\", \"two\", \"one\", \"two\"],\n",
    "]\n",
    "\n",
    "index = pd.MultiIndex.from_arrays(arrays, names=[\"first\", \"second\"])\n",
    "df = pd.DataFrame(np.random.randn(8, 2), index=index, columns=[\"A\", \"B\"])\n",
    "\n",
    "df2 = df[:4]\n",
    "df2"
   ]
  },
  {
   "cell_type": "code",
   "execution_count": 129,
   "id": "20cea8d6-d7cf-4a49-b384-8c69d2f35341",
   "metadata": {},
   "outputs": [
    {
     "data": {
      "text/plain": [
       "first  second   \n",
       "bar    one     A   -0.345185\n",
       "               B    0.618897\n",
       "       two     A   -0.695735\n",
       "               B   -0.906219\n",
       "baz    one     A    0.699023\n",
       "               B    0.475571\n",
       "       two     A    1.236617\n",
       "               B   -1.558161\n",
       "dtype: float64"
      ]
     },
     "execution_count": 129,
     "metadata": {},
     "output_type": "execute_result"
    }
   ],
   "source": [
    "# The stack() method “compresses” a level in the DataFrame’s columns:\n",
    "\n",
    "stacked = df2.stack(future_stack=True)\n",
    "stacked"
   ]
  },
  {
   "cell_type": "markdown",
   "id": "1c280f09-c962-4a3a-bb2a-095704a798fa",
   "metadata": {},
   "source": [
    "With a “stacked” DataFrame or Series (having a MultiIndex as the index), the inverse operation of stack() is unstack(), which by default unstacks the last level:"
   ]
  },
  {
   "cell_type": "code",
   "execution_count": 130,
   "id": "8f9dc573-2442-486e-924e-7054bf1e939a",
   "metadata": {},
   "outputs": [
    {
     "data": {
      "text/html": [
       "<div>\n",
       "<style scoped>\n",
       "    .dataframe tbody tr th:only-of-type {\n",
       "        vertical-align: middle;\n",
       "    }\n",
       "\n",
       "    .dataframe tbody tr th {\n",
       "        vertical-align: top;\n",
       "    }\n",
       "\n",
       "    .dataframe thead th {\n",
       "        text-align: right;\n",
       "    }\n",
       "</style>\n",
       "<table border=\"1\" class=\"dataframe\">\n",
       "  <thead>\n",
       "    <tr style=\"text-align: right;\">\n",
       "      <th></th>\n",
       "      <th></th>\n",
       "      <th>A</th>\n",
       "      <th>B</th>\n",
       "    </tr>\n",
       "    <tr>\n",
       "      <th>first</th>\n",
       "      <th>second</th>\n",
       "      <th></th>\n",
       "      <th></th>\n",
       "    </tr>\n",
       "  </thead>\n",
       "  <tbody>\n",
       "    <tr>\n",
       "      <th rowspan=\"2\" valign=\"top\">bar</th>\n",
       "      <th>one</th>\n",
       "      <td>-0.345185</td>\n",
       "      <td>0.618897</td>\n",
       "    </tr>\n",
       "    <tr>\n",
       "      <th>two</th>\n",
       "      <td>-0.695735</td>\n",
       "      <td>-0.906219</td>\n",
       "    </tr>\n",
       "    <tr>\n",
       "      <th rowspan=\"2\" valign=\"top\">baz</th>\n",
       "      <th>one</th>\n",
       "      <td>0.699023</td>\n",
       "      <td>0.475571</td>\n",
       "    </tr>\n",
       "    <tr>\n",
       "      <th>two</th>\n",
       "      <td>1.236617</td>\n",
       "      <td>-1.558161</td>\n",
       "    </tr>\n",
       "  </tbody>\n",
       "</table>\n",
       "</div>"
      ],
      "text/plain": [
       "                     A         B\n",
       "first second                    \n",
       "bar   one    -0.345185  0.618897\n",
       "      two    -0.695735 -0.906219\n",
       "baz   one     0.699023  0.475571\n",
       "      two     1.236617 -1.558161"
      ]
     },
     "execution_count": 130,
     "metadata": {},
     "output_type": "execute_result"
    }
   ],
   "source": [
    "stacked.unstack()"
   ]
  },
  {
   "cell_type": "code",
   "execution_count": 133,
   "id": "dff5b726-8e9c-498e-872e-46c993029364",
   "metadata": {},
   "outputs": [
    {
     "data": {
      "text/html": [
       "<div>\n",
       "<style scoped>\n",
       "    .dataframe tbody tr th:only-of-type {\n",
       "        vertical-align: middle;\n",
       "    }\n",
       "\n",
       "    .dataframe tbody tr th {\n",
       "        vertical-align: top;\n",
       "    }\n",
       "\n",
       "    .dataframe thead th {\n",
       "        text-align: right;\n",
       "    }\n",
       "</style>\n",
       "<table border=\"1\" class=\"dataframe\">\n",
       "  <thead>\n",
       "    <tr style=\"text-align: right;\">\n",
       "      <th></th>\n",
       "      <th>first</th>\n",
       "      <th>bar</th>\n",
       "      <th>baz</th>\n",
       "    </tr>\n",
       "    <tr>\n",
       "      <th>second</th>\n",
       "      <th></th>\n",
       "      <th></th>\n",
       "      <th></th>\n",
       "    </tr>\n",
       "  </thead>\n",
       "  <tbody>\n",
       "    <tr>\n",
       "      <th rowspan=\"2\" valign=\"top\">one</th>\n",
       "      <th>A</th>\n",
       "      <td>-0.345185</td>\n",
       "      <td>0.699023</td>\n",
       "    </tr>\n",
       "    <tr>\n",
       "      <th>B</th>\n",
       "      <td>0.618897</td>\n",
       "      <td>0.475571</td>\n",
       "    </tr>\n",
       "    <tr>\n",
       "      <th rowspan=\"2\" valign=\"top\">two</th>\n",
       "      <th>A</th>\n",
       "      <td>-0.695735</td>\n",
       "      <td>1.236617</td>\n",
       "    </tr>\n",
       "    <tr>\n",
       "      <th>B</th>\n",
       "      <td>-0.906219</td>\n",
       "      <td>-1.558161</td>\n",
       "    </tr>\n",
       "  </tbody>\n",
       "</table>\n",
       "</div>"
      ],
      "text/plain": [
       "first          bar       baz\n",
       "second                      \n",
       "one    A -0.345185  0.699023\n",
       "       B  0.618897  0.475571\n",
       "two    A -0.695735  1.236617\n",
       "       B -0.906219 -1.558161"
      ]
     },
     "execution_count": 133,
     "metadata": {},
     "output_type": "execute_result"
    }
   ],
   "source": [
    "stacked.unstack(0)"
   ]
  },
  {
   "cell_type": "markdown",
   "id": "7c005f4c-7dba-4394-9196-4f3c078a4dad",
   "metadata": {},
   "source": [
    "__Pivot tables__"
   ]
  },
  {
   "cell_type": "code",
   "execution_count": 135,
   "id": "fdf25f0f-d6c4-41a3-b463-5a44f6e2a8d7",
   "metadata": {},
   "outputs": [
    {
     "data": {
      "text/html": [
       "<div>\n",
       "<style scoped>\n",
       "    .dataframe tbody tr th:only-of-type {\n",
       "        vertical-align: middle;\n",
       "    }\n",
       "\n",
       "    .dataframe tbody tr th {\n",
       "        vertical-align: top;\n",
       "    }\n",
       "\n",
       "    .dataframe thead th {\n",
       "        text-align: right;\n",
       "    }\n",
       "</style>\n",
       "<table border=\"1\" class=\"dataframe\">\n",
       "  <thead>\n",
       "    <tr style=\"text-align: right;\">\n",
       "      <th></th>\n",
       "      <th>A</th>\n",
       "      <th>B</th>\n",
       "      <th>C</th>\n",
       "      <th>D</th>\n",
       "      <th>E</th>\n",
       "    </tr>\n",
       "  </thead>\n",
       "  <tbody>\n",
       "    <tr>\n",
       "      <th>0</th>\n",
       "      <td>one</td>\n",
       "      <td>A</td>\n",
       "      <td>foo</td>\n",
       "      <td>-1.459284</td>\n",
       "      <td>1.362353</td>\n",
       "    </tr>\n",
       "    <tr>\n",
       "      <th>1</th>\n",
       "      <td>one</td>\n",
       "      <td>B</td>\n",
       "      <td>foo</td>\n",
       "      <td>0.136446</td>\n",
       "      <td>-1.935248</td>\n",
       "    </tr>\n",
       "    <tr>\n",
       "      <th>2</th>\n",
       "      <td>two</td>\n",
       "      <td>C</td>\n",
       "      <td>foo</td>\n",
       "      <td>1.111712</td>\n",
       "      <td>0.461303</td>\n",
       "    </tr>\n",
       "    <tr>\n",
       "      <th>3</th>\n",
       "      <td>three</td>\n",
       "      <td>A</td>\n",
       "      <td>bar</td>\n",
       "      <td>1.468884</td>\n",
       "      <td>-1.564753</td>\n",
       "    </tr>\n",
       "    <tr>\n",
       "      <th>4</th>\n",
       "      <td>one</td>\n",
       "      <td>B</td>\n",
       "      <td>bar</td>\n",
       "      <td>-1.022354</td>\n",
       "      <td>0.421910</td>\n",
       "    </tr>\n",
       "    <tr>\n",
       "      <th>5</th>\n",
       "      <td>one</td>\n",
       "      <td>C</td>\n",
       "      <td>bar</td>\n",
       "      <td>-0.339476</td>\n",
       "      <td>-0.349605</td>\n",
       "    </tr>\n",
       "    <tr>\n",
       "      <th>6</th>\n",
       "      <td>two</td>\n",
       "      <td>A</td>\n",
       "      <td>foo</td>\n",
       "      <td>2.579724</td>\n",
       "      <td>0.175953</td>\n",
       "    </tr>\n",
       "    <tr>\n",
       "      <th>7</th>\n",
       "      <td>three</td>\n",
       "      <td>B</td>\n",
       "      <td>foo</td>\n",
       "      <td>0.297258</td>\n",
       "      <td>-0.495554</td>\n",
       "    </tr>\n",
       "    <tr>\n",
       "      <th>8</th>\n",
       "      <td>one</td>\n",
       "      <td>C</td>\n",
       "      <td>foo</td>\n",
       "      <td>-0.047087</td>\n",
       "      <td>0.981850</td>\n",
       "    </tr>\n",
       "    <tr>\n",
       "      <th>9</th>\n",
       "      <td>one</td>\n",
       "      <td>A</td>\n",
       "      <td>bar</td>\n",
       "      <td>0.257143</td>\n",
       "      <td>0.477068</td>\n",
       "    </tr>\n",
       "    <tr>\n",
       "      <th>10</th>\n",
       "      <td>two</td>\n",
       "      <td>B</td>\n",
       "      <td>bar</td>\n",
       "      <td>0.883160</td>\n",
       "      <td>0.346458</td>\n",
       "    </tr>\n",
       "    <tr>\n",
       "      <th>11</th>\n",
       "      <td>three</td>\n",
       "      <td>C</td>\n",
       "      <td>bar</td>\n",
       "      <td>1.194762</td>\n",
       "      <td>-0.365593</td>\n",
       "    </tr>\n",
       "  </tbody>\n",
       "</table>\n",
       "</div>"
      ],
      "text/plain": [
       "        A  B    C         D         E\n",
       "0     one  A  foo -1.459284  1.362353\n",
       "1     one  B  foo  0.136446 -1.935248\n",
       "2     two  C  foo  1.111712  0.461303\n",
       "3   three  A  bar  1.468884 -1.564753\n",
       "4     one  B  bar -1.022354  0.421910\n",
       "5     one  C  bar -0.339476 -0.349605\n",
       "6     two  A  foo  2.579724  0.175953\n",
       "7   three  B  foo  0.297258 -0.495554\n",
       "8     one  C  foo -0.047087  0.981850\n",
       "9     one  A  bar  0.257143  0.477068\n",
       "10    two  B  bar  0.883160  0.346458\n",
       "11  three  C  bar  1.194762 -0.365593"
      ]
     },
     "execution_count": 135,
     "metadata": {},
     "output_type": "execute_result"
    }
   ],
   "source": [
    "df = pd.DataFrame(\n",
    "    {\n",
    "        \"A\": [\"one\", \"one\", \"two\", \"three\"] * 3,\n",
    "        \"B\": [\"A\", \"B\", \"C\"] * 4,\n",
    "        \"C\": [\"foo\", \"foo\", \"foo\", \"bar\", \"bar\", \"bar\"] * 2,\n",
    "        \"D\": np.random.randn(12),\n",
    "        \"E\": np.random.randn(12),\n",
    "    }\n",
    ")\n",
    "df"
   ]
  },
  {
   "cell_type": "markdown",
   "id": "7b270199-61f2-455b-a63b-adfac63ea701",
   "metadata": {},
   "source": [
    "```pivot_table()``` pivots a ```DataFrame``` specifying the ```values```, ```index``` and ```columns```\n"
   ]
  },
  {
   "cell_type": "code",
   "execution_count": 136,
   "id": "b8c20692-39c9-4643-95e2-e9cd16bab7e1",
   "metadata": {},
   "outputs": [
    {
     "data": {
      "text/html": [
       "<div>\n",
       "<style scoped>\n",
       "    .dataframe tbody tr th:only-of-type {\n",
       "        vertical-align: middle;\n",
       "    }\n",
       "\n",
       "    .dataframe tbody tr th {\n",
       "        vertical-align: top;\n",
       "    }\n",
       "\n",
       "    .dataframe thead th {\n",
       "        text-align: right;\n",
       "    }\n",
       "</style>\n",
       "<table border=\"1\" class=\"dataframe\">\n",
       "  <thead>\n",
       "    <tr style=\"text-align: right;\">\n",
       "      <th></th>\n",
       "      <th>C</th>\n",
       "      <th>bar</th>\n",
       "      <th>foo</th>\n",
       "    </tr>\n",
       "    <tr>\n",
       "      <th>A</th>\n",
       "      <th>B</th>\n",
       "      <th></th>\n",
       "      <th></th>\n",
       "    </tr>\n",
       "  </thead>\n",
       "  <tbody>\n",
       "    <tr>\n",
       "      <th rowspan=\"3\" valign=\"top\">one</th>\n",
       "      <th>A</th>\n",
       "      <td>0.257143</td>\n",
       "      <td>-1.459284</td>\n",
       "    </tr>\n",
       "    <tr>\n",
       "      <th>B</th>\n",
       "      <td>-1.022354</td>\n",
       "      <td>0.136446</td>\n",
       "    </tr>\n",
       "    <tr>\n",
       "      <th>C</th>\n",
       "      <td>-0.339476</td>\n",
       "      <td>-0.047087</td>\n",
       "    </tr>\n",
       "    <tr>\n",
       "      <th rowspan=\"3\" valign=\"top\">three</th>\n",
       "      <th>A</th>\n",
       "      <td>1.468884</td>\n",
       "      <td>NaN</td>\n",
       "    </tr>\n",
       "    <tr>\n",
       "      <th>B</th>\n",
       "      <td>NaN</td>\n",
       "      <td>0.297258</td>\n",
       "    </tr>\n",
       "    <tr>\n",
       "      <th>C</th>\n",
       "      <td>1.194762</td>\n",
       "      <td>NaN</td>\n",
       "    </tr>\n",
       "    <tr>\n",
       "      <th rowspan=\"3\" valign=\"top\">two</th>\n",
       "      <th>A</th>\n",
       "      <td>NaN</td>\n",
       "      <td>2.579724</td>\n",
       "    </tr>\n",
       "    <tr>\n",
       "      <th>B</th>\n",
       "      <td>0.883160</td>\n",
       "      <td>NaN</td>\n",
       "    </tr>\n",
       "    <tr>\n",
       "      <th>C</th>\n",
       "      <td>NaN</td>\n",
       "      <td>1.111712</td>\n",
       "    </tr>\n",
       "  </tbody>\n",
       "</table>\n",
       "</div>"
      ],
      "text/plain": [
       "C             bar       foo\n",
       "A     B                    \n",
       "one   A  0.257143 -1.459284\n",
       "      B -1.022354  0.136446\n",
       "      C -0.339476 -0.047087\n",
       "three A  1.468884       NaN\n",
       "      B       NaN  0.297258\n",
       "      C  1.194762       NaN\n",
       "two   A       NaN  2.579724\n",
       "      B  0.883160       NaN\n",
       "      C       NaN  1.111712"
      ]
     },
     "execution_count": 136,
     "metadata": {},
     "output_type": "execute_result"
    }
   ],
   "source": [
    "pd.pivot_table(df, values=\"D\", index=[\"A\", \"B\"], columns=[\"C\"])"
   ]
  },
  {
   "cell_type": "markdown",
   "id": "33aa5ec2-dab0-4ac2-b5cd-4413558bb197",
   "metadata": {},
   "source": [
    "__Time series__\n",
    "\n",
    "pandas has simple, powerful, and efficient functionality for performing resampling operations during frequency conversion (e.g., converting secondly data into 5-minutely data). This is extremely common in, but not limited to, financial applications."
   ]
  },
  {
   "cell_type": "code",
   "execution_count": 141,
   "id": "1ffe61b9-e035-4a12-b69b-68f2ed925e76",
   "metadata": {},
   "outputs": [
    {
     "data": {
      "text/plain": [
       "2025-01-01    27794\n",
       "Freq: 5min, dtype: int64"
      ]
     },
     "execution_count": 141,
     "metadata": {},
     "output_type": "execute_result"
    }
   ],
   "source": [
    "rng = pd.date_range(\"1/1/2025\", periods=100, freq=\"s\")\n",
    "ts = pd.Series(np.random.randint(0, 500, len(rng)), index=rng)\n",
    "ts.resample(\"5Min\").sum()"
   ]
  },
  {
   "cell_type": "markdown",
   "id": "21b660f0-3dcc-48e1-a981-96e6921e046f",
   "metadata": {},
   "source": [
    "__Plotting__\n",
    "\n",
    "We use the standard convention for referencing the matplotlib API:"
   ]
  },
  {
   "cell_type": "code",
   "execution_count": 143,
   "id": "f5016b6d-6fe0-44bf-8fbf-af42cefc9178",
   "metadata": {},
   "outputs": [],
   "source": [
    "import matplotlib.pyplot as plt\n",
    "plt.close(\"all\")"
   ]
  },
  {
   "cell_type": "code",
   "execution_count": 146,
   "id": "fd2ad77a-a021-4662-bed9-19298692c4f0",
   "metadata": {},
   "outputs": [
    {
     "data": {
      "image/png": "[encoded data removed]",
      "text/plain": [
       "<Figure size 640x480 with 1 Axes>"
      ]
     },
     "metadata": {},
     "output_type": "display_data"
    }
   ],
   "source": [
    "ts = pd.Series(np.random.randn(1000), index=pd.date_range(\"1/1/2025\", periods=1000))\n",
    "ts = ts.cumsum()\n",
    "ts.plot();"
   ]
  },
  {
   "cell_type": "code",
   "execution_count": 149,
   "id": "1b3857c8-6ac7-4c8f-ae8d-db8fa4c3871f",
   "metadata": {},
   "outputs": [
    {
     "data": {
      "text/plain": [
       "<Figure size 640x480 with 0 Axes>"
      ]
     },
     "metadata": {},
     "output_type": "display_data"
    },
    {
     "data": {
      "image/png": "[encoded data removed]",
      "text/plain": [
       "<Figure size 640x480 with 1 Axes>"
      ]
     },
     "metadata": {},
     "output_type": "display_data"
    }
   ],
   "source": [
    "# plot all columns\n",
    "\n",
    "df = pd.DataFrame(\n",
    "    np.random.randn(1000, 4), index=ts.index, columns=[\"A\", \"B\", \"C\", \"D\"]\n",
    ")\n",
    "\n",
    "df = df.cumsum()\n",
    "plt.figure();\n",
    "df.plot();\n",
    "plt.legend(loc='best');"
   ]
  }
 ],
 "metadata": {
  "kernelspec": {
   "display_name": "Python 3 (ipykernel)",
   "language": "python",
   "name": "python3"
  },
  "language_info": {
   "codemirror_mode": {
    "name": "ipython",
    "version": 3
   },
   "file_extension": ".py",
   "mimetype": "text/x-python",
   "name": "python",
   "nbconvert_exporter": "python",
   "pygments_lexer": "ipython3",
   "version": "3.12.8"
  }
 },
 "nbformat": 4,
 "nbformat_minor": 5
}
