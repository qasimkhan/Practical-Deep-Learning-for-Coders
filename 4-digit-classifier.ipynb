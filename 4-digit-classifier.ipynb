{
 "cells": [
  {
   "cell_type": "code",
   "execution_count": 1,
   "id": "4a2a7cd4-f915-4f5a-921f-238853e68651",
   "metadata": {},
   "outputs": [],
   "source": [
    "#hide\n",
    "! [ -e /content ] && pip install -Uqq fastbook\n",
    "import fastbook\n",
    "fastbook.setup_book()\n",
    "# matplotlib.rc('image', cmap='Greys')"
   ]
  },
  {
   "cell_type": "code",
   "execution_count": 2,
   "id": "8273d48b-832a-45c5-81d7-d4f640f6c3bd",
   "metadata": {},
   "outputs": [],
   "source": [
    "#hide\n",
    "from ipywidgets import interact\n",
    "from fastai.vision.all import *\n",
    "from fastbook import *"
   ]
  },
  {
   "cell_type": "code",
   "execution_count": 3,
   "id": "b92134c2-289e-4c5f-b0d0-6567e1a27a98",
   "metadata": {},
   "outputs": [],
   "source": [
    "path = untar_data(URLs.MNIST_SAMPLE)"
   ]
  },
  {
   "cell_type": "code",
   "execution_count": 4,
   "id": "2f332cd9-ff57-4736-8f55-a287cbb50191",
   "metadata": {},
   "outputs": [],
   "source": [
    "#hide\n",
    "Path.BASE_PATH = path"
   ]
  },
  {
   "cell_type": "code",
   "execution_count": 5,
   "id": "58cb323c-0c3e-484d-81e0-49f38610bfd1",
   "metadata": {},
   "outputs": [
    {
     "data": {
      "text/plain": [
       "(#3) [Path('valid'),Path('train'),Path('labels.csv')]"
      ]
     },
     "execution_count": 5,
     "metadata": {},
     "output_type": "execute_result"
    }
   ],
   "source": [
    "path.ls()"
   ]
  },
  {
   "cell_type": "code",
   "execution_count": 6,
   "id": "332d0b09-716b-4c3b-843c-d59bbd12f65f",
   "metadata": {},
   "outputs": [
    {
     "data": {
      "text/plain": [
       "(#2) [Path('train/7'),Path('train/3')]"
      ]
     },
     "execution_count": 6,
     "metadata": {},
     "output_type": "execute_result"
    }
   ],
   "source": [
    "(path/'train').ls()"
   ]
  },
  {
   "cell_type": "code",
   "execution_count": 7,
   "id": "d91429ba-6e13-4d1f-8134-afb3679d4f4b",
   "metadata": {},
   "outputs": [
    {
     "data": {
      "text/plain": [
       "(#6131) [Path('train/3/10.png'),Path('train/3/10000.png'),Path('train/3/10011.png'),Path('train/3/10031.png'),Path('train/3/10034.png'),Path('train/3/10042.png'),Path('train/3/10052.png'),Path('train/3/1007.png'),Path('train/3/10074.png'),Path('train/3/10091.png'),Path('train/3/10093.png'),Path('train/3/10097.png'),Path('train/3/10099.png'),Path('train/3/10116.png'),Path('train/3/10125.png'),Path('train/3/10137.png'),Path('train/3/10141.png'),Path('train/3/10144.png'),Path('train/3/10155.png'),Path('train/3/10161.png')...]"
      ]
     },
     "execution_count": 7,
     "metadata": {},
     "output_type": "execute_result"
    }
   ],
   "source": [
    "threes = (path/'train'/'3').ls().sorted()\n",
    "sevens = (path/'train'/'7').ls().sorted()\n",
    "threes"
   ]
  },
  {
   "cell_type": "code",
   "execution_count": 8,
   "id": "3025b9b0-d770-4497-b957-a7515687c167",
   "metadata": {},
   "outputs": [
    {
     "data": {
      "image/jpeg": "[encoded data removed]",
      "image/png": "[encoded data removed]",
      "text/plain": [
       "<PIL.PngImagePlugin.PngImageFile image mode=L size=28x28>"
      ]
     },
     "execution_count": 8,
     "metadata": {},
     "output_type": "execute_result"
    }
   ],
   "source": [
    "im3_path = threes[10]\n",
    "im3 = Image.open(im3_path)\n",
    "im3"
   ]
  },
  {
   "cell_type": "code",
   "execution_count": 9,
   "id": "1c2b3233-bc08-4b08-a2d0-b3533f4e3d41",
   "metadata": {},
   "outputs": [
    {
     "data": {
      "text/plain": [
       "array([[  0,   0,  30, 144, 173],\n",
       "       [ 12, 148, 244, 254, 253],\n",
       "       [136, 253, 253, 254, 227],\n",
       "       [ 94, 231, 231, 169,  41],\n",
       "       [  0,   0,   0,   0,   0],\n",
       "       [  0,   0,   0,   0,   0]], dtype=uint8)"
      ]
     },
     "execution_count": 9,
     "metadata": {},
     "output_type": "execute_result"
    }
   ],
   "source": [
    "array(im3)[5:11, 10:15]"
   ]
  },
  {
   "cell_type": "markdown",
   "id": "1adaab39-1746-4c92-9f39-5deca031db28",
   "metadata": {},
   "source": [
    "Here's the same thing as a PyTorch tensor"
   ]
  },
  {
   "cell_type": "code",
   "execution_count": 10,
   "id": "2deedc89-0124-4d0b-9e1b-fd6311f83876",
   "metadata": {},
   "outputs": [
    {
     "data": {
      "text/plain": [
       "tensor([[  0,   0,  30, 144, 173],\n",
       "        [ 12, 148, 244, 254, 253],\n",
       "        [136, 253, 253, 254, 227],\n",
       "        [ 94, 231, 231, 169,  41],\n",
       "        [  0,   0,   0,   0,   0],\n",
       "        [  0,   0,   0,   0,   0]], dtype=torch.uint8)"
      ]
     },
     "execution_count": 10,
     "metadata": {},
     "output_type": "execute_result"
    }
   ],
   "source": [
    "tensor(im3)[5:11, 10:15]"
   ]
  },
  {
   "cell_type": "code",
   "execution_count": 11,
   "id": "ed666f9d-a35a-4191-b187-a53e38cec05c",
   "metadata": {},
   "outputs": [
    {
     "data": {
      "text/html": [
       "<style type=\"text/css\">\n",
       "#T_4b14b_row0_col0, #T_4b14b_row0_col1, #T_4b14b_row0_col2, #T_4b14b_row0_col3, #T_4b14b_row0_col4, #T_4b14b_row0_col5, #T_4b14b_row0_col6, #T_4b14b_row0_col7, #T_4b14b_row0_col8, #T_4b14b_row0_col9, #T_4b14b_row0_col10, #T_4b14b_row0_col11, #T_4b14b_row0_col12, #T_4b14b_row0_col13, #T_4b14b_row0_col14, #T_4b14b_row0_col15, #T_4b14b_row0_col16, #T_4b14b_row0_col17, #T_4b14b_row1_col0, #T_4b14b_row1_col1, #T_4b14b_row1_col2, #T_4b14b_row1_col3, #T_4b14b_row1_col4, #T_4b14b_row1_col5, #T_4b14b_row1_col6, #T_4b14b_row1_col7, #T_4b14b_row1_col16, #T_4b14b_row1_col17, #T_4b14b_row2_col0, #T_4b14b_row2_col1, #T_4b14b_row2_col2, #T_4b14b_row2_col3, #T_4b14b_row2_col4, #T_4b14b_row2_col5, #T_4b14b_row2_col16, #T_4b14b_row2_col17, #T_4b14b_row3_col0, #T_4b14b_row3_col1, #T_4b14b_row3_col2, #T_4b14b_row3_col3, #T_4b14b_row3_col4, #T_4b14b_row3_col5, #T_4b14b_row3_col16, #T_4b14b_row3_col17, #T_4b14b_row4_col0, #T_4b14b_row4_col1, #T_4b14b_row4_col2, #T_4b14b_row4_col3, #T_4b14b_row4_col4, #T_4b14b_row4_col5, #T_4b14b_row4_col11, #T_4b14b_row4_col12, #T_4b14b_row4_col16, #T_4b14b_row4_col17, #T_4b14b_row5_col0, #T_4b14b_row5_col1, #T_4b14b_row5_col2, #T_4b14b_row5_col3, #T_4b14b_row5_col4, #T_4b14b_row5_col5, #T_4b14b_row5_col6, #T_4b14b_row5_col7, #T_4b14b_row5_col8, #T_4b14b_row5_col9, #T_4b14b_row5_col10, #T_4b14b_row5_col11, #T_4b14b_row5_col16, #T_4b14b_row5_col17, #T_4b14b_row6_col0, #T_4b14b_row6_col1, #T_4b14b_row6_col2, #T_4b14b_row6_col3, #T_4b14b_row6_col4, #T_4b14b_row6_col5, #T_4b14b_row6_col6, #T_4b14b_row6_col7, #T_4b14b_row6_col8, #T_4b14b_row6_col9, #T_4b14b_row6_col10, #T_4b14b_row6_col11, #T_4b14b_row6_col16, #T_4b14b_row6_col17, #T_4b14b_row7_col0, #T_4b14b_row7_col1, #T_4b14b_row7_col2, #T_4b14b_row7_col3, #T_4b14b_row7_col4, #T_4b14b_row7_col5, #T_4b14b_row7_col6, #T_4b14b_row7_col7, #T_4b14b_row7_col15, #T_4b14b_row7_col16, #T_4b14b_row7_col17, #T_4b14b_row8_col0, #T_4b14b_row8_col1, #T_4b14b_row8_col2, #T_4b14b_row8_col3, #T_4b14b_row8_col4, #T_4b14b_row8_col5, #T_4b14b_row8_col15, #T_4b14b_row8_col16, #T_4b14b_row8_col17, #T_4b14b_row9_col0, #T_4b14b_row9_col1, #T_4b14b_row9_col2, #T_4b14b_row9_col3, #T_4b14b_row9_col4, #T_4b14b_row9_col16, #T_4b14b_row9_col17, #T_4b14b_row10_col0, #T_4b14b_row10_col1, #T_4b14b_row10_col2, #T_4b14b_row10_col3, #T_4b14b_row10_col4, #T_4b14b_row10_col16, #T_4b14b_row10_col17 {\n",
       "  font-size: 6pt;\n",
       "  background-color: #ffffff;\n",
       "  color: #000000;\n",
       "}\n",
       "#T_4b14b_row1_col8 {\n",
       "  font-size: 6pt;\n",
       "  background-color: #f1f1f1;\n",
       "  color: #000000;\n",
       "}\n",
       "#T_4b14b_row1_col9 {\n",
       "  font-size: 6pt;\n",
       "  background-color: #848484;\n",
       "  color: #f1f1f1;\n",
       "}\n",
       "#T_4b14b_row1_col10 {\n",
       "  font-size: 6pt;\n",
       "  background-color: #636363;\n",
       "  color: #f1f1f1;\n",
       "}\n",
       "#T_4b14b_row1_col11, #T_4b14b_row1_col12, #T_4b14b_row1_col13, #T_4b14b_row2_col10, #T_4b14b_row2_col14, #T_4b14b_row2_col15, #T_4b14b_row3_col7, #T_4b14b_row3_col8, #T_4b14b_row3_col14, #T_4b14b_row3_col15, #T_4b14b_row4_col14, #T_4b14b_row4_col15, #T_4b14b_row5_col14, #T_4b14b_row8_col10, #T_4b14b_row9_col7, #T_4b14b_row9_col8, #T_4b14b_row9_col9, #T_4b14b_row9_col10, #T_4b14b_row10_col5, #T_4b14b_row10_col6, #T_4b14b_row10_col7, #T_4b14b_row10_col8, #T_4b14b_row10_col14 {\n",
       "  font-size: 6pt;\n",
       "  background-color: #000000;\n",
       "  color: #f1f1f1;\n",
       "}\n",
       "#T_4b14b_row1_col14 {\n",
       "  font-size: 6pt;\n",
       "  background-color: #2c2c2c;\n",
       "  color: #f1f1f1;\n",
       "}\n",
       "#T_4b14b_row1_col15, #T_4b14b_row4_col6 {\n",
       "  font-size: 6pt;\n",
       "  background-color: #bebebe;\n",
       "  color: #000000;\n",
       "}\n",
       "#T_4b14b_row2_col6 {\n",
       "  font-size: 6pt;\n",
       "  background-color: #f9f9f9;\n",
       "  color: #000000;\n",
       "}\n",
       "#T_4b14b_row2_col7 {\n",
       "  font-size: 6pt;\n",
       "  background-color: #7e7e7e;\n",
       "  color: #f1f1f1;\n",
       "}\n",
       "#T_4b14b_row2_col8 {\n",
       "  font-size: 6pt;\n",
       "  background-color: #0a0a0a;\n",
       "  color: #f1f1f1;\n",
       "}\n",
       "#T_4b14b_row2_col9, #T_4b14b_row2_col11, #T_4b14b_row3_col9, #T_4b14b_row6_col13, #T_4b14b_row7_col12, #T_4b14b_row7_col13, #T_4b14b_row8_col9, #T_4b14b_row8_col11, #T_4b14b_row8_col12, #T_4b14b_row8_col13, #T_4b14b_row9_col13, #T_4b14b_row10_col9 {\n",
       "  font-size: 6pt;\n",
       "  background-color: #010101;\n",
       "  color: #f1f1f1;\n",
       "}\n",
       "#T_4b14b_row2_col12 {\n",
       "  font-size: 6pt;\n",
       "  background-color: #535353;\n",
       "  color: #f1f1f1;\n",
       "}\n",
       "#T_4b14b_row2_col13 {\n",
       "  font-size: 6pt;\n",
       "  background-color: #1c1c1c;\n",
       "  color: #f1f1f1;\n",
       "}\n",
       "#T_4b14b_row3_col6 {\n",
       "  font-size: 6pt;\n",
       "  background-color: #8c8c8c;\n",
       "  color: #f1f1f1;\n",
       "}\n",
       "#T_4b14b_row3_col10 {\n",
       "  font-size: 6pt;\n",
       "  background-color: #1e1e1e;\n",
       "  color: #f1f1f1;\n",
       "}\n",
       "#T_4b14b_row3_col11 {\n",
       "  font-size: 6pt;\n",
       "  background-color: #dadada;\n",
       "  color: #000000;\n",
       "}\n",
       "#T_4b14b_row3_col12, #T_4b14b_row10_col12 {\n",
       "  font-size: 6pt;\n",
       "  background-color: #fefefe;\n",
       "  color: #000000;\n",
       "}\n",
       "#T_4b14b_row3_col13, #T_4b14b_row7_col9 {\n",
       "  font-size: 6pt;\n",
       "  background-color: #cfcfcf;\n",
       "  color: #000000;\n",
       "}\n",
       "#T_4b14b_row4_col7, #T_4b14b_row4_col8 {\n",
       "  font-size: 6pt;\n",
       "  background-color: #1a1a1a;\n",
       "  color: #f1f1f1;\n",
       "}\n",
       "#T_4b14b_row4_col9 {\n",
       "  font-size: 6pt;\n",
       "  background-color: #696969;\n",
       "  color: #f1f1f1;\n",
       "}\n",
       "#T_4b14b_row4_col10 {\n",
       "  font-size: 6pt;\n",
       "  background-color: #e9e9e9;\n",
       "  color: #000000;\n",
       "}\n",
       "#T_4b14b_row4_col13 {\n",
       "  font-size: 6pt;\n",
       "  background-color: #a7a7a7;\n",
       "  color: #f1f1f1;\n",
       "}\n",
       "#T_4b14b_row5_col12, #T_4b14b_row7_col8 {\n",
       "  font-size: 6pt;\n",
       "  background-color: #fdfdfd;\n",
       "  color: #000000;\n",
       "}\n",
       "#T_4b14b_row5_col13 {\n",
       "  font-size: 6pt;\n",
       "  background-color: #575757;\n",
       "  color: #f1f1f1;\n",
       "}\n",
       "#T_4b14b_row5_col15 {\n",
       "  font-size: 6pt;\n",
       "  background-color: #1d1d1d;\n",
       "  color: #f1f1f1;\n",
       "}\n",
       "#T_4b14b_row6_col12 {\n",
       "  font-size: 6pt;\n",
       "  background-color: #4a4a4a;\n",
       "  color: #f1f1f1;\n",
       "}\n",
       "#T_4b14b_row6_col14, #T_4b14b_row9_col11 {\n",
       "  font-size: 6pt;\n",
       "  background-color: #242424;\n",
       "  color: #f1f1f1;\n",
       "}\n",
       "#T_4b14b_row6_col15 {\n",
       "  font-size: 6pt;\n",
       "  background-color: #c2c2c2;\n",
       "  color: #000000;\n",
       "}\n",
       "#T_4b14b_row7_col10 {\n",
       "  font-size: 6pt;\n",
       "  background-color: #9c9c9c;\n",
       "  color: #f1f1f1;\n",
       "}\n",
       "#T_4b14b_row7_col11 {\n",
       "  font-size: 6pt;\n",
       "  background-color: #323232;\n",
       "  color: #f1f1f1;\n",
       "}\n",
       "#T_4b14b_row7_col14 {\n",
       "  font-size: 6pt;\n",
       "  background-color: #a8a8a8;\n",
       "  color: #f1f1f1;\n",
       "}\n",
       "#T_4b14b_row8_col6 {\n",
       "  font-size: 6pt;\n",
       "  background-color: #fbfbfb;\n",
       "  color: #000000;\n",
       "}\n",
       "#T_4b14b_row8_col7 {\n",
       "  font-size: 6pt;\n",
       "  background-color: #959595;\n",
       "  color: #f1f1f1;\n",
       "}\n",
       "#T_4b14b_row8_col8 {\n",
       "  font-size: 6pt;\n",
       "  background-color: #464646;\n",
       "  color: #f1f1f1;\n",
       "}\n",
       "#T_4b14b_row8_col14, #T_4b14b_row10_col15 {\n",
       "  font-size: 6pt;\n",
       "  background-color: #d0d0d0;\n",
       "  color: #000000;\n",
       "}\n",
       "#T_4b14b_row9_col5 {\n",
       "  font-size: 6pt;\n",
       "  background-color: #dedede;\n",
       "  color: #000000;\n",
       "}\n",
       "#T_4b14b_row9_col6 {\n",
       "  font-size: 6pt;\n",
       "  background-color: #767676;\n",
       "  color: #f1f1f1;\n",
       "}\n",
       "#T_4b14b_row9_col12 {\n",
       "  font-size: 6pt;\n",
       "  background-color: #5a5a5a;\n",
       "  color: #f1f1f1;\n",
       "}\n",
       "#T_4b14b_row9_col14 {\n",
       "  font-size: 6pt;\n",
       "  background-color: #4e4e4e;\n",
       "  color: #f1f1f1;\n",
       "}\n",
       "#T_4b14b_row9_col15 {\n",
       "  font-size: 6pt;\n",
       "  background-color: #fcfcfc;\n",
       "  color: #000000;\n",
       "}\n",
       "#T_4b14b_row10_col10 {\n",
       "  font-size: 6pt;\n",
       "  background-color: #7f7f7f;\n",
       "  color: #f1f1f1;\n",
       "}\n",
       "#T_4b14b_row10_col11 {\n",
       "  font-size: 6pt;\n",
       "  background-color: #f6f6f6;\n",
       "  color: #000000;\n",
       "}\n",
       "#T_4b14b_row10_col13 {\n",
       "  font-size: 6pt;\n",
       "  background-color: #606060;\n",
       "  color: #f1f1f1;\n",
       "}\n",
       "</style>\n",
       "<table id=\"T_4b14b\">\n",
       "  <thead>\n",
       "    <tr>\n",
       "      <th class=\"blank level0\" >&nbsp;</th>\n",
       "      <th id=\"T_4b14b_level0_col0\" class=\"col_heading level0 col0\" >0</th>\n",
       "      <th id=\"T_4b14b_level0_col1\" class=\"col_heading level0 col1\" >1</th>\n",
       "      <th id=\"T_4b14b_level0_col2\" class=\"col_heading level0 col2\" >2</th>\n",
       "      <th id=\"T_4b14b_level0_col3\" class=\"col_heading level0 col3\" >3</th>\n",
       "      <th id=\"T_4b14b_level0_col4\" class=\"col_heading level0 col4\" >4</th>\n",
       "      <th id=\"T_4b14b_level0_col5\" class=\"col_heading level0 col5\" >5</th>\n",
       "      <th id=\"T_4b14b_level0_col6\" class=\"col_heading level0 col6\" >6</th>\n",
       "      <th id=\"T_4b14b_level0_col7\" class=\"col_heading level0 col7\" >7</th>\n",
       "      <th id=\"T_4b14b_level0_col8\" class=\"col_heading level0 col8\" >8</th>\n",
       "      <th id=\"T_4b14b_level0_col9\" class=\"col_heading level0 col9\" >9</th>\n",
       "      <th id=\"T_4b14b_level0_col10\" class=\"col_heading level0 col10\" >10</th>\n",
       "      <th id=\"T_4b14b_level0_col11\" class=\"col_heading level0 col11\" >11</th>\n",
       "      <th id=\"T_4b14b_level0_col12\" class=\"col_heading level0 col12\" >12</th>\n",
       "      <th id=\"T_4b14b_level0_col13\" class=\"col_heading level0 col13\" >13</th>\n",
       "      <th id=\"T_4b14b_level0_col14\" class=\"col_heading level0 col14\" >14</th>\n",
       "      <th id=\"T_4b14b_level0_col15\" class=\"col_heading level0 col15\" >15</th>\n",
       "      <th id=\"T_4b14b_level0_col16\" class=\"col_heading level0 col16\" >16</th>\n",
       "      <th id=\"T_4b14b_level0_col17\" class=\"col_heading level0 col17\" >17</th>\n",
       "    </tr>\n",
       "  </thead>\n",
       "  <tbody>\n",
       "    <tr>\n",
       "      <th id=\"T_4b14b_level0_row0\" class=\"row_heading level0 row0\" >0</th>\n",
       "      <td id=\"T_4b14b_row0_col0\" class=\"data row0 col0\" >0</td>\n",
       "      <td id=\"T_4b14b_row0_col1\" class=\"data row0 col1\" >0</td>\n",
       "      <td id=\"T_4b14b_row0_col2\" class=\"data row0 col2\" >0</td>\n",
       "      <td id=\"T_4b14b_row0_col3\" class=\"data row0 col3\" >0</td>\n",
       "      <td id=\"T_4b14b_row0_col4\" class=\"data row0 col4\" >0</td>\n",
       "      <td id=\"T_4b14b_row0_col5\" class=\"data row0 col5\" >0</td>\n",
       "      <td id=\"T_4b14b_row0_col6\" class=\"data row0 col6\" >0</td>\n",
       "      <td id=\"T_4b14b_row0_col7\" class=\"data row0 col7\" >0</td>\n",
       "      <td id=\"T_4b14b_row0_col8\" class=\"data row0 col8\" >0</td>\n",
       "      <td id=\"T_4b14b_row0_col9\" class=\"data row0 col9\" >0</td>\n",
       "      <td id=\"T_4b14b_row0_col10\" class=\"data row0 col10\" >0</td>\n",
       "      <td id=\"T_4b14b_row0_col11\" class=\"data row0 col11\" >0</td>\n",
       "      <td id=\"T_4b14b_row0_col12\" class=\"data row0 col12\" >0</td>\n",
       "      <td id=\"T_4b14b_row0_col13\" class=\"data row0 col13\" >0</td>\n",
       "      <td id=\"T_4b14b_row0_col14\" class=\"data row0 col14\" >0</td>\n",
       "      <td id=\"T_4b14b_row0_col15\" class=\"data row0 col15\" >0</td>\n",
       "      <td id=\"T_4b14b_row0_col16\" class=\"data row0 col16\" >0</td>\n",
       "      <td id=\"T_4b14b_row0_col17\" class=\"data row0 col17\" >0</td>\n",
       "    </tr>\n",
       "    <tr>\n",
       "      <th id=\"T_4b14b_level0_row1\" class=\"row_heading level0 row1\" >1</th>\n",
       "      <td id=\"T_4b14b_row1_col0\" class=\"data row1 col0\" >0</td>\n",
       "      <td id=\"T_4b14b_row1_col1\" class=\"data row1 col1\" >0</td>\n",
       "      <td id=\"T_4b14b_row1_col2\" class=\"data row1 col2\" >0</td>\n",
       "      <td id=\"T_4b14b_row1_col3\" class=\"data row1 col3\" >0</td>\n",
       "      <td id=\"T_4b14b_row1_col4\" class=\"data row1 col4\" >0</td>\n",
       "      <td id=\"T_4b14b_row1_col5\" class=\"data row1 col5\" >0</td>\n",
       "      <td id=\"T_4b14b_row1_col6\" class=\"data row1 col6\" >0</td>\n",
       "      <td id=\"T_4b14b_row1_col7\" class=\"data row1 col7\" >0</td>\n",
       "      <td id=\"T_4b14b_row1_col8\" class=\"data row1 col8\" >30</td>\n",
       "      <td id=\"T_4b14b_row1_col9\" class=\"data row1 col9\" >144</td>\n",
       "      <td id=\"T_4b14b_row1_col10\" class=\"data row1 col10\" >173</td>\n",
       "      <td id=\"T_4b14b_row1_col11\" class=\"data row1 col11\" >254</td>\n",
       "      <td id=\"T_4b14b_row1_col12\" class=\"data row1 col12\" >254</td>\n",
       "      <td id=\"T_4b14b_row1_col13\" class=\"data row1 col13\" >254</td>\n",
       "      <td id=\"T_4b14b_row1_col14\" class=\"data row1 col14\" >216</td>\n",
       "      <td id=\"T_4b14b_row1_col15\" class=\"data row1 col15\" >90</td>\n",
       "      <td id=\"T_4b14b_row1_col16\" class=\"data row1 col16\" >0</td>\n",
       "      <td id=\"T_4b14b_row1_col17\" class=\"data row1 col17\" >0</td>\n",
       "    </tr>\n",
       "    <tr>\n",
       "      <th id=\"T_4b14b_level0_row2\" class=\"row_heading level0 row2\" >2</th>\n",
       "      <td id=\"T_4b14b_row2_col0\" class=\"data row2 col0\" >0</td>\n",
       "      <td id=\"T_4b14b_row2_col1\" class=\"data row2 col1\" >0</td>\n",
       "      <td id=\"T_4b14b_row2_col2\" class=\"data row2 col2\" >0</td>\n",
       "      <td id=\"T_4b14b_row2_col3\" class=\"data row2 col3\" >0</td>\n",
       "      <td id=\"T_4b14b_row2_col4\" class=\"data row2 col4\" >0</td>\n",
       "      <td id=\"T_4b14b_row2_col5\" class=\"data row2 col5\" >0</td>\n",
       "      <td id=\"T_4b14b_row2_col6\" class=\"data row2 col6\" >12</td>\n",
       "      <td id=\"T_4b14b_row2_col7\" class=\"data row2 col7\" >148</td>\n",
       "      <td id=\"T_4b14b_row2_col8\" class=\"data row2 col8\" >244</td>\n",
       "      <td id=\"T_4b14b_row2_col9\" class=\"data row2 col9\" >254</td>\n",
       "      <td id=\"T_4b14b_row2_col10\" class=\"data row2 col10\" >253</td>\n",
       "      <td id=\"T_4b14b_row2_col11\" class=\"data row2 col11\" >253</td>\n",
       "      <td id=\"T_4b14b_row2_col12\" class=\"data row2 col12\" >189</td>\n",
       "      <td id=\"T_4b14b_row2_col13\" class=\"data row2 col13\" >230</td>\n",
       "      <td id=\"T_4b14b_row2_col14\" class=\"data row2 col14\" >253</td>\n",
       "      <td id=\"T_4b14b_row2_col15\" class=\"data row2 col15\" >242</td>\n",
       "      <td id=\"T_4b14b_row2_col16\" class=\"data row2 col16\" >0</td>\n",
       "      <td id=\"T_4b14b_row2_col17\" class=\"data row2 col17\" >0</td>\n",
       "    </tr>\n",
       "    <tr>\n",
       "      <th id=\"T_4b14b_level0_row3\" class=\"row_heading level0 row3\" >3</th>\n",
       "      <td id=\"T_4b14b_row3_col0\" class=\"data row3 col0\" >0</td>\n",
       "      <td id=\"T_4b14b_row3_col1\" class=\"data row3 col1\" >0</td>\n",
       "      <td id=\"T_4b14b_row3_col2\" class=\"data row3 col2\" >0</td>\n",
       "      <td id=\"T_4b14b_row3_col3\" class=\"data row3 col3\" >0</td>\n",
       "      <td id=\"T_4b14b_row3_col4\" class=\"data row3 col4\" >0</td>\n",
       "      <td id=\"T_4b14b_row3_col5\" class=\"data row3 col5\" >0</td>\n",
       "      <td id=\"T_4b14b_row3_col6\" class=\"data row3 col6\" >136</td>\n",
       "      <td id=\"T_4b14b_row3_col7\" class=\"data row3 col7\" >253</td>\n",
       "      <td id=\"T_4b14b_row3_col8\" class=\"data row3 col8\" >253</td>\n",
       "      <td id=\"T_4b14b_row3_col9\" class=\"data row3 col9\" >254</td>\n",
       "      <td id=\"T_4b14b_row3_col10\" class=\"data row3 col10\" >227</td>\n",
       "      <td id=\"T_4b14b_row3_col11\" class=\"data row3 col11\" >63</td>\n",
       "      <td id=\"T_4b14b_row3_col12\" class=\"data row3 col12\" >2</td>\n",
       "      <td id=\"T_4b14b_row3_col13\" class=\"data row3 col13\" >75</td>\n",
       "      <td id=\"T_4b14b_row3_col14\" class=\"data row3 col14\" >253</td>\n",
       "      <td id=\"T_4b14b_row3_col15\" class=\"data row3 col15\" >242</td>\n",
       "      <td id=\"T_4b14b_row3_col16\" class=\"data row3 col16\" >0</td>\n",
       "      <td id=\"T_4b14b_row3_col17\" class=\"data row3 col17\" >0</td>\n",
       "    </tr>\n",
       "    <tr>\n",
       "      <th id=\"T_4b14b_level0_row4\" class=\"row_heading level0 row4\" >4</th>\n",
       "      <td id=\"T_4b14b_row4_col0\" class=\"data row4 col0\" >0</td>\n",
       "      <td id=\"T_4b14b_row4_col1\" class=\"data row4 col1\" >0</td>\n",
       "      <td id=\"T_4b14b_row4_col2\" class=\"data row4 col2\" >0</td>\n",
       "      <td id=\"T_4b14b_row4_col3\" class=\"data row4 col3\" >0</td>\n",
       "      <td id=\"T_4b14b_row4_col4\" class=\"data row4 col4\" >0</td>\n",
       "      <td id=\"T_4b14b_row4_col5\" class=\"data row4 col5\" >0</td>\n",
       "      <td id=\"T_4b14b_row4_col6\" class=\"data row4 col6\" >94</td>\n",
       "      <td id=\"T_4b14b_row4_col7\" class=\"data row4 col7\" >231</td>\n",
       "      <td id=\"T_4b14b_row4_col8\" class=\"data row4 col8\" >231</td>\n",
       "      <td id=\"T_4b14b_row4_col9\" class=\"data row4 col9\" >169</td>\n",
       "      <td id=\"T_4b14b_row4_col10\" class=\"data row4 col10\" >41</td>\n",
       "      <td id=\"T_4b14b_row4_col11\" class=\"data row4 col11\" >0</td>\n",
       "      <td id=\"T_4b14b_row4_col12\" class=\"data row4 col12\" >0</td>\n",
       "      <td id=\"T_4b14b_row4_col13\" class=\"data row4 col13\" >114</td>\n",
       "      <td id=\"T_4b14b_row4_col14\" class=\"data row4 col14\" >253</td>\n",
       "      <td id=\"T_4b14b_row4_col15\" class=\"data row4 col15\" >242</td>\n",
       "      <td id=\"T_4b14b_row4_col16\" class=\"data row4 col16\" >0</td>\n",
       "      <td id=\"T_4b14b_row4_col17\" class=\"data row4 col17\" >0</td>\n",
       "    </tr>\n",
       "    <tr>\n",
       "      <th id=\"T_4b14b_level0_row5\" class=\"row_heading level0 row5\" >5</th>\n",
       "      <td id=\"T_4b14b_row5_col0\" class=\"data row5 col0\" >0</td>\n",
       "      <td id=\"T_4b14b_row5_col1\" class=\"data row5 col1\" >0</td>\n",
       "      <td id=\"T_4b14b_row5_col2\" class=\"data row5 col2\" >0</td>\n",
       "      <td id=\"T_4b14b_row5_col3\" class=\"data row5 col3\" >0</td>\n",
       "      <td id=\"T_4b14b_row5_col4\" class=\"data row5 col4\" >0</td>\n",
       "      <td id=\"T_4b14b_row5_col5\" class=\"data row5 col5\" >0</td>\n",
       "      <td id=\"T_4b14b_row5_col6\" class=\"data row5 col6\" >0</td>\n",
       "      <td id=\"T_4b14b_row5_col7\" class=\"data row5 col7\" >0</td>\n",
       "      <td id=\"T_4b14b_row5_col8\" class=\"data row5 col8\" >0</td>\n",
       "      <td id=\"T_4b14b_row5_col9\" class=\"data row5 col9\" >0</td>\n",
       "      <td id=\"T_4b14b_row5_col10\" class=\"data row5 col10\" >0</td>\n",
       "      <td id=\"T_4b14b_row5_col11\" class=\"data row5 col11\" >0</td>\n",
       "      <td id=\"T_4b14b_row5_col12\" class=\"data row5 col12\" >5</td>\n",
       "      <td id=\"T_4b14b_row5_col13\" class=\"data row5 col13\" >185</td>\n",
       "      <td id=\"T_4b14b_row5_col14\" class=\"data row5 col14\" >253</td>\n",
       "      <td id=\"T_4b14b_row5_col15\" class=\"data row5 col15\" >218</td>\n",
       "      <td id=\"T_4b14b_row5_col16\" class=\"data row5 col16\" >0</td>\n",
       "      <td id=\"T_4b14b_row5_col17\" class=\"data row5 col17\" >0</td>\n",
       "    </tr>\n",
       "    <tr>\n",
       "      <th id=\"T_4b14b_level0_row6\" class=\"row_heading level0 row6\" >6</th>\n",
       "      <td id=\"T_4b14b_row6_col0\" class=\"data row6 col0\" >0</td>\n",
       "      <td id=\"T_4b14b_row6_col1\" class=\"data row6 col1\" >0</td>\n",
       "      <td id=\"T_4b14b_row6_col2\" class=\"data row6 col2\" >0</td>\n",
       "      <td id=\"T_4b14b_row6_col3\" class=\"data row6 col3\" >0</td>\n",
       "      <td id=\"T_4b14b_row6_col4\" class=\"data row6 col4\" >0</td>\n",
       "      <td id=\"T_4b14b_row6_col5\" class=\"data row6 col5\" >0</td>\n",
       "      <td id=\"T_4b14b_row6_col6\" class=\"data row6 col6\" >0</td>\n",
       "      <td id=\"T_4b14b_row6_col7\" class=\"data row6 col7\" >0</td>\n",
       "      <td id=\"T_4b14b_row6_col8\" class=\"data row6 col8\" >0</td>\n",
       "      <td id=\"T_4b14b_row6_col9\" class=\"data row6 col9\" >0</td>\n",
       "      <td id=\"T_4b14b_row6_col10\" class=\"data row6 col10\" >0</td>\n",
       "      <td id=\"T_4b14b_row6_col11\" class=\"data row6 col11\" >0</td>\n",
       "      <td id=\"T_4b14b_row6_col12\" class=\"data row6 col12\" >196</td>\n",
       "      <td id=\"T_4b14b_row6_col13\" class=\"data row6 col13\" >253</td>\n",
       "      <td id=\"T_4b14b_row6_col14\" class=\"data row6 col14\" >222</td>\n",
       "      <td id=\"T_4b14b_row6_col15\" class=\"data row6 col15\" >86</td>\n",
       "      <td id=\"T_4b14b_row6_col16\" class=\"data row6 col16\" >0</td>\n",
       "      <td id=\"T_4b14b_row6_col17\" class=\"data row6 col17\" >0</td>\n",
       "    </tr>\n",
       "    <tr>\n",
       "      <th id=\"T_4b14b_level0_row7\" class=\"row_heading level0 row7\" >7</th>\n",
       "      <td id=\"T_4b14b_row7_col0\" class=\"data row7 col0\" >0</td>\n",
       "      <td id=\"T_4b14b_row7_col1\" class=\"data row7 col1\" >0</td>\n",
       "      <td id=\"T_4b14b_row7_col2\" class=\"data row7 col2\" >0</td>\n",
       "      <td id=\"T_4b14b_row7_col3\" class=\"data row7 col3\" >0</td>\n",
       "      <td id=\"T_4b14b_row7_col4\" class=\"data row7 col4\" >0</td>\n",
       "      <td id=\"T_4b14b_row7_col5\" class=\"data row7 col5\" >0</td>\n",
       "      <td id=\"T_4b14b_row7_col6\" class=\"data row7 col6\" >0</td>\n",
       "      <td id=\"T_4b14b_row7_col7\" class=\"data row7 col7\" >0</td>\n",
       "      <td id=\"T_4b14b_row7_col8\" class=\"data row7 col8\" >5</td>\n",
       "      <td id=\"T_4b14b_row7_col9\" class=\"data row7 col9\" >75</td>\n",
       "      <td id=\"T_4b14b_row7_col10\" class=\"data row7 col10\" >122</td>\n",
       "      <td id=\"T_4b14b_row7_col11\" class=\"data row7 col11\" >213</td>\n",
       "      <td id=\"T_4b14b_row7_col12\" class=\"data row7 col12\" >253</td>\n",
       "      <td id=\"T_4b14b_row7_col13\" class=\"data row7 col13\" >253</td>\n",
       "      <td id=\"T_4b14b_row7_col14\" class=\"data row7 col14\" >112</td>\n",
       "      <td id=\"T_4b14b_row7_col15\" class=\"data row7 col15\" >0</td>\n",
       "      <td id=\"T_4b14b_row7_col16\" class=\"data row7 col16\" >0</td>\n",
       "      <td id=\"T_4b14b_row7_col17\" class=\"data row7 col17\" >0</td>\n",
       "    </tr>\n",
       "    <tr>\n",
       "      <th id=\"T_4b14b_level0_row8\" class=\"row_heading level0 row8\" >8</th>\n",
       "      <td id=\"T_4b14b_row8_col0\" class=\"data row8 col0\" >0</td>\n",
       "      <td id=\"T_4b14b_row8_col1\" class=\"data row8 col1\" >0</td>\n",
       "      <td id=\"T_4b14b_row8_col2\" class=\"data row8 col2\" >0</td>\n",
       "      <td id=\"T_4b14b_row8_col3\" class=\"data row8 col3\" >0</td>\n",
       "      <td id=\"T_4b14b_row8_col4\" class=\"data row8 col4\" >0</td>\n",
       "      <td id=\"T_4b14b_row8_col5\" class=\"data row8 col5\" >0</td>\n",
       "      <td id=\"T_4b14b_row8_col6\" class=\"data row8 col6\" >8</td>\n",
       "      <td id=\"T_4b14b_row8_col7\" class=\"data row8 col7\" >127</td>\n",
       "      <td id=\"T_4b14b_row8_col8\" class=\"data row8 col8\" >198</td>\n",
       "      <td id=\"T_4b14b_row8_col9\" class=\"data row8 col9\" >254</td>\n",
       "      <td id=\"T_4b14b_row8_col10\" class=\"data row8 col10\" >253</td>\n",
       "      <td id=\"T_4b14b_row8_col11\" class=\"data row8 col11\" >253</td>\n",
       "      <td id=\"T_4b14b_row8_col12\" class=\"data row8 col12\" >253</td>\n",
       "      <td id=\"T_4b14b_row8_col13\" class=\"data row8 col13\" >253</td>\n",
       "      <td id=\"T_4b14b_row8_col14\" class=\"data row8 col14\" >74</td>\n",
       "      <td id=\"T_4b14b_row8_col15\" class=\"data row8 col15\" >0</td>\n",
       "      <td id=\"T_4b14b_row8_col16\" class=\"data row8 col16\" >0</td>\n",
       "      <td id=\"T_4b14b_row8_col17\" class=\"data row8 col17\" >0</td>\n",
       "    </tr>\n",
       "    <tr>\n",
       "      <th id=\"T_4b14b_level0_row9\" class=\"row_heading level0 row9\" >9</th>\n",
       "      <td id=\"T_4b14b_row9_col0\" class=\"data row9 col0\" >0</td>\n",
       "      <td id=\"T_4b14b_row9_col1\" class=\"data row9 col1\" >0</td>\n",
       "      <td id=\"T_4b14b_row9_col2\" class=\"data row9 col2\" >0</td>\n",
       "      <td id=\"T_4b14b_row9_col3\" class=\"data row9 col3\" >0</td>\n",
       "      <td id=\"T_4b14b_row9_col4\" class=\"data row9 col4\" >0</td>\n",
       "      <td id=\"T_4b14b_row9_col5\" class=\"data row9 col5\" >38</td>\n",
       "      <td id=\"T_4b14b_row9_col6\" class=\"data row9 col6\" >156</td>\n",
       "      <td id=\"T_4b14b_row9_col7\" class=\"data row9 col7\" >253</td>\n",
       "      <td id=\"T_4b14b_row9_col8\" class=\"data row9 col8\" >253</td>\n",
       "      <td id=\"T_4b14b_row9_col9\" class=\"data row9 col9\" >255</td>\n",
       "      <td id=\"T_4b14b_row9_col10\" class=\"data row9 col10\" >253</td>\n",
       "      <td id=\"T_4b14b_row9_col11\" class=\"data row9 col11\" >223</td>\n",
       "      <td id=\"T_4b14b_row9_col12\" class=\"data row9 col12\" >183</td>\n",
       "      <td id=\"T_4b14b_row9_col13\" class=\"data row9 col13\" >253</td>\n",
       "      <td id=\"T_4b14b_row9_col14\" class=\"data row9 col14\" >192</td>\n",
       "      <td id=\"T_4b14b_row9_col15\" class=\"data row9 col15\" >7</td>\n",
       "      <td id=\"T_4b14b_row9_col16\" class=\"data row9 col16\" >0</td>\n",
       "      <td id=\"T_4b14b_row9_col17\" class=\"data row9 col17\" >0</td>\n",
       "    </tr>\n",
       "    <tr>\n",
       "      <th id=\"T_4b14b_level0_row10\" class=\"row_heading level0 row10\" >10</th>\n",
       "      <td id=\"T_4b14b_row10_col0\" class=\"data row10 col0\" >0</td>\n",
       "      <td id=\"T_4b14b_row10_col1\" class=\"data row10 col1\" >0</td>\n",
       "      <td id=\"T_4b14b_row10_col2\" class=\"data row10 col2\" >0</td>\n",
       "      <td id=\"T_4b14b_row10_col3\" class=\"data row10 col3\" >0</td>\n",
       "      <td id=\"T_4b14b_row10_col4\" class=\"data row10 col4\" >0</td>\n",
       "      <td id=\"T_4b14b_row10_col5\" class=\"data row10 col5\" >170</td>\n",
       "      <td id=\"T_4b14b_row10_col6\" class=\"data row10 col6\" >253</td>\n",
       "      <td id=\"T_4b14b_row10_col7\" class=\"data row10 col7\" >253</td>\n",
       "      <td id=\"T_4b14b_row10_col8\" class=\"data row10 col8\" >253</td>\n",
       "      <td id=\"T_4b14b_row10_col9\" class=\"data row10 col9\" >254</td>\n",
       "      <td id=\"T_4b14b_row10_col10\" class=\"data row10 col10\" >147</td>\n",
       "      <td id=\"T_4b14b_row10_col11\" class=\"data row10 col11\" >20</td>\n",
       "      <td id=\"T_4b14b_row10_col12\" class=\"data row10 col12\" >3</td>\n",
       "      <td id=\"T_4b14b_row10_col13\" class=\"data row10 col13\" >177</td>\n",
       "      <td id=\"T_4b14b_row10_col14\" class=\"data row10 col14\" >253</td>\n",
       "      <td id=\"T_4b14b_row10_col15\" class=\"data row10 col15\" >70</td>\n",
       "      <td id=\"T_4b14b_row10_col16\" class=\"data row10 col16\" >0</td>\n",
       "      <td id=\"T_4b14b_row10_col17\" class=\"data row10 col17\" >0</td>\n",
       "    </tr>\n",
       "  </tbody>\n",
       "</table>\n"
      ],
      "text/plain": [
       "<pandas.io.formats.style.Styler at 0x7f42d9b96210>"
      ]
     },
     "execution_count": 11,
     "metadata": {},
     "output_type": "execute_result"
    }
   ],
   "source": [
    "#hide_output\n",
    "im3_t = tensor(im3)\n",
    "df = pd.DataFrame(im3_t[4:15,4:22])\n",
    "df.style.set_properties(**{'font-size':'6pt'}).background_gradient('Greys')"
   ]
  },
  {
   "cell_type": "markdown",
   "id": "2d5cf49d-1ecc-483c-8e64-fc86196579db",
   "metadata": {},
   "source": [
    "Baseline - calculate averages"
   ]
  },
  {
   "cell_type": "code",
   "execution_count": 12,
   "id": "e751c8bf-1fd7-4a09-9a4b-a3985905c0af",
   "metadata": {},
   "outputs": [
    {
     "data": {
      "text/plain": [
       "(6131, 6265)"
      ]
     },
     "execution_count": 12,
     "metadata": {},
     "output_type": "execute_result"
    }
   ],
   "source": [
    "seven_tensors = [tensor(Image.open(o)) for o in sevens]\n",
    "three_tensors = [tensor(Image.open(o)) for o in threes]\n",
    "len(three_tensors),len(seven_tensors)"
   ]
  },
  {
   "cell_type": "code",
   "execution_count": 13,
   "id": "14da9112-4709-4e31-832e-006b59265a89",
   "metadata": {},
   "outputs": [
    {
     "data": {
      "image/png": "[encoded data removed]",
      "text/plain": [
       "<Figure size 100x100 with 1 Axes>"
      ]
     },
     "metadata": {},
     "output_type": "display_data"
    }
   ],
   "source": [
    "show_image(seven_tensors[30]);"
   ]
  },
  {
   "cell_type": "code",
   "execution_count": 14,
   "id": "97350268-d5db-45cf-9d47-f9f167cdaf89",
   "metadata": {},
   "outputs": [
    {
     "data": {
      "text/plain": [
       "torch.Size([6131, 28, 28])"
      ]
     },
     "execution_count": 14,
     "metadata": {},
     "output_type": "execute_result"
    }
   ],
   "source": [
    "stacked_sevens = torch.stack(seven_tensors).float()/255\n",
    "stacked_threes = torch.stack(three_tensors).float()/255\n",
    "stacked_threes.shape"
   ]
  },
  {
   "cell_type": "code",
   "execution_count": 15,
   "id": "228ae514-4c42-4c63-a001-47b09a1328ef",
   "metadata": {},
   "outputs": [
    {
     "data": {
      "text/plain": [
       "3"
      ]
     },
     "execution_count": 15,
     "metadata": {},
     "output_type": "execute_result"
    }
   ],
   "source": [
    "len(stacked_threes.shape)"
   ]
  },
  {
   "cell_type": "code",
   "execution_count": 16,
   "id": "9e5b5698-da95-4157-8702-a320a3d3f018",
   "metadata": {},
   "outputs": [
    {
     "data": {
      "text/plain": [
       "3"
      ]
     },
     "execution_count": 16,
     "metadata": {},
     "output_type": "execute_result"
    }
   ],
   "source": [
    "stacked_threes.ndim"
   ]
  },
  {
   "cell_type": "code",
   "execution_count": 17,
   "id": "e07e8486-78de-4ccc-b9dc-0f74d0df74ab",
   "metadata": {},
   "outputs": [
    {
     "data": {
      "image/png": "[encoded data removed]",
      "text/plain": [
       "<Figure size 100x100 with 1 Axes>"
      ]
     },
     "metadata": {},
     "output_type": "display_data"
    }
   ],
   "source": [
    "mean3 = stacked_threes.mean(0)\n",
    "show_image(mean3);"
   ]
  },
  {
   "cell_type": "code",
   "execution_count": 18,
   "id": "ec1f4e08-59a1-46df-b7cf-a8ddcfc7da8a",
   "metadata": {},
   "outputs": [
    {
     "data": {
      "image/png": "[encoded data removed]",
      "text/plain": [
       "<Figure size 100x100 with 1 Axes>"
      ]
     },
     "metadata": {},
     "output_type": "display_data"
    }
   ],
   "source": [
    "mean7 = stacked_sevens.mean(0)\n",
    "show_image(mean7);"
   ]
  },
  {
   "cell_type": "markdown",
   "id": "89a39d7c-d900-42f7-9025-8cfe7ad8463a",
   "metadata": {},
   "source": [
    "Here is a sample 3"
   ]
  },
  {
   "cell_type": "code",
   "execution_count": 19,
   "id": "47f78322-e29f-4075-b6d9-ff8bc82259f5",
   "metadata": {},
   "outputs": [
    {
     "data": {
      "image/png": "[encoded data removed]",
      "text/plain": [
       "<Figure size 100x100 with 1 Axes>"
      ]
     },
     "metadata": {},
     "output_type": "display_data"
    }
   ],
   "source": [
    "a_3 = stacked_threes[1]\n",
    "show_image(a_3);"
   ]
  },
  {
   "cell_type": "markdown",
   "id": "9abccdd7-a3c6-4cbf-b3f0-a4a5351e4aa6",
   "metadata": {},
   "source": [
    "There are two main ways data scientists measure distance in this context:\n",
    "\n",
    "- Take the mean of the absolute value of differences (absolute value is the function that replaces negative values with positive values). This is called the mean absolute difference or L1 norm\n",
    "- Take the mean of the square of differences (which makes everything positive) and then take the square root (which undoes the squaring). This is called the root mean squared error (RMSE) or L2 norm."
   ]
  },
  {
   "cell_type": "code",
   "execution_count": 20,
   "id": "35c840ea-9356-4282-90ab-cc2e2b698747",
   "metadata": {},
   "outputs": [
    {
     "data": {
      "text/plain": [
       "(tensor(0.1114), tensor(0.2021))"
      ]
     },
     "execution_count": 20,
     "metadata": {},
     "output_type": "execute_result"
    }
   ],
   "source": [
    "dist_3_abs = (a_3 - mean3).abs().mean()\n",
    "dist_3_sqr = ((a_3 - mean3)**2).mean().sqrt()\n",
    "dist_3_abs,dist_3_sqr"
   ]
  },
  {
   "cell_type": "code",
   "execution_count": 21,
   "id": "d28a1f35-464e-432e-9809-84dd922ceae8",
   "metadata": {},
   "outputs": [
    {
     "data": {
      "text/plain": [
       "(tensor(0.1586), tensor(0.3021))"
      ]
     },
     "execution_count": 21,
     "metadata": {},
     "output_type": "execute_result"
    }
   ],
   "source": [
    "dist_7_abs = (a_3 - mean7).abs().mean()\n",
    "dist_7_sqr = ((a_3 - mean7)**2).mean().sqrt()\n",
    "dist_7_abs,dist_7_sqr"
   ]
  },
  {
   "cell_type": "markdown",
   "id": "849cf269-a038-4d91-a8b3-47f791266169",
   "metadata": {},
   "source": [
    "Here mse stands for mean squared error, and l1 refers to the standard mathematical jargon for mean absolute value (in math it's called the L1 norm)."
   ]
  },
  {
   "cell_type": "code",
   "execution_count": 22,
   "id": "ea8438e0-6720-4baf-9a41-2afd9a882bbc",
   "metadata": {},
   "outputs": [
    {
     "data": {
      "text/plain": [
       "(tensor(0.1586), tensor(0.3021))"
      ]
     },
     "execution_count": 22,
     "metadata": {},
     "output_type": "execute_result"
    }
   ],
   "source": [
    "#F.l1_loss(a_3.float(),mean3), F.mse_loss(a_3,mean3).sqrt()\n",
    "F.l1_loss(a_3.float(),mean7), F.mse_loss(a_3,mean7).sqrt()"
   ]
  },
  {
   "cell_type": "markdown",
   "id": "b9d7b9b8-6c1e-4db3-9262-b98a78d38989",
   "metadata": {},
   "source": [
    "Use accuracy as the metric for classification models"
   ]
  },
  {
   "cell_type": "code",
   "execution_count": 23,
   "id": "b5b795a6-0a0a-4309-a1a6-7abb5a53d047",
   "metadata": {},
   "outputs": [
    {
     "data": {
      "text/plain": [
       "(torch.Size([1010, 28, 28]), torch.Size([1028, 28, 28]))"
      ]
     },
     "execution_count": 23,
     "metadata": {},
     "output_type": "execute_result"
    }
   ],
   "source": [
    "valid_3_tens = torch.stack([tensor(Image.open(o)) \n",
    "                            for o in (path/'valid'/'3').ls()])\n",
    "valid_3_tens = valid_3_tens.float()/255\n",
    "valid_7_tens = torch.stack([tensor(Image.open(o)) \n",
    "                            for o in (path/'valid'/'7').ls()])\n",
    "valid_7_tens = valid_7_tens.float()/255\n",
    "valid_3_tens.shape,valid_7_tens.shape"
   ]
  },
  {
   "cell_type": "code",
   "execution_count": 24,
   "id": "d1b7b614-a282-465a-bba7-2eee69ef045c",
   "metadata": {},
   "outputs": [
    {
     "data": {
      "text/plain": [
       "tensor(0.1114)"
      ]
     },
     "execution_count": 24,
     "metadata": {},
     "output_type": "execute_result"
    }
   ],
   "source": [
    "def mnist_distance(a,b): return (a-b).abs().mean((-1,-2))\n",
    "mnist_distance(a_3, mean3)"
   ]
  },
  {
   "cell_type": "code",
   "execution_count": 25,
   "id": "c324ef56-d36a-4548-9514-baaa7f9a8df5",
   "metadata": {},
   "outputs": [
    {
     "data": {
      "text/plain": [
       "(tensor([0.1200, 0.1333, 0.1127,  ..., 0.1323, 0.1283, 0.1078]),\n",
       " torch.Size([1010]))"
      ]
     },
     "execution_count": 25,
     "metadata": {},
     "output_type": "execute_result"
    }
   ],
   "source": [
    "valid_3_dist = mnist_distance(valid_3_tens, mean3)\n",
    "valid_3_dist, valid_3_dist.shape"
   ]
  },
  {
   "cell_type": "code",
   "execution_count": 26,
   "id": "e2bee6ca-1c7c-463e-8146-944adb1701e7",
   "metadata": {},
   "outputs": [
    {
     "data": {
      "text/plain": [
       "torch.Size([1010, 28, 28])"
      ]
     },
     "execution_count": 26,
     "metadata": {},
     "output_type": "execute_result"
    }
   ],
   "source": [
    "(valid_3_tens - mean3).shape"
   ]
  },
  {
   "cell_type": "code",
   "execution_count": 27,
   "id": "7fc0293e-cf1e-48bc-9fa1-6a18423c6a7a",
   "metadata": {},
   "outputs": [],
   "source": [
    "def is_3(x): return mnist_distance(x,mean3) < mnist_distance(x,mean7)"
   ]
  },
  {
   "cell_type": "code",
   "execution_count": 28,
   "id": "bf6d006f-dbe7-40a5-b7ba-07854eceb149",
   "metadata": {},
   "outputs": [
    {
     "data": {
      "text/plain": [
       "(tensor(True), tensor(1.))"
      ]
     },
     "execution_count": 28,
     "metadata": {},
     "output_type": "execute_result"
    }
   ],
   "source": [
    "is_3(a_3), is_3(a_3).float()"
   ]
  },
  {
   "cell_type": "code",
   "execution_count": 29,
   "id": "74141e8b-8223-4e11-a74e-7e734cae836b",
   "metadata": {},
   "outputs": [
    {
     "data": {
      "text/plain": [
       "tensor([ True,  True,  True,  ..., False,  True,  True])"
      ]
     },
     "execution_count": 29,
     "metadata": {},
     "output_type": "execute_result"
    }
   ],
   "source": [
    "is_3(valid_3_tens)"
   ]
  },
  {
   "cell_type": "code",
   "execution_count": 30,
   "id": "a72a4f57-4e33-4dc1-bebc-62d734dafd7c",
   "metadata": {},
   "outputs": [
    {
     "data": {
      "text/plain": [
       "(tensor(0.9168), tensor(0.9854), tensor(0.9511))"
      ]
     },
     "execution_count": 30,
     "metadata": {},
     "output_type": "execute_result"
    }
   ],
   "source": [
    "accuracy_3s =      is_3(valid_3_tens).float() .mean()\n",
    "accuracy_7s = (1 - is_3(valid_7_tens).float()).mean()\n",
    "\n",
    "accuracy_3s,accuracy_7s,(accuracy_3s+accuracy_7s)/2"
   ]
  },
  {
   "cell_type": "markdown",
   "id": "d10c567d-69b2-4b8b-9e33-f2c6d538b4b3",
   "metadata": {},
   "source": [
    "**Stochastic Gradient Descent (SGD)**"
   ]
  },
  {
   "cell_type": "markdown",
   "id": "b749e3bb-4855-4b67-a0a5-2c14d00c17c2",
   "metadata": {},
   "source": [
    "Loss function"
   ]
  },
  {
   "cell_type": "code",
   "execution_count": 31,
   "id": "96426456-81da-4d94-9144-611e7a6b6d37",
   "metadata": {},
   "outputs": [],
   "source": [
    "def f(x): return x**2"
   ]
  },
  {
   "cell_type": "code",
   "execution_count": 32,
   "id": "8ef03391-1a87-4420-bbd2-21edfc529c66",
   "metadata": {},
   "outputs": [
    {
     "data": {
      "image/png": "[encoded data removed]",
      "text/plain": [
       "<Figure size 600x400 with 1 Axes>"
      ]
     },
     "metadata": {},
     "output_type": "display_data"
    }
   ],
   "source": [
    "plot_function(f, 'x', 'x**2')"
   ]
  },
  {
   "cell_type": "markdown",
   "id": "162a6750-9993-4e76-a78a-173bc61292a8",
   "metadata": {},
   "source": [
    "The sequence of steps we described earlier starts by picking some random value for a parameter, and calculating the value of the loss:"
   ]
  },
  {
   "cell_type": "code",
   "execution_count": 33,
   "id": "7712d839-f5d6-4246-ae54-43cb24433232",
   "metadata": {},
   "outputs": [
    {
     "data": {
      "application/vnd.jupyter.widget-view+json": {
       "model_id": "c99520ac29b04c3997b2c2d41de16a70",
       "version_major": 2,
       "version_minor": 0
      },
      "text/plain": [
       "interactive(children=(FloatSlider(value=-1.6, description='a', max=1.6, min=-4.800000000000001), Output()), _d…"
      ]
     },
     "metadata": {},
     "output_type": "display_data"
    }
   ],
   "source": [
    "@interact(a=-1.6)\n",
    "def mk_quad(a):\n",
    "    plot_function(f, 'x', 'x**2')\n",
    "    plt.scatter(a, f(a), color='red')"
   ]
  },
  {
   "cell_type": "markdown",
   "id": "bcbceb7e-f068-4782-9c7a-323958e67d72",
   "metadata": {},
   "source": [
    "Finding derivative with PyTorch"
   ]
  },
  {
   "cell_type": "code",
   "execution_count": 34,
   "id": "6e86452c-133b-4eae-a2de-1c57e53b9e49",
   "metadata": {},
   "outputs": [],
   "source": [
    "xt = tensor(3.0).requires_grad_()"
   ]
  },
  {
   "cell_type": "code",
   "execution_count": 35,
   "id": "d261986d-d339-4840-884f-52f55b7d3df0",
   "metadata": {},
   "outputs": [
    {
     "data": {
      "text/plain": [
       "tensor(9., grad_fn=<PowBackward0>)"
      ]
     },
     "execution_count": 35,
     "metadata": {},
     "output_type": "execute_result"
    }
   ],
   "source": [
    "yt = f(xt)\n",
    "yt"
   ]
  },
  {
   "cell_type": "code",
   "execution_count": 36,
   "id": "21559eae-d9f9-4277-8b65-790a92747918",
   "metadata": {},
   "outputs": [],
   "source": [
    "# calculate_grad\n",
    "yt.backward()"
   ]
  },
  {
   "cell_type": "code",
   "execution_count": 37,
   "id": "b0e21922-d4c1-47ae-97a6-93a09651e3f4",
   "metadata": {},
   "outputs": [
    {
     "data": {
      "text/plain": [
       "tensor(6.)"
      ]
     },
     "execution_count": 37,
     "metadata": {},
     "output_type": "execute_result"
    }
   ],
   "source": [
    "xt.grad"
   ]
  },
  {
   "cell_type": "code",
   "execution_count": 38,
   "id": "2a6d3647-6c4a-4897-bd5d-4f569c3eac89",
   "metadata": {},
   "outputs": [
    {
     "data": {
      "text/plain": [
       "tensor([ 3.,  4., 10.], requires_grad=True)"
      ]
     },
     "execution_count": 38,
     "metadata": {},
     "output_type": "execute_result"
    }
   ],
   "source": [
    "xt = tensor([3.,4.,10.]).requires_grad_()\n",
    "xt"
   ]
  },
  {
   "cell_type": "code",
   "execution_count": 39,
   "id": "a2d89450-1478-4f7d-af21-408187a09e9f",
   "metadata": {},
   "outputs": [
    {
     "data": {
      "text/plain": [
       "tensor(125., grad_fn=<SumBackward0>)"
      ]
     },
     "execution_count": 39,
     "metadata": {},
     "output_type": "execute_result"
    }
   ],
   "source": [
    "#And we'll add sum to our function so it can take a vector (i.e., a rank-1 tensor), and return a scalar (i.e., a rank-0 tensor)\n",
    "def f(x): return (x**2).sum()\n",
    "\n",
    "yt = f(xt)\n",
    "yt"
   ]
  },
  {
   "cell_type": "code",
   "execution_count": 40,
   "id": "31232058-ecb4-4a0b-9067-06f3f5ba23c8",
   "metadata": {},
   "outputs": [
    {
     "data": {
      "text/plain": [
       "tensor([ 6.,  8., 20.])"
      ]
     },
     "execution_count": 40,
     "metadata": {},
     "output_type": "execute_result"
    }
   ],
   "source": [
    "yt.backward()\n",
    "xt.grad"
   ]
  },
  {
   "cell_type": "markdown",
   "id": "d266ef6d-fce8-4a41-a6cf-276447b95736",
   "metadata": {},
   "source": [
    "**An End-to-End SGD Example**"
   ]
  },
  {
   "cell_type": "code",
   "execution_count": 41,
   "id": "9dfbe086-cbf1-48c3-8975-44f87abc2f5c",
   "metadata": {},
   "outputs": [
    {
     "data": {
      "text/plain": [
       "tensor([ 0.,  1.,  2.,  3.,  4.,  5.,  6.,  7.,  8.,  9., 10., 11., 12., 13., 14., 15., 16., 17., 18., 19.])"
      ]
     },
     "execution_count": 41,
     "metadata": {},
     "output_type": "execute_result"
    }
   ],
   "source": [
    "time = torch.arange(0,20).float(); time"
   ]
  },
  {
   "cell_type": "code",
   "execution_count": 42,
   "id": "77e5780a-5eca-441a-95c6-76ca5f775a07",
   "metadata": {},
   "outputs": [
    {
     "data": {
      "image/png": "[encoded data removed]",
      "text/plain": [
       "<Figure size 640x480 with 1 Axes>"
      ]
     },
     "metadata": {},
     "output_type": "display_data"
    }
   ],
   "source": [
    "speed = torch.randn(20)*3 + 0.75*(time-9.5)**2 + 1\n",
    "plt.scatter(time,speed);"
   ]
  },
  {
   "cell_type": "code",
   "execution_count": 43,
   "id": "c8538df7-47fc-405a-9c28-974af449a529",
   "metadata": {},
   "outputs": [],
   "source": [
    "# let's use a guess that it will be quadratic; i.e., a function of the form a*(time**2)+(b*time)+c.\n",
    "def f(t, params):\n",
    "    a,b,c = params\n",
    "    return a*(t**2) + (b*t) + c"
   ]
  },
  {
   "cell_type": "code",
   "execution_count": 44,
   "id": "c3ee8d7e-a617-460e-9ae5-8ab77d6e67ea",
   "metadata": {},
   "outputs": [],
   "source": [
    "# loss function - mean squared error \n",
    "def mse(preds, targets): return ((preds-targets)**2).mean()"
   ]
  },
  {
   "cell_type": "markdown",
   "id": "1a4efbea-f0e0-4c58-9f13-139ea68cd0fb",
   "metadata": {},
   "source": [
    "Now, let's work through our 7 step process.\n",
    "\n",
    "**Step 1: Initialize the parameters**"
   ]
  },
  {
   "cell_type": "code",
   "execution_count": 45,
   "id": "110a044d-f491-4d5a-a26b-0b03b03c5b1a",
   "metadata": {},
   "outputs": [],
   "source": [
    "params = torch.randn(3).requires_grad_()"
   ]
  },
  {
   "cell_type": "code",
   "execution_count": 46,
   "id": "dd072c06-50b8-4453-8c3c-3080529e4521",
   "metadata": {},
   "outputs": [],
   "source": [
    "# clone\n",
    "orig_params = params.clone()"
   ]
  },
  {
   "cell_type": "markdown",
   "id": "5ca9067a-21dc-4665-9d58-b1d3cb4bce23",
   "metadata": {},
   "source": [
    "**Step 2: Calculate the predictions**"
   ]
  },
  {
   "cell_type": "code",
   "execution_count": 47,
   "id": "7f257c09-509b-4c19-8387-2f4eea23164e",
   "metadata": {},
   "outputs": [],
   "source": [
    "preds = f(time, params)"
   ]
  },
  {
   "cell_type": "code",
   "execution_count": 48,
   "id": "f2aa6d73-f019-4c81-8fc6-ff05c2592c02",
   "metadata": {},
   "outputs": [],
   "source": [
    "def show_preds(preds, ax=None):\n",
    "    if ax is None: ax=plt.subplots()[1]\n",
    "    ax.scatter(time, speed)\n",
    "    ax.scatter(time, to_np(preds), color='red')\n",
    "    ax.set_ylim(-300,100)"
   ]
  },
  {
   "cell_type": "code",
   "execution_count": 49,
   "id": "3d2c4b8f-75c3-4894-8a97-07156790269a",
   "metadata": {},
   "outputs": [
    {
     "data": {
      "image/png": "[encoded data removed]",
      "text/plain": [
       "<Figure size 640x480 with 1 Axes>"
      ]
     },
     "metadata": {},
     "output_type": "display_data"
    }
   ],
   "source": [
    "show_preds(preds)"
   ]
  },
  {
   "cell_type": "markdown",
   "id": "3884118e-80a9-41dc-bc8e-03b02b70ab96",
   "metadata": {},
   "source": [
    "**Step 3: Calculate the loss**"
   ]
  },
  {
   "cell_type": "code",
   "execution_count": 50,
   "id": "156905ae-7ca1-4c88-b2a7-17bc9c0da075",
   "metadata": {},
   "outputs": [
    {
     "data": {
      "text/plain": [
       "tensor(25823.8086, grad_fn=<MeanBackward0>)"
      ]
     },
     "execution_count": 50,
     "metadata": {},
     "output_type": "execute_result"
    }
   ],
   "source": [
    "loss = mse(preds, speed)\n",
    "loss"
   ]
  },
  {
   "cell_type": "markdown",
   "id": "ee3a6628-98ce-47ce-829d-139c4f4b0d95",
   "metadata": {},
   "source": [
    "Our goal is now to improve this. To do that, we'll need to know the gradients."
   ]
  },
  {
   "cell_type": "markdown",
   "id": "6476c1aa-5063-44de-9ed9-b003a38f4a30",
   "metadata": {},
   "source": [
    "**Step 4: Calculate the gradients**"
   ]
  },
  {
   "cell_type": "code",
   "execution_count": 51,
   "id": "4ac3ddca-f86e-4930-8eec-bdfd9a3224cb",
   "metadata": {},
   "outputs": [
    {
     "data": {
      "text/plain": [
       "tensor([-53195.8633,  -3419.7148,   -253.8908])"
      ]
     },
     "execution_count": 51,
     "metadata": {},
     "output_type": "execute_result"
    }
   ],
   "source": [
    "loss.backward()\n",
    "params.grad"
   ]
  },
  {
   "cell_type": "markdown",
   "id": "19d32216-d376-4ae4-84f6-4139c40cea6a",
   "metadata": {},
   "source": [
    "We can use these gradients to improve our parameters. We'll need to pick a learning rate (we'll discuss how to do that in practice in the next chapter; for now we'll just use 1e-5, or 0.00001):"
   ]
  },
  {
   "cell_type": "code",
   "execution_count": 52,
   "id": "2a9c81c9-4209-419f-b3ee-12b539b404ee",
   "metadata": {},
   "outputs": [
    {
     "data": {
      "text/plain": [
       "tensor([-0.5320, -0.0342, -0.0025])"
      ]
     },
     "execution_count": 52,
     "metadata": {},
     "output_type": "execute_result"
    }
   ],
   "source": [
    "params.grad * 1e-5"
   ]
  },
  {
   "cell_type": "code",
   "execution_count": 53,
   "id": "be6f9d85-6701-4fd9-8766-47d7e1eb6f4e",
   "metadata": {},
   "outputs": [
    {
     "data": {
      "text/plain": [
       "tensor([-0.7658, -0.7506,  1.3525], requires_grad=True)"
      ]
     },
     "execution_count": 53,
     "metadata": {},
     "output_type": "execute_result"
    }
   ],
   "source": [
    "params"
   ]
  },
  {
   "cell_type": "markdown",
   "id": "31db3c37-9ca3-47c7-bea4-8242106a5eb8",
   "metadata": {},
   "source": [
    "**Step 5: Step the weights**"
   ]
  },
  {
   "cell_type": "code",
   "execution_count": 54,
   "id": "d321fc4d-ad20-4d71-842a-4853e663ec08",
   "metadata": {},
   "outputs": [],
   "source": [
    "lr = 1e-5\n",
    "params.data -= lr * params.grad.data\n",
    "params.grad = None"
   ]
  },
  {
   "cell_type": "code",
   "execution_count": 55,
   "id": "b6bcd18b-dba8-46f6-9fe5-3b88001bbdba",
   "metadata": {},
   "outputs": [
    {
     "data": {
      "text/plain": [
       "tensor(5435.5356, grad_fn=<MeanBackward0>)"
      ]
     },
     "execution_count": 55,
     "metadata": {},
     "output_type": "execute_result"
    }
   ],
   "source": [
    "preds = f(time,params)\n",
    "mse(preds, speed)"
   ]
  },
  {
   "cell_type": "code",
   "execution_count": 56,
   "id": "636a3267-949e-4300-ae3c-19e4cc7fe39a",
   "metadata": {},
   "outputs": [
    {
     "data": {
      "image/png": "[encoded data removed]",
      "text/plain": [
       "<Figure size 640x480 with 1 Axes>"
      ]
     },
     "metadata": {},
     "output_type": "display_data"
    }
   ],
   "source": [
    "show_preds(preds)"
   ]
  },
  {
   "cell_type": "code",
   "execution_count": 57,
   "id": "9e884a1e-8342-4ebb-89e5-faaef6795899",
   "metadata": {},
   "outputs": [],
   "source": [
    "def apply_step(params, prn=True):\n",
    "    preds = f(time, params)\n",
    "    loss = mse(preds, speed)\n",
    "    loss.backward()\n",
    "    params.data -= lr * params.grad.data\n",
    "    params.grad = None\n",
    "    if prn: print(loss.item())\n",
    "    return preds"
   ]
  },
  {
   "cell_type": "markdown",
   "id": "302307bf-3c24-47af-a6cd-78d5c7f0afb4",
   "metadata": {},
   "source": [
    "**Step 6: Repeat the process**"
   ]
  },
  {
   "cell_type": "code",
   "execution_count": 58,
   "id": "cc2cfdd6-1e65-4b68-92a6-cab9b9212ad2",
   "metadata": {},
   "outputs": [
    {
     "name": "stdout",
     "output_type": "stream",
     "text": [
      "5435.53564453125\n",
      "1577.44921875\n",
      "847.3778076171875\n",
      "709.2225341796875\n",
      "683.0758056640625\n",
      "678.1243896484375\n",
      "677.1838989257812\n",
      "677.0023803710938\n",
      "676.9645385742188\n",
      "676.9537353515625\n"
     ]
    }
   ],
   "source": [
    "for i in range(10): apply_step(params)"
   ]
  },
  {
   "cell_type": "code",
   "execution_count": 59,
   "id": "486c3401-3fff-4cbc-8ed1-f9965a9648ec",
   "metadata": {},
   "outputs": [],
   "source": [
    "params = orig_params.detach().requires_grad_()"
   ]
  },
  {
   "cell_type": "code",
   "execution_count": 60,
   "id": "fd45d952-80fe-48de-ad80-03ce715f9dc4",
   "metadata": {},
   "outputs": [
    {
     "data": {
      "image/png": "[encoded data removed]",
      "text/plain": [
       "<Figure size 1200x300 with 4 Axes>"
      ]
     },
     "metadata": {},
     "output_type": "display_data"
    }
   ],
   "source": [
    "_,axs = plt.subplots(1,4,figsize=(12,3))\n",
    "for ax in axs: show_preds(apply_step(params, False), ax)\n",
    "plt.tight_layout()"
   ]
  },
  {
   "cell_type": "markdown",
   "id": "2d941bf2-a020-47c2-b0f9-dc43189137ca",
   "metadata": {},
   "source": [
    "**Step 7: stop**\n",
    "\n",
    "We just decided to stop after 10 epochs arbitrarily. In practice, we would watch the training and validation losses and our metrics to decide when to stop, as we've discussed."
   ]
  },
  {
   "cell_type": "markdown",
   "id": "2c6a80f3-b01e-4aaf-b429-152a491696d0",
   "metadata": {},
   "source": [
    "__The MNIST Loss Function__"
   ]
  },
  {
   "cell_type": "code",
   "execution_count": 61,
   "id": "5c137687-233f-40b6-870c-aa665f6fc6c7",
   "metadata": {},
   "outputs": [],
   "source": [
    "train_x = torch.cat([stacked_threes, stacked_sevens]).view(-1, 28*28)"
   ]
  },
  {
   "cell_type": "code",
   "execution_count": 62,
   "id": "9f784989-c049-44f6-9d87-f1d1f04111f1",
   "metadata": {},
   "outputs": [
    {
     "data": {
      "text/plain": [
       "(torch.Size([12396, 784]), torch.Size([12396, 1]))"
      ]
     },
     "execution_count": 62,
     "metadata": {},
     "output_type": "execute_result"
    }
   ],
   "source": [
    "train_y = tensor([1]*len(threes) + [0]*len(sevens)).unsqueeze(1)\n",
    "train_x.shape,train_y.shape"
   ]
  },
  {
   "cell_type": "code",
   "execution_count": 63,
   "id": "acfdb57c-c267-4ee8-8163-6227ca0d4d93",
   "metadata": {},
   "outputs": [],
   "source": [
    "dset = list(zip(train_x,train_y))"
   ]
  },
  {
   "cell_type": "code",
   "execution_count": 64,
   "id": "69d769a7-8d24-42e6-9a63-7a51caeb76bd",
   "metadata": {},
   "outputs": [
    {
     "data": {
      "text/plain": [
       "(torch.Size([784]), tensor([1]))"
      ]
     },
     "execution_count": 64,
     "metadata": {},
     "output_type": "execute_result"
    }
   ],
   "source": [
    "x,y = dset[0]\n",
    "x.shape,y"
   ]
  },
  {
   "cell_type": "code",
   "execution_count": 65,
   "id": "02d92bd5-9629-45b9-a989-2120353b7af1",
   "metadata": {},
   "outputs": [],
   "source": [
    "# valid set\n",
    "valid_x = torch.cat([valid_3_tens, valid_7_tens]).view(-1, 28*28)\n",
    "valid_y = tensor([1]*len(valid_3_tens) + [0]*len(valid_7_tens)).unsqueeze(1)\n",
    "valid_dset = list(zip(valid_x,valid_y))"
   ]
  },
  {
   "cell_type": "code",
   "execution_count": 66,
   "id": "1d3c1e7e-9659-487f-b92c-45770dd9d5ed",
   "metadata": {},
   "outputs": [],
   "source": [
    "# set random weights\n",
    "def init_params(size, std=1.0): return (torch.randn(size)*std).requires_grad_()"
   ]
  },
  {
   "cell_type": "code",
   "execution_count": 67,
   "id": "0d7ae326-39c1-45bf-9e83-447c365a152c",
   "metadata": {},
   "outputs": [],
   "source": [
    "weights = init_params((28*28,1))"
   ]
  },
  {
   "cell_type": "code",
   "execution_count": 68,
   "id": "43da6c45-74cd-4818-83d9-ee5fc63d47d0",
   "metadata": {},
   "outputs": [],
   "source": [
    "bias = init_params(1)"
   ]
  },
  {
   "cell_type": "markdown",
   "id": "c1872841-f554-4cce-849a-c2d3a05c6e73",
   "metadata": {},
   "source": [
    "The formula for a line is y=w*x+b\n",
    "\n",
    "In neural networks, the w in the equation y=w*x+b is called the weights, and the b is called the bias. Together, the weights and bias make up the parameters."
   ]
  },
  {
   "cell_type": "code",
   "execution_count": 69,
   "id": "331341a5-ef92-4c9b-bf93-f5b343262948",
   "metadata": {},
   "outputs": [
    {
     "data": {
      "text/plain": [
       "tensor([20.2336], grad_fn=<AddBackward0>)"
      ]
     },
     "execution_count": 69,
     "metadata": {},
     "output_type": "execute_result"
    }
   ],
   "source": [
    "(train_x[0]*weights.T).sum() + bias"
   ]
  },
  {
   "cell_type": "code",
   "execution_count": 70,
   "id": "6b880cc7-b090-48a2-8769-77ebb930cf34",
   "metadata": {},
   "outputs": [
    {
     "data": {
      "text/plain": [
       "tensor([[20.2336],\n",
       "        [17.0644],\n",
       "        [15.2384],\n",
       "        ...,\n",
       "        [18.3804],\n",
       "        [23.8567],\n",
       "        [28.6816]], grad_fn=<AddBackward0>)"
      ]
     },
     "execution_count": 70,
     "metadata": {},
     "output_type": "execute_result"
    }
   ],
   "source": [
    "# In Python, matrix multiplication is represented with the @ operator. Let's try it:\n",
    "def linear1(xb): return xb@weights + bias\n",
    "preds = linear1(train_x)\n",
    "preds"
   ]
  },
  {
   "cell_type": "markdown",
   "id": "ee34d6a2-0725-499c-a797-e8239f10db40",
   "metadata": {},
   "source": [
    "This equation, batch@weights + bias, is one of the two fundamental equations of any neural network (the other one is the activation function, which we'll see in a moment)."
   ]
  },
  {
   "cell_type": "code",
   "execution_count": 71,
   "id": "8847091a-b6d5-4f31-bebc-c0c52a22f95a",
   "metadata": {},
   "outputs": [
    {
     "data": {
      "text/plain": [
       "tensor([[ True],\n",
       "        [ True],\n",
       "        [ True],\n",
       "        ...,\n",
       "        [False],\n",
       "        [False],\n",
       "        [False]])"
      ]
     },
     "execution_count": 71,
     "metadata": {},
     "output_type": "execute_result"
    }
   ],
   "source": [
    "# check accuracy\n",
    "corrects = (preds>0.0).float() == train_y\n",
    "corrects"
   ]
  },
  {
   "cell_type": "code",
   "execution_count": 72,
   "id": "1674576e-2635-4bbe-b880-a742b45db54e",
   "metadata": {},
   "outputs": [
    {
     "data": {
      "text/plain": [
       "0.4912068545818329"
      ]
     },
     "execution_count": 72,
     "metadata": {},
     "output_type": "execute_result"
    }
   ],
   "source": [
    "corrects.float().mean().item()"
   ]
  },
  {
   "cell_type": "code",
   "execution_count": 73,
   "id": "3b1b4e77-ffec-4f49-9e02-ac4d192e65b3",
   "metadata": {},
   "outputs": [],
   "source": [
    "with torch.no_grad(): weights[0] *= 1.0001"
   ]
  },
  {
   "cell_type": "code",
   "execution_count": 74,
   "id": "d7c749e7-67a0-4a5f-a40b-5ad9568fe898",
   "metadata": {},
   "outputs": [
    {
     "data": {
      "text/plain": [
       "0.4912068545818329"
      ]
     },
     "execution_count": 74,
     "metadata": {},
     "output_type": "execute_result"
    }
   ],
   "source": [
    "preds = linear1(train_x)\n",
    "((preds>0.0).float() == train_y).float().mean().item()"
   ]
  },
  {
   "cell_type": "code",
   "execution_count": 75,
   "id": "48945e94-22fb-4506-8aeb-fa14614015fe",
   "metadata": {},
   "outputs": [],
   "source": [
    "# 3, 7, 3\n",
    "trgts  = tensor([1,0,1])\n",
    "prds   = tensor([0.9, 0.4, 0.2])"
   ]
  },
  {
   "cell_type": "code",
   "execution_count": 76,
   "id": "d6a5cd72-e005-41c1-b887-58e841afa988",
   "metadata": {},
   "outputs": [],
   "source": [
    "def mnist_loss(predictions, targets):\n",
    "    return torch.where(targets==1, 1-predictions, predictions).mean()"
   ]
  },
  {
   "cell_type": "code",
   "execution_count": 77,
   "id": "c9befe42-8432-46bb-b669-9cca4e2ced06",
   "metadata": {},
   "outputs": [
    {
     "data": {
      "text/plain": [
       "tensor([0.1000, 0.4000, 0.8000])"
      ]
     },
     "execution_count": 77,
     "metadata": {},
     "output_type": "execute_result"
    }
   ],
   "source": [
    "torch.where(trgts==1, 1-prds, prds)"
   ]
  },
  {
   "cell_type": "code",
   "execution_count": 78,
   "id": "c71a4d71-9b46-47ab-bd4d-c19c26ea3180",
   "metadata": {},
   "outputs": [
    {
     "data": {
      "text/plain": [
       "tensor(0.4333)"
      ]
     },
     "execution_count": 78,
     "metadata": {},
     "output_type": "execute_result"
    }
   ],
   "source": [
    "mnist_loss(prds,trgts)"
   ]
  },
  {
   "cell_type": "code",
   "execution_count": 79,
   "id": "eddf0a1a-6b0f-4d9f-af48-c812237448af",
   "metadata": {},
   "outputs": [
    {
     "data": {
      "text/plain": [
       "tensor(0.2333)"
      ]
     },
     "execution_count": 79,
     "metadata": {},
     "output_type": "execute_result"
    }
   ],
   "source": [
    "mnist_loss(tensor([0.9, 0.4, 0.8]),trgts)"
   ]
  },
  {
   "cell_type": "code",
   "execution_count": 80,
   "id": "32344f3a-a241-4b4d-8791-4b385fbb1c1a",
   "metadata": {},
   "outputs": [],
   "source": [
    "def mnist_loss(predictions, targets):\n",
    "    predictions = predictions.sigmoid() # The sigmoid function always outputs a number between 0 and 1\n",
    "    return torch.where(targets==1, 1-predictions, predictions).mean()"
   ]
  },
  {
   "cell_type": "markdown",
   "id": "69f7931d-5fac-42b6-b122-5d0a34e8073d",
   "metadata": {},
   "source": [
    "__SGD and Mini-Batches__"
   ]
  },
  {
   "cell_type": "code",
   "execution_count": 81,
   "id": "8951f7e6-9484-447e-985e-b87887fc363b",
   "metadata": {},
   "outputs": [
    {
     "data": {
      "text/plain": [
       "[tensor([ 3, 12,  8, 10,  2]),\n",
       " tensor([ 9,  4,  7, 14,  5]),\n",
       " tensor([ 1, 13,  0,  6, 11])]"
      ]
     },
     "execution_count": 81,
     "metadata": {},
     "output_type": "execute_result"
    }
   ],
   "source": [
    "# A DataLoader can take any Python collection and turn it into an iterator over mini-batches, like so:\n",
    "coll = range(15)\n",
    "dl = DataLoader(coll, batch_size=5, shuffle=True)\n",
    "list(dl)"
   ]
  },
  {
   "cell_type": "code",
   "execution_count": 82,
   "id": "af14bbc7-3e10-433e-9afe-716e1063e623",
   "metadata": {},
   "outputs": [
    {
     "data": {
      "text/plain": [
       "(#26) [(0, 'a'),(1, 'b'),(2, 'c'),(3, 'd'),(4, 'e'),(5, 'f'),(6, 'g'),(7, 'h'),(8, 'i'),(9, 'j'),(10, 'k'),(11, 'l'),(12, 'm'),(13, 'n'),(14, 'o'),(15, 'p'),(16, 'q'),(17, 'r'),(18, 's'),(19, 't')...]"
      ]
     },
     "execution_count": 82,
     "metadata": {},
     "output_type": "execute_result"
    }
   ],
   "source": [
    "#A collection that contains tuples of independent and dependent variables is known in PyTorch as a Dataset\n",
    "ds = L(enumerate(string.ascii_lowercase))\n",
    "ds"
   ]
  },
  {
   "cell_type": "code",
   "execution_count": 83,
   "id": "4b67f202-7be5-4943-b9f3-606d8f5be45a",
   "metadata": {},
   "outputs": [
    {
     "data": {
      "text/plain": [
       "[(tensor([17, 18, 10, 22,  8, 14]), ('r', 's', 'k', 'w', 'i', 'o')),\n",
       " (tensor([20, 15,  9, 13, 21, 12]), ('u', 'p', 'j', 'n', 'v', 'm')),\n",
       " (tensor([ 7, 25,  6,  5, 11, 23]), ('h', 'z', 'g', 'f', 'l', 'x')),\n",
       " (tensor([ 1,  3,  0, 24, 19, 16]), ('b', 'd', 'a', 'y', 't', 'q')),\n",
       " (tensor([2, 4]), ('c', 'e'))]"
      ]
     },
     "execution_count": 83,
     "metadata": {},
     "output_type": "execute_result"
    }
   ],
   "source": [
    "dl = DataLoader(ds, batch_size=6, shuffle=True)\n",
    "list(dl)"
   ]
  },
  {
   "cell_type": "markdown",
   "id": "cebcf5f3-5a8c-4e48-affe-663dfb332426",
   "metadata": {},
   "source": [
    "**Putting It All Together**"
   ]
  },
  {
   "cell_type": "code",
   "execution_count": 84,
   "id": "300c631b-ecad-4eb2-bc6f-9e2c5c9d8225",
   "metadata": {},
   "outputs": [],
   "source": [
    "weights = init_params((28*28,1))\n",
    "bias = init_params(1)"
   ]
  },
  {
   "cell_type": "code",
   "execution_count": 85,
   "id": "11e091f5-4296-4bf1-ba5a-55979205fdf7",
   "metadata": {},
   "outputs": [
    {
     "data": {
      "text/plain": [
       "(torch.Size([256, 784]), torch.Size([256, 1]))"
      ]
     },
     "execution_count": 85,
     "metadata": {},
     "output_type": "execute_result"
    }
   ],
   "source": [
    "dl = DataLoader(dset, batch_size=256)\n",
    "xb,yb = first(dl)\n",
    "xb.shape,yb.shape"
   ]
  },
  {
   "cell_type": "code",
   "execution_count": 86,
   "id": "3881015c-913e-4dca-aeb3-9a1992f6cd31",
   "metadata": {},
   "outputs": [],
   "source": [
    "valid_dl = DataLoader(valid_dset, batch_size=256)"
   ]
  },
  {
   "cell_type": "code",
   "execution_count": 87,
   "id": "374e43a3-4cbb-4c06-9a88-32314e3dfdd1",
   "metadata": {},
   "outputs": [
    {
     "data": {
      "text/plain": [
       "torch.Size([4, 784])"
      ]
     },
     "execution_count": 87,
     "metadata": {},
     "output_type": "execute_result"
    }
   ],
   "source": [
    "# Let's create a mini-batch of size 4 for testing:\n",
    "batch = train_x[:4]\n",
    "batch.shape"
   ]
  },
  {
   "cell_type": "code",
   "execution_count": 88,
   "id": "bde29547-2476-4ffe-9a64-7bd3366b22b2",
   "metadata": {},
   "outputs": [
    {
     "data": {
      "text/plain": [
       "tensor([[-2.1876],\n",
       "        [-8.3973],\n",
       "        [ 2.5000],\n",
       "        [-4.9473]], grad_fn=<AddBackward0>)"
      ]
     },
     "execution_count": 88,
     "metadata": {},
     "output_type": "execute_result"
    }
   ],
   "source": [
    "preds = linear1(batch)\n",
    "preds"
   ]
  },
  {
   "cell_type": "code",
   "execution_count": 89,
   "id": "54c5aaf5-c485-48c3-b22a-888b66195d4e",
   "metadata": {},
   "outputs": [
    {
     "data": {
      "text/plain": [
       "tensor(0.7419, grad_fn=<MeanBackward0>)"
      ]
     },
     "execution_count": 89,
     "metadata": {},
     "output_type": "execute_result"
    }
   ],
   "source": [
    "loss = mnist_loss(preds, train_y[:4])\n",
    "loss"
   ]
  },
  {
   "cell_type": "code",
   "execution_count": 90,
   "id": "73e44476-0c29-4401-9a01-9626b40b040f",
   "metadata": {},
   "outputs": [
    {
     "data": {
      "text/plain": [
       "(torch.Size([784, 1]), tensor(-0.0061), tensor([-0.0420]))"
      ]
     },
     "execution_count": 90,
     "metadata": {},
     "output_type": "execute_result"
    }
   ],
   "source": [
    "# Now we can calculate the gradients\n",
    "loss.backward()\n",
    "weights.grad.shape,weights.grad.mean(),bias.grad"
   ]
  },
  {
   "cell_type": "code",
   "execution_count": 91,
   "id": "562aec84-50e1-4de1-8972-45aa1b045d75",
   "metadata": {},
   "outputs": [],
   "source": [
    "def calc_grad(xb, yb, model):\n",
    "    preds = model(xb)\n",
    "    loss = mnist_loss(preds, yb)\n",
    "    loss.backward()"
   ]
  },
  {
   "cell_type": "code",
   "execution_count": 92,
   "id": "e6fbdf56-f907-490d-9304-183c887e882b",
   "metadata": {},
   "outputs": [
    {
     "data": {
      "text/plain": [
       "(tensor(-0.0121), tensor([-0.0840]))"
      ]
     },
     "execution_count": 92,
     "metadata": {},
     "output_type": "execute_result"
    }
   ],
   "source": [
    "calc_grad(batch, train_y[:4], linear1)\n",
    "weights.grad.mean(),bias.grad"
   ]
  },
  {
   "cell_type": "code",
   "execution_count": 93,
   "id": "3738988b-2759-4d29-99fe-b847657781ea",
   "metadata": {},
   "outputs": [
    {
     "data": {
      "text/plain": [
       "(tensor(-0.0182), tensor([-0.1260]))"
      ]
     },
     "execution_count": 93,
     "metadata": {},
     "output_type": "execute_result"
    }
   ],
   "source": [
    "calc_grad(batch, train_y[:4], linear1)\n",
    "weights.grad.mean(),bias.grad"
   ]
  },
  {
   "cell_type": "code",
   "execution_count": 94,
   "id": "a2cbb693-4033-4ec9-91cb-f37b60af836a",
   "metadata": {},
   "outputs": [],
   "source": [
    "weights.grad.zero_()\n",
    "bias.grad.zero_();"
   ]
  },
  {
   "cell_type": "code",
   "execution_count": 95,
   "id": "efa440b6-07c6-4d5f-95a3-8b66453edef0",
   "metadata": {},
   "outputs": [],
   "source": [
    "def train_epoch(model, lr, params):\n",
    "    for xb,yb in dl:\n",
    "        calc_grad(xb, yb, model)\n",
    "        for p in params:\n",
    "            p.data -= p.grad*lr\n",
    "            p.grad.zero_()"
   ]
  },
  {
   "cell_type": "code",
   "execution_count": 96,
   "id": "2bc38734-deac-4f29-bd8d-41aa38432e7c",
   "metadata": {},
   "outputs": [
    {
     "data": {
      "text/plain": [
       "tensor([[False],\n",
       "        [False],\n",
       "        [ True],\n",
       "        [False]])"
      ]
     },
     "execution_count": 96,
     "metadata": {},
     "output_type": "execute_result"
    }
   ],
   "source": [
    "(preds>0.0).float() == train_y[:4]"
   ]
  },
  {
   "cell_type": "code",
   "execution_count": 97,
   "id": "5ab20d8d-979c-4c2c-97a0-e8b8e85002e4",
   "metadata": {},
   "outputs": [],
   "source": [
    "def batch_accuracy(xb, yb):\n",
    "    preds = xb.sigmoid()\n",
    "    correct = (preds>0.5) == yb\n",
    "    return correct.float().mean()"
   ]
  },
  {
   "cell_type": "code",
   "execution_count": 98,
   "id": "2e07b062-326d-4cc6-b254-3b2de3679e6e",
   "metadata": {},
   "outputs": [
    {
     "data": {
      "text/plain": [
       "tensor(0.2500)"
      ]
     },
     "execution_count": 98,
     "metadata": {},
     "output_type": "execute_result"
    }
   ],
   "source": [
    "batch_accuracy(linear1(batch), train_y[:4])"
   ]
  },
  {
   "cell_type": "code",
   "execution_count": 99,
   "id": "448813bd-e618-4971-a4cd-014e5fa9de94",
   "metadata": {},
   "outputs": [],
   "source": [
    "def validate_epoch(model):\n",
    "    accs = [batch_accuracy(model(xb), yb) for xb,yb in valid_dl]\n",
    "    return round(torch.stack(accs).mean().item(), 4)"
   ]
  },
  {
   "cell_type": "code",
   "execution_count": 100,
   "id": "ac529c24-bd17-4ea2-bc35-bb53ad66dd9b",
   "metadata": {},
   "outputs": [
    {
     "data": {
      "text/plain": [
       "0.5261"
      ]
     },
     "execution_count": 100,
     "metadata": {},
     "output_type": "execute_result"
    }
   ],
   "source": [
    "validate_epoch(linear1)"
   ]
  },
  {
   "cell_type": "code",
   "execution_count": 101,
   "id": "7bc9ecae-b703-460f-8c48-344affb42037",
   "metadata": {},
   "outputs": [
    {
     "data": {
      "text/plain": [
       "0.6664"
      ]
     },
     "execution_count": 101,
     "metadata": {},
     "output_type": "execute_result"
    }
   ],
   "source": [
    "lr = 1.\n",
    "params = weights,bias\n",
    "train_epoch(linear1, lr, params)\n",
    "validate_epoch(linear1)"
   ]
  },
  {
   "cell_type": "code",
   "execution_count": 102,
   "id": "d5271151-2aa3-4a23-a4dc-766da357e2c8",
   "metadata": {},
   "outputs": [
    {
     "name": "stdout",
     "output_type": "stream",
     "text": [
      "0.8266 0.8901 0.9184 0.9277 0.9399 0.9467 0.9506 0.9526 0.956 0.9579 0.9599 0.9609 0.9614 0.9619 0.9633 0.9638 0.9648 0.9658 0.9673 0.9678 "
     ]
    }
   ],
   "source": [
    "for i in range(20):\n",
    "    train_epoch(linear1, lr, params)\n",
    "    print(validate_epoch(linear1), end=' ')"
   ]
  },
  {
   "cell_type": "markdown",
   "id": "2f6adf3c-6369-4a05-98bd-63f6b49b7e3a",
   "metadata": {},
   "source": [
    "**Creating an Optimizer**\n",
    "\n",
    "Because this is such a general foundation, PyTorch provides some useful classes to make it easier to implement. The first thing we can do is replace our linear1 function with PyTorch's nn.Linear module.\n",
    "\n",
    "```nn.Linear``` does the same thing as our ```init_params``` and ```linear``` together. It contains both the weights and biases in a single class. Here's how we replicate our model from the previous section:"
   ]
  },
  {
   "cell_type": "code",
   "execution_count": 103,
   "id": "fbc8c302-7b9d-4d4a-b566-dc39815d19af",
   "metadata": {},
   "outputs": [],
   "source": [
    "linear_model = nn.Linear(28*28,1)"
   ]
  },
  {
   "cell_type": "code",
   "execution_count": 104,
   "id": "125fcd2b-4496-42f6-850a-b5435d13bcd8",
   "metadata": {},
   "outputs": [
    {
     "data": {
      "text/plain": [
       "(torch.Size([1, 784]), torch.Size([1]))"
      ]
     },
     "execution_count": 104,
     "metadata": {},
     "output_type": "execute_result"
    }
   ],
   "source": [
    "w,b = linear_model.parameters()\n",
    "w.shape,b.shape"
   ]
  },
  {
   "cell_type": "code",
   "execution_count": 105,
   "id": "0a157760-2d38-4600-ba7d-6c7abdbab1d1",
   "metadata": {},
   "outputs": [],
   "source": [
    "class BasicOptim:\n",
    "    def __init__(self,params,lr): self.params,self.lr = list(params),lr\n",
    "\n",
    "    def step(self, *args, **kwargs):\n",
    "        for p in self.params: p.data -= p.grad.data * self.lr\n",
    "\n",
    "    def zero_grad(self, *args, **kwargs):\n",
    "        for p in self.params: p.grad = None"
   ]
  },
  {
   "cell_type": "code",
   "execution_count": 106,
   "id": "a768131d-bf74-4f60-847a-0a6231a741e7",
   "metadata": {},
   "outputs": [],
   "source": [
    "opt = BasicOptim(linear_model.parameters(), lr)"
   ]
  },
  {
   "cell_type": "code",
   "execution_count": 107,
   "id": "c895e329-d9a9-4c93-bff8-f43b117ebc39",
   "metadata": {},
   "outputs": [],
   "source": [
    "def train_epoch(model):\n",
    "    for xb,yb in dl:\n",
    "        calc_grad(xb, yb, model)\n",
    "        opt.step()\n",
    "        opt.zero_grad()"
   ]
  },
  {
   "cell_type": "code",
   "execution_count": 108,
   "id": "46e33f9e-068a-4f26-99da-7e5a6eadf750",
   "metadata": {},
   "outputs": [
    {
     "data": {
      "text/plain": [
       "0.4607"
      ]
     },
     "execution_count": 108,
     "metadata": {},
     "output_type": "execute_result"
    }
   ],
   "source": [
    "validate_epoch(linear_model)"
   ]
  },
  {
   "cell_type": "code",
   "execution_count": 109,
   "id": "c687b1e6-3a52-425e-89b1-20680eee6dbb",
   "metadata": {},
   "outputs": [],
   "source": [
    "def train_model(model, epochs):\n",
    "    for i in range(epochs):\n",
    "        train_epoch(model)\n",
    "        print(validate_epoch(model), end=' ')"
   ]
  },
  {
   "cell_type": "code",
   "execution_count": 110,
   "id": "9158224b-c68a-4b5b-af1e-0620a5176c79",
   "metadata": {},
   "outputs": [
    {
     "name": "stdout",
     "output_type": "stream",
     "text": [
      "0.4932 0.7686 0.8555 0.9136 0.9346 0.9482 0.957 0.9634 0.9658 0.9678 0.9697 0.9717 0.9736 0.9746 0.9761 0.977 0.9775 0.9775 0.978 0.9785 "
     ]
    }
   ],
   "source": [
    "train_model(linear_model, 20)"
   ]
  },
  {
   "cell_type": "code",
   "execution_count": 111,
   "id": "9ba9b6e4-c22a-4226-9ae0-a57c350de366",
   "metadata": {},
   "outputs": [
    {
     "name": "stdout",
     "output_type": "stream",
     "text": [
      "0.4932 0.8179 0.8496 0.9141 0.9346 0.9482 0.957 0.9619 0.9658 0.9673 0.9692 0.9712 0.9741 0.9751 0.9761 0.9775 0.9775 0.978 0.9785 0.979 "
     ]
    }
   ],
   "source": [
    "#fastai provides the SGD class which, by default, does the same thing as our BasicOptim:\n",
    "linear_model = nn.Linear(28*28,1)\n",
    "opt = SGD(linear_model.parameters(), lr)\n",
    "train_model(linear_model, 20)"
   ]
  },
  {
   "cell_type": "markdown",
   "id": "c6140cfc-5659-4d03-84c0-d7ed61c780b9",
   "metadata": {},
   "source": [
    "fastai also provides Learner.fit, which we can use instead of train_model. To create a Learner we first need to create a DataLoaders, by passing in our training and validation DataLoaders:"
   ]
  },
  {
   "cell_type": "code",
   "execution_count": 112,
   "id": "bc585dac-e170-4e6d-bfe6-f148b52e8a2b",
   "metadata": {},
   "outputs": [],
   "source": [
    "dls = DataLoaders(dl, valid_dl)"
   ]
  },
  {
   "cell_type": "code",
   "execution_count": 113,
   "id": "192a5a19-b04d-4046-a67a-43dc67c1ad45",
   "metadata": {},
   "outputs": [],
   "source": [
    "learn = Learner(dls, nn.Linear(28*28,1), opt_func=SGD,\n",
    "                loss_func=mnist_loss, metrics=batch_accuracy)"
   ]
  },
  {
   "cell_type": "code",
   "execution_count": 114,
   "id": "60e0c8ca-c9a3-4de4-9959-79936ffeea98",
   "metadata": {},
   "outputs": [
    {
     "data": {
      "text/html": [
       "\n",
       "<style>\n",
       "    /* Turns off some styling */\n",
       "    progress {\n",
       "        /* gets rid of default border in Firefox and Opera. */\n",
       "        border: none;\n",
       "        /* Needs to be in here for Safari polyfill so background images work as expected. */\n",
       "        background-size: auto;\n",
       "    }\n",
       "    progress:not([value]), progress:not([value])::-webkit-progress-bar {\n",
       "        background: repeating-linear-gradient(45deg, #7e7e7e, #7e7e7e 10px, #5c5c5c 10px, #5c5c5c 20px);\n",
       "    }\n",
       "    .progress-bar-interrupted, .progress-bar-interrupted::-webkit-progress-bar {\n",
       "        background: #F44336;\n",
       "    }\n",
       "</style>\n"
      ],
      "text/plain": [
       "<IPython.core.display.HTML object>"
      ]
     },
     "metadata": {},
     "output_type": "display_data"
    },
    {
     "data": {
      "text/html": [
       "<table border=\"1\" class=\"dataframe\">\n",
       "  <thead>\n",
       "    <tr style=\"text-align: left;\">\n",
       "      <th>epoch</th>\n",
       "      <th>train_loss</th>\n",
       "      <th>valid_loss</th>\n",
       "      <th>batch_accuracy</th>\n",
       "      <th>time</th>\n",
       "    </tr>\n",
       "  </thead>\n",
       "  <tbody>\n",
       "    <tr>\n",
       "      <td>0</td>\n",
       "      <td>0.636709</td>\n",
       "      <td>0.503144</td>\n",
       "      <td>0.495584</td>\n",
       "      <td>00:00</td>\n",
       "    </tr>\n",
       "    <tr>\n",
       "      <td>1</td>\n",
       "      <td>0.429828</td>\n",
       "      <td>0.248517</td>\n",
       "      <td>0.777233</td>\n",
       "      <td>00:00</td>\n",
       "    </tr>\n",
       "    <tr>\n",
       "      <td>2</td>\n",
       "      <td>0.161680</td>\n",
       "      <td>0.155361</td>\n",
       "      <td>0.861629</td>\n",
       "      <td>00:00</td>\n",
       "    </tr>\n",
       "    <tr>\n",
       "      <td>3</td>\n",
       "      <td>0.072948</td>\n",
       "      <td>0.097721</td>\n",
       "      <td>0.917566</td>\n",
       "      <td>00:00</td>\n",
       "    </tr>\n",
       "    <tr>\n",
       "      <td>4</td>\n",
       "      <td>0.040128</td>\n",
       "      <td>0.073205</td>\n",
       "      <td>0.936212</td>\n",
       "      <td>00:00</td>\n",
       "    </tr>\n",
       "    <tr>\n",
       "      <td>5</td>\n",
       "      <td>0.027210</td>\n",
       "      <td>0.059466</td>\n",
       "      <td>0.950442</td>\n",
       "      <td>00:00</td>\n",
       "    </tr>\n",
       "    <tr>\n",
       "      <td>6</td>\n",
       "      <td>0.021837</td>\n",
       "      <td>0.050799</td>\n",
       "      <td>0.957802</td>\n",
       "      <td>00:00</td>\n",
       "    </tr>\n",
       "    <tr>\n",
       "      <td>7</td>\n",
       "      <td>0.019398</td>\n",
       "      <td>0.044980</td>\n",
       "      <td>0.964181</td>\n",
       "      <td>00:00</td>\n",
       "    </tr>\n",
       "    <tr>\n",
       "      <td>8</td>\n",
       "      <td>0.018122</td>\n",
       "      <td>0.040853</td>\n",
       "      <td>0.966143</td>\n",
       "      <td>00:00</td>\n",
       "    </tr>\n",
       "    <tr>\n",
       "      <td>9</td>\n",
       "      <td>0.017330</td>\n",
       "      <td>0.037788</td>\n",
       "      <td>0.968106</td>\n",
       "      <td>00:00</td>\n",
       "    </tr>\n",
       "  </tbody>\n",
       "</table>"
      ],
      "text/plain": [
       "<IPython.core.display.HTML object>"
      ]
     },
     "metadata": {},
     "output_type": "display_data"
    }
   ],
   "source": [
    "learn.fit(10, lr=lr)"
   ]
  },
  {
   "cell_type": "markdown",
   "id": "25a1a970-72a8-4157-a63a-ccbe0f5c59dd",
   "metadata": {},
   "source": [
    "**Adding a Nonlinearity**"
   ]
  },
  {
   "cell_type": "code",
   "execution_count": 115,
   "id": "a0956378-4d1f-4a6c-a614-c5a7a754f4a8",
   "metadata": {},
   "outputs": [],
   "source": [
    "def simple_net(xb): \n",
    "    res = xb@w1 + b1\n",
    "    res = res.max(tensor(0.0))\n",
    "    res = res@w2 + b2\n",
    "    return res"
   ]
  },
  {
   "cell_type": "code",
   "execution_count": 116,
   "id": "0d484dde-495f-4904-a5b5-3d352c9802aa",
   "metadata": {},
   "outputs": [],
   "source": [
    "w1 = init_params((28*28,30))\n",
    "b1 = init_params(30)\n",
    "w2 = init_params((30,1))\n",
    "b2 = init_params(1)"
   ]
  },
  {
   "cell_type": "code",
   "execution_count": 117,
   "id": "5669781c-76b3-4097-8b97-29227d9f9aa4",
   "metadata": {},
   "outputs": [
    {
     "data": {
      "image/png": "[encoded data removed]",
      "text/plain": [
       "<Figure size 600x400 with 1 Axes>"
      ]
     },
     "metadata": {},
     "output_type": "display_data"
    }
   ],
   "source": [
    "plot_function(F.relu)\n"
   ]
  },
  {
   "cell_type": "code",
   "execution_count": 118,
   "id": "27d8703a-c58a-471c-b19b-105a3c741ee0",
   "metadata": {},
   "outputs": [],
   "source": [
    "simple_net = nn.Sequential(\n",
    "    nn.Linear(28*28,30),\n",
    "    nn.ReLU(),\n",
    "    nn.Linear(30,1)\n",
    ")"
   ]
  },
  {
   "cell_type": "code",
   "execution_count": 119,
   "id": "7b0f85f4-921e-45cd-8111-dff5d3cd441f",
   "metadata": {},
   "outputs": [],
   "source": [
    "learn = Learner(dls, simple_net, opt_func=SGD,\n",
    "                loss_func=mnist_loss, metrics=batch_accuracy)"
   ]
  },
  {
   "cell_type": "code",
   "execution_count": 120,
   "id": "392509f2-ff43-4760-9c9f-c1f23429d9ea",
   "metadata": {},
   "outputs": [
    {
     "data": {
      "text/html": [
       "\n",
       "<style>\n",
       "    /* Turns off some styling */\n",
       "    progress {\n",
       "        /* gets rid of default border in Firefox and Opera. */\n",
       "        border: none;\n",
       "        /* Needs to be in here for Safari polyfill so background images work as expected. */\n",
       "        background-size: auto;\n",
       "    }\n",
       "    progress:not([value]), progress:not([value])::-webkit-progress-bar {\n",
       "        background: repeating-linear-gradient(45deg, #7e7e7e, #7e7e7e 10px, #5c5c5c 10px, #5c5c5c 20px);\n",
       "    }\n",
       "    .progress-bar-interrupted, .progress-bar-interrupted::-webkit-progress-bar {\n",
       "        background: #F44336;\n",
       "    }\n",
       "</style>\n"
      ],
      "text/plain": [
       "<IPython.core.display.HTML object>"
      ]
     },
     "metadata": {},
     "output_type": "display_data"
    },
    {
     "data": {
      "text/html": [
       "<table border=\"1\" class=\"dataframe\">\n",
       "  <thead>\n",
       "    <tr style=\"text-align: left;\">\n",
       "      <th>epoch</th>\n",
       "      <th>train_loss</th>\n",
       "      <th>valid_loss</th>\n",
       "      <th>batch_accuracy</th>\n",
       "      <th>time</th>\n",
       "    </tr>\n",
       "  </thead>\n",
       "  <tbody>\n",
       "    <tr>\n",
       "      <td>0</td>\n",
       "      <td>0.333021</td>\n",
       "      <td>0.396112</td>\n",
       "      <td>0.512267</td>\n",
       "      <td>00:00</td>\n",
       "    </tr>\n",
       "    <tr>\n",
       "      <td>1</td>\n",
       "      <td>0.152461</td>\n",
       "      <td>0.235238</td>\n",
       "      <td>0.797350</td>\n",
       "      <td>00:00</td>\n",
       "    </tr>\n",
       "    <tr>\n",
       "      <td>2</td>\n",
       "      <td>0.083573</td>\n",
       "      <td>0.117471</td>\n",
       "      <td>0.911678</td>\n",
       "      <td>00:00</td>\n",
       "    </tr>\n",
       "    <tr>\n",
       "      <td>3</td>\n",
       "      <td>0.054309</td>\n",
       "      <td>0.078719</td>\n",
       "      <td>0.940628</td>\n",
       "      <td>00:00</td>\n",
       "    </tr>\n",
       "    <tr>\n",
       "      <td>4</td>\n",
       "      <td>0.040829</td>\n",
       "      <td>0.061228</td>\n",
       "      <td>0.956330</td>\n",
       "      <td>00:00</td>\n",
       "    </tr>\n",
       "    <tr>\n",
       "      <td>5</td>\n",
       "      <td>0.034006</td>\n",
       "      <td>0.051490</td>\n",
       "      <td>0.963690</td>\n",
       "      <td>00:00</td>\n",
       "    </tr>\n",
       "    <tr>\n",
       "      <td>6</td>\n",
       "      <td>0.030123</td>\n",
       "      <td>0.045381</td>\n",
       "      <td>0.966634</td>\n",
       "      <td>00:00</td>\n",
       "    </tr>\n",
       "    <tr>\n",
       "      <td>7</td>\n",
       "      <td>0.027619</td>\n",
       "      <td>0.041218</td>\n",
       "      <td>0.968106</td>\n",
       "      <td>00:00</td>\n",
       "    </tr>\n",
       "    <tr>\n",
       "      <td>8</td>\n",
       "      <td>0.025825</td>\n",
       "      <td>0.038200</td>\n",
       "      <td>0.969087</td>\n",
       "      <td>00:00</td>\n",
       "    </tr>\n",
       "    <tr>\n",
       "      <td>9</td>\n",
       "      <td>0.024441</td>\n",
       "      <td>0.035901</td>\n",
       "      <td>0.969578</td>\n",
       "      <td>00:00</td>\n",
       "    </tr>\n",
       "    <tr>\n",
       "      <td>10</td>\n",
       "      <td>0.023321</td>\n",
       "      <td>0.034082</td>\n",
       "      <td>0.971541</td>\n",
       "      <td>00:00</td>\n",
       "    </tr>\n",
       "    <tr>\n",
       "      <td>11</td>\n",
       "      <td>0.022387</td>\n",
       "      <td>0.032598</td>\n",
       "      <td>0.972031</td>\n",
       "      <td>00:00</td>\n",
       "    </tr>\n",
       "    <tr>\n",
       "      <td>12</td>\n",
       "      <td>0.021592</td>\n",
       "      <td>0.031353</td>\n",
       "      <td>0.974485</td>\n",
       "      <td>00:00</td>\n",
       "    </tr>\n",
       "    <tr>\n",
       "      <td>13</td>\n",
       "      <td>0.020904</td>\n",
       "      <td>0.030284</td>\n",
       "      <td>0.975466</td>\n",
       "      <td>00:00</td>\n",
       "    </tr>\n",
       "    <tr>\n",
       "      <td>14</td>\n",
       "      <td>0.020300</td>\n",
       "      <td>0.029352</td>\n",
       "      <td>0.975466</td>\n",
       "      <td>00:00</td>\n",
       "    </tr>\n",
       "    <tr>\n",
       "      <td>15</td>\n",
       "      <td>0.019766</td>\n",
       "      <td>0.028526</td>\n",
       "      <td>0.975466</td>\n",
       "      <td>00:00</td>\n",
       "    </tr>\n",
       "    <tr>\n",
       "      <td>16</td>\n",
       "      <td>0.019288</td>\n",
       "      <td>0.027788</td>\n",
       "      <td>0.976448</td>\n",
       "      <td>00:00</td>\n",
       "    </tr>\n",
       "    <tr>\n",
       "      <td>17</td>\n",
       "      <td>0.018857</td>\n",
       "      <td>0.027124</td>\n",
       "      <td>0.977429</td>\n",
       "      <td>00:00</td>\n",
       "    </tr>\n",
       "    <tr>\n",
       "      <td>18</td>\n",
       "      <td>0.018465</td>\n",
       "      <td>0.026523</td>\n",
       "      <td>0.978410</td>\n",
       "      <td>00:00</td>\n",
       "    </tr>\n",
       "    <tr>\n",
       "      <td>19</td>\n",
       "      <td>0.018107</td>\n",
       "      <td>0.025977</td>\n",
       "      <td>0.978901</td>\n",
       "      <td>00:00</td>\n",
       "    </tr>\n",
       "    <tr>\n",
       "      <td>20</td>\n",
       "      <td>0.017777</td>\n",
       "      <td>0.025479</td>\n",
       "      <td>0.978901</td>\n",
       "      <td>00:00</td>\n",
       "    </tr>\n",
       "    <tr>\n",
       "      <td>21</td>\n",
       "      <td>0.017473</td>\n",
       "      <td>0.025022</td>\n",
       "      <td>0.979392</td>\n",
       "      <td>00:00</td>\n",
       "    </tr>\n",
       "    <tr>\n",
       "      <td>22</td>\n",
       "      <td>0.017191</td>\n",
       "      <td>0.024601</td>\n",
       "      <td>0.980373</td>\n",
       "      <td>00:00</td>\n",
       "    </tr>\n",
       "    <tr>\n",
       "      <td>23</td>\n",
       "      <td>0.016927</td>\n",
       "      <td>0.024213</td>\n",
       "      <td>0.980373</td>\n",
       "      <td>00:00</td>\n",
       "    </tr>\n",
       "    <tr>\n",
       "      <td>24</td>\n",
       "      <td>0.016680</td>\n",
       "      <td>0.023855</td>\n",
       "      <td>0.981354</td>\n",
       "      <td>00:00</td>\n",
       "    </tr>\n",
       "    <tr>\n",
       "      <td>25</td>\n",
       "      <td>0.016449</td>\n",
       "      <td>0.023521</td>\n",
       "      <td>0.981354</td>\n",
       "      <td>00:00</td>\n",
       "    </tr>\n",
       "    <tr>\n",
       "      <td>26</td>\n",
       "      <td>0.016230</td>\n",
       "      <td>0.023211</td>\n",
       "      <td>0.981354</td>\n",
       "      <td>00:00</td>\n",
       "    </tr>\n",
       "    <tr>\n",
       "      <td>27</td>\n",
       "      <td>0.016023</td>\n",
       "      <td>0.022922</td>\n",
       "      <td>0.981354</td>\n",
       "      <td>00:00</td>\n",
       "    </tr>\n",
       "    <tr>\n",
       "      <td>28</td>\n",
       "      <td>0.015827</td>\n",
       "      <td>0.022653</td>\n",
       "      <td>0.981845</td>\n",
       "      <td>00:00</td>\n",
       "    </tr>\n",
       "    <tr>\n",
       "      <td>29</td>\n",
       "      <td>0.015641</td>\n",
       "      <td>0.022401</td>\n",
       "      <td>0.981845</td>\n",
       "      <td>00:00</td>\n",
       "    </tr>\n",
       "    <tr>\n",
       "      <td>30</td>\n",
       "      <td>0.015463</td>\n",
       "      <td>0.022165</td>\n",
       "      <td>0.981845</td>\n",
       "      <td>00:00</td>\n",
       "    </tr>\n",
       "    <tr>\n",
       "      <td>31</td>\n",
       "      <td>0.015294</td>\n",
       "      <td>0.021944</td>\n",
       "      <td>0.983317</td>\n",
       "      <td>00:00</td>\n",
       "    </tr>\n",
       "    <tr>\n",
       "      <td>32</td>\n",
       "      <td>0.015132</td>\n",
       "      <td>0.021736</td>\n",
       "      <td>0.982826</td>\n",
       "      <td>00:00</td>\n",
       "    </tr>\n",
       "    <tr>\n",
       "      <td>33</td>\n",
       "      <td>0.014977</td>\n",
       "      <td>0.021541</td>\n",
       "      <td>0.982826</td>\n",
       "      <td>00:00</td>\n",
       "    </tr>\n",
       "    <tr>\n",
       "      <td>34</td>\n",
       "      <td>0.014828</td>\n",
       "      <td>0.021357</td>\n",
       "      <td>0.982336</td>\n",
       "      <td>00:00</td>\n",
       "    </tr>\n",
       "    <tr>\n",
       "      <td>35</td>\n",
       "      <td>0.014686</td>\n",
       "      <td>0.021184</td>\n",
       "      <td>0.982336</td>\n",
       "      <td>00:00</td>\n",
       "    </tr>\n",
       "    <tr>\n",
       "      <td>36</td>\n",
       "      <td>0.014549</td>\n",
       "      <td>0.021019</td>\n",
       "      <td>0.982336</td>\n",
       "      <td>00:00</td>\n",
       "    </tr>\n",
       "    <tr>\n",
       "      <td>37</td>\n",
       "      <td>0.014417</td>\n",
       "      <td>0.020864</td>\n",
       "      <td>0.982336</td>\n",
       "      <td>00:00</td>\n",
       "    </tr>\n",
       "    <tr>\n",
       "      <td>38</td>\n",
       "      <td>0.014290</td>\n",
       "      <td>0.020716</td>\n",
       "      <td>0.982336</td>\n",
       "      <td>00:00</td>\n",
       "    </tr>\n",
       "    <tr>\n",
       "      <td>39</td>\n",
       "      <td>0.014168</td>\n",
       "      <td>0.020576</td>\n",
       "      <td>0.982336</td>\n",
       "      <td>00:00</td>\n",
       "    </tr>\n",
       "  </tbody>\n",
       "</table>"
      ],
      "text/plain": [
       "<IPython.core.display.HTML object>"
      ]
     },
     "metadata": {},
     "output_type": "display_data"
    }
   ],
   "source": [
    "learn.fit(40, 0.1)"
   ]
  },
  {
   "cell_type": "code",
   "execution_count": 121,
   "id": "ca180f16-4e62-49d7-8fc6-f028f9661d6b",
   "metadata": {},
   "outputs": [
    {
     "data": {
      "image/png": "[encoded data removed]",
      "text/plain": [
       "<Figure size 640x480 with 1 Axes>"
      ]
     },
     "metadata": {},
     "output_type": "display_data"
    }
   ],
   "source": [
    "plt.plot(L(learn.recorder.values).itemgot(2));"
   ]
  },
  {
   "cell_type": "code",
   "execution_count": 122,
   "id": "ada932d9-0d2d-4a58-8ae2-6808585d2131",
   "metadata": {},
   "outputs": [
    {
     "data": {
      "text/plain": [
       "0.98233562707901"
      ]
     },
     "execution_count": 122,
     "metadata": {},
     "output_type": "execute_result"
    }
   ],
   "source": [
    "learn.recorder.values[-1][2]"
   ]
  },
  {
   "cell_type": "markdown",
   "id": "991b63da-e313-434a-8daa-c672f1d25d13",
   "metadata": {},
   "source": [
    "**Going Deeper**"
   ]
  },
  {
   "cell_type": "code",
   "execution_count": 129,
   "id": "3de6fd03-5d48-4839-9d63-396079f106ea",
   "metadata": {},
   "outputs": [
    {
     "data": {
      "text/html": [
       "\n",
       "<style>\n",
       "    /* Turns off some styling */\n",
       "    progress {\n",
       "        /* gets rid of default border in Firefox and Opera. */\n",
       "        border: none;\n",
       "        /* Needs to be in here for Safari polyfill so background images work as expected. */\n",
       "        background-size: auto;\n",
       "    }\n",
       "    progress:not([value]), progress:not([value])::-webkit-progress-bar {\n",
       "        background: repeating-linear-gradient(45deg, #7e7e7e, #7e7e7e 10px, #5c5c5c 10px, #5c5c5c 20px);\n",
       "    }\n",
       "    .progress-bar-interrupted, .progress-bar-interrupted::-webkit-progress-bar {\n",
       "        background: #F44336;\n",
       "    }\n",
       "</style>\n"
      ],
      "text/plain": [
       "<IPython.core.display.HTML object>"
      ]
     },
     "metadata": {},
     "output_type": "display_data"
    },
    {
     "data": {
      "text/html": [
       "<table border=\"1\" class=\"dataframe\">\n",
       "  <thead>\n",
       "    <tr style=\"text-align: left;\">\n",
       "      <th>epoch</th>\n",
       "      <th>train_loss</th>\n",
       "      <th>valid_loss</th>\n",
       "      <th>accuracy</th>\n",
       "      <th>time</th>\n",
       "    </tr>\n",
       "  </thead>\n",
       "  <tbody>\n",
       "    <tr>\n",
       "      <td>0</td>\n",
       "      <td>0.133994</td>\n",
       "      <td>0.020283</td>\n",
       "      <td>0.996565</td>\n",
       "      <td>02:06</td>\n",
       "    </tr>\n",
       "  </tbody>\n",
       "</table>"
      ],
      "text/plain": [
       "<IPython.core.display.HTML object>"
      ]
     },
     "metadata": {},
     "output_type": "display_data"
    }
   ],
   "source": [
    "dls = ImageDataLoaders.from_folder(path)\n",
    "learn = vision_learner(dls, resnet18, pretrained=False,\n",
    "                    loss_func=F.cross_entropy, metrics=accuracy)\n",
    "learn.fit_one_cycle(1, 0.1)"
   ]
  }
 ],
 "metadata": {
  "kernelspec": {
   "display_name": "Python 3 (ipykernel)",
   "language": "python",
   "name": "python3"
  },
  "language_info": {
   "codemirror_mode": {
    "name": "ipython",
    "version": 3
   },
   "file_extension": ".py",
   "mimetype": "text/x-python",
   "name": "python",
   "nbconvert_exporter": "python",
   "pygments_lexer": "ipython3",
   "version": "3.12.8"
  }
 },
 "nbformat": 4,
 "nbformat_minor": 5
}
